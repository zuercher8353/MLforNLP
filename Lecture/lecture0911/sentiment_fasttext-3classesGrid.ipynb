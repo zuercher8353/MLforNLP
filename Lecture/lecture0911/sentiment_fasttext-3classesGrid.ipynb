{
 "cells": [
  {
   "cell_type": "markdown",
   "metadata": {},
   "source": [
    "## Predicting the polarity of a  word\n",
    "\n",
    "* use a polarity lexicon with positive, negative and neutral words\n",
    "* take 60% for training\n",
    "* use word embeddings as features\n",
    "\n",
    "* test traditional ML and MLP\n",
    "* result SVM (non-linear support vector machine) and MLP are on par\n",
    "\n",
    "* use grid search to optimize hyperparameter\n",
    "\n",
    "\n",
    "* t-test comparing 2 ML approaches\n",
    "\n",
    "\n",
    "\n",
    "* non-representative data harms\n",
    "    * we learn a model with little neutral words\n",
    "    * we test the model with twice as many neutral words\n",
    "    * depending on the approach, accuracy drops by 4%\n",
    "    \n",
    " \n",
    "**NOTE: each run produces other results, the best ML approach might thus vary (the description in the test might be wrong, then** "
   ]
  },
  {
   "cell_type": "code",
   "execution_count": 1,
   "metadata": {},
   "outputs": [],
   "source": [
    "# get the fasttext embeddings \n",
    "\n",
    "#import torch\n",
    "import numpy as np\n",
    "\n",
    "def load_emb_from_file(filepath):\n",
    "\n",
    "    word_to_index = {}\n",
    "    embeddings = []\n",
    "    with open(filepath, \"r\") as fp:\n",
    "        for index, line in enumerate(fp):\n",
    "            line = line.split(\" \") # each line: word num1 num2 ...\n",
    "            word_to_index[line[0]] = index # word = line[0] \n",
    "            embedding_i = np.array([float(val) for val in line[1:]])\n",
    "            embeddings.append(embedding_i)\n",
    "    return word_to_index, embeddings"
   ]
  },
  {
   "cell_type": "code",
   "execution_count": 2,
   "metadata": {},
   "outputs": [],
   "source": [
    "# index, array of word embeddings\n",
    "\n",
    "widx,emb=load_emb_from_file(\"/home/klenner/Lehre/ml20/cc.de.300.vec\")"
   ]
  },
  {
   "cell_type": "code",
   "execution_count": 3,
   "metadata": {},
   "outputs": [
    {
     "name": "stdout",
     "output_type": "stream",
     "text": [
      "distribution train (pos,neg,neut) (0.3076203833567087, 0.5535296867695184, 0.1388499298737728)\n",
      "distribution test (pos,neg,neut) (0.31157894736842107, 0.5445614035087719, 0.14385964912280702)\n",
      "\n",
      "\n",
      "out of voc = 322 and additional neutrals = 699\n"
     ]
    }
   ],
   "source": [
    "import pandas as pd\n",
    "from sklearn.utils import shuffle\n",
    "\n",
    "# data of learning task: polarity lexicon for German\n",
    "polex=pd.read_csv(\"/home/klenner/Lehre/ml20/polexNeutNomen\",header=None,\n",
    "                  index_col=[0,1],usecols=[0,1],names=['lemma', 'pol'])\n",
    "\n",
    "#polex=pd.read_csv(\"/home/klenner/applications/jupyter/rnn-notebook/word_majority_label_ag.tsv\",header=None,\n",
    "#                  index_col=[0,1],usecols=[0,1],names=['lemma', 'pol'])\n",
    "\n",
    "ids=[]     # gather all embedding indices\n",
    "index={}   # map index to polarity\n",
    "oov=0      # out of vocabolary counter\n",
    "number_neut=0\n",
    "index_neut=[]\n",
    "max_neut=500\n",
    "\n",
    "for (l,p),_ in polex.iterrows():  # (lemma,polarity) pairs\n",
    "    try:\n",
    "        id=widx[l]  \n",
    "        if p=='POS' or p=='PRO':\n",
    "            index[id]=1     # id is the word2vec index of lemma l\n",
    "            ids.append(id)  # all ids for data split below\n",
    "        elif p=='NEG' or p=='CON':\n",
    "            index[id]=0\n",
    "            ids.append(id)\n",
    "        else:\n",
    "            number_neut+=1\n",
    "            if number_neut < max_neut:\n",
    "                index[id]=2\n",
    "                ids.append(id)\n",
    "            else:\n",
    "                index_neut.append(id)  # held out split of neutral nouns\n",
    "    except:\n",
    "        oov+=1\n",
    "        pass\n",
    "\n",
    "np.random.shuffle(ids)                    # random modifies ids directly\n",
    "noun=[(id,index[id]) for id in ids]       # create input pairs: (word2vecID,polarity)\n",
    "\n",
    "corpus_len=len(ids)\n",
    "trainsplit= int(corpus_len*0.6)\n",
    "                \n",
    "# split in train and test\n",
    "train=noun[:trainsplit]\n",
    "test=noun[trainsplit+1:]\n",
    "\n",
    "def distribution(set):\n",
    "    pos=[1 for l,p in set if p == 1]\n",
    "    neg=[1 for l,p in set if p == 0]\n",
    "    neut=[1 for l,p in set if p == 2]\n",
    "    all=len(set)\n",
    "\n",
    "    return (len(pos)/all, len(neg)/all, len(neut)/all)\n",
    "\n",
    "\n",
    "print(\"distribution train (pos,neg,neut)\", distribution(train))\n",
    "print(\"distribution test (pos,neg,neut)\", distribution(test))\n",
    "\n",
    "print(\"\\n\\nout of voc =\",oov,\"and additional neutrals =\",len(index_neut))"
   ]
  },
  {
   "cell_type": "code",
   "execution_count": 8,
   "metadata": {},
   "outputs": [
    {
     "name": "stdout",
     "output_type": "stream",
     "text": [
      "distribution train (pos,neg,neut) (0.3076203833567087, 0.5535296867695184, 0.1388499298737728)\n",
      "distribution augmentet test (pos,neg,neut) (0.20903954802259886, 0.3653483992467043, 0.4256120527306968)\n"
     ]
    }
   ],
   "source": [
    "from sklearn.metrics import precision_score\n",
    "from sklearn.metrics import recall_score\n",
    "from sklearn.metrics import f1_score \n",
    "from sklearn.metrics import accuracy_score\n",
    "\n",
    "from sklearn import tree\n",
    "\n",
    "# create input for sklearn algorithms\n",
    "X_train = [emb[index] for (index,_) in train]\n",
    "y_train = [label for (_,label) in train]\n",
    "\n",
    "# we add more neutral examples to the test set\n",
    "# we thereby simulate the situtation that our training set was not representive\n",
    "X_test_neut = [emb[index] for (index,_) in test]+[emb[index] for index in index_neut]\n",
    "y_test_neut =  [label for (_,label) in test]+[2 for index in index_neut]\n",
    "\n",
    "X_test = [emb[index] for (index,_) in test]\n",
    "y_test =  [label for (_,label) in test]\n",
    "\n",
    "def distribution_list(set):\n",
    "    pos=[1 for p in set if p == 1]\n",
    "    neg=[1 for p in set if p == 0]\n",
    "    neut=[1 for p in set if p == 2]\n",
    "    all=len(set)\n",
    "\n",
    "    return (len(pos)/all, len(neg)/all, len(neut)/all)\n",
    "\n",
    "print(\"distribution train (pos,neg,neut)\", distribution(train))\n",
    "print(\"distribution augmentet test (pos,neg,neut)\", distribution_list(y_test_neut))"
   ]
  },
  {
   "cell_type": "code",
   "execution_count": 9,
   "metadata": {},
   "outputs": [
    {
     "name": "stdout",
     "output_type": "stream",
     "text": [
      "original neut\t 0.7108771929824561\n",
      "additional neut\t 0.6793785310734464\n"
     ]
    },
    {
     "data": {
      "text/plain": [
       "(array([0.7790404 , 0.62186788, 0.63402062]),\n",
       " array([0.79510309, 0.61486486, 0.6       ]),\n",
       " array([0.7869898 , 0.61834655, 0.61654135]))"
      ]
     },
     "execution_count": 9,
     "metadata": {},
     "output_type": "execute_result"
    }
   ],
   "source": [
    "clf = tree.DecisionTreeClassifier(criterion=\"entropy\")\n",
    "clf = clf.fit(X_train,y_train)\n",
    "\n",
    "# result of a model learned from a non-representative is worse \n",
    "\n",
    "# apply it to the test set that has the same distribution as the training set\n",
    "y_test_predict=clf.predict(X_test)\n",
    "print(\"original neut\\t\", accuracy_score(y_test,y_test_predict))\n",
    "\n",
    "y_test_predict_neut=clf.predict(X_test_neut)\n",
    "print(\"additional neut\\t\",accuracy_score(y_test_neut,y_test_predict_neut))\n",
    "\n",
    "\n",
    "precision_score(y_test,y_test_predict,average=None), recall_score(y_test,y_test_predict,average=None), f1_score(y_test,y_test_predict,average=None)"
   ]
  },
  {
   "cell_type": "markdown",
   "metadata": {},
   "source": [
    "### Output format\n",
    "\n",
    "             neg     pos        neut\n",
    "prec: (array([0.75745785, 0.58719647, 0.60504202]),\n",
    "\n",
    "~rec: array([0.7664042 , 0.59375   , 0.57142857]),\n",
    "\n",
    "~ ~f1: array([0.76190476, 0.59045505, 0.5877551 ]))"
   ]
  },
  {
   "cell_type": "code",
   "execution_count": null,
   "metadata": {},
   "outputs": [],
   "source": [
    "from sklearn.neighbors import KNeighborsClassifier\n",
    "\n",
    "neigh = KNeighborsClassifier(n_neighbors=5)\n",
    "neigh.fit(X_train,y_train)\n",
    "\n",
    "y_test_predict=neigh.predict(X_test)\n",
    "\n",
    "print(accuracy_score(y_test,y_test_predict))\n",
    "precision_score(y_test,y_test_predict,average=None), recall_score(y_test,y_test_predict,average=None), f1_score(y_test,y_test_predict,average=None)\n"
   ]
  },
  {
   "cell_type": "code",
   "execution_count": null,
   "metadata": {},
   "outputs": [],
   "source": [
    "from sklearn.linear_model import LogisticRegression\n",
    "\n",
    "clf = LogisticRegression(C=1000.0, solver= 'liblinear', random_state=0,multi_class='auto')\n",
    "clf.fit(X_train, y_train)\n",
    "\n",
    "y_test_predict=clf.predict(X_test)\n",
    "\n",
    "print(accuracy_score(y_test,y_test_predict))\n",
    "precision_score(y_test,y_test_predict,average=None), recall_score(y_test,y_test_predict,average=None), f1_score(y_test,y_test_predict,average=None)\n"
   ]
  },
  {
   "cell_type": "code",
   "execution_count": 12,
   "metadata": {},
   "outputs": [
    {
     "name": "stdout",
     "output_type": "stream",
     "text": [
      "0.72\n"
     ]
    }
   ],
   "source": [
    "clf = tree.DecisionTreeClassifier(criterion=\"entropy\")\n",
    "clf = clf.fit(X_train,y_train)\n",
    "\n",
    "# result of a model learned from a non-representative is worse \n",
    "y_test_predict=clf.predict(X_test)\n",
    "print(accuracy_score(y_test,y_test_predict))\n",
    "\n",
    "precision_score(y_test,y_test_predict,average=None), recall_score(y_test,y_test_predict,average=None), f1_score(y_test,y_test_predict,average=None)\n",
    "\n",
    "tp_dec=[int(y_test[i]==y_test_predict[i]) for i in range(0,len(y_test))]"
   ]
  },
  {
   "cell_type": "code",
   "execution_count": 13,
   "metadata": {},
   "outputs": [
    {
     "name": "stdout",
     "output_type": "stream",
     "text": [
      "0.888421052631579\n"
     ]
    }
   ],
   "source": [
    "from sklearn.linear_model import Perceptron\n",
    "\n",
    "clf = Perceptron(tol=1e-3)\n",
    "\n",
    "clf.fit(X_train, y_train)\n",
    "\n",
    "y_test_predict=clf.predict(X_test)\n",
    "\n",
    "print(accuracy_score(y_test,y_test_predict))\n",
    "precision_score(y_test,y_test_predict,average=None), recall_score(y_test,y_test_predict,average=None), f1_score(y_test,y_test_predict,average=None)\n",
    "\n",
    "# 1 if prediction is right, 0 otherwise\n",
    "# true positive dec\n",
    "tp_perceptron=[int(y_test[i]==y_test_predict[i]) for i in range(0,len(y_test))]"
   ]
  },
  {
   "cell_type": "code",
   "execution_count": 14,
   "metadata": {},
   "outputs": [
    {
     "name": "stdout",
     "output_type": "stream",
     "text": [
      "0.9143859649122807\n"
     ]
    }
   ],
   "source": [
    "from sklearn import svm\n",
    "\n",
    "clf2 = svm.SVC(kernel='linear', C=1.0, random_state=0)\n",
    "\n",
    "clf2.fit(X_train,y_train)\n",
    "\n",
    "y_test_predict=clf2.predict(X_test)\n",
    "\n",
    "print(accuracy_score(y_test, y_test_predict))\n",
    "# precision_score(y_test,y_test_predict,average=None), recall_score(y_test,y_test_predict,average=None), f1_score(y_test,y_test_predict,average=None)\n",
    "\n",
    "# true positive svm\n",
    "tp_svm=[int(y_test[i]==y_test_predict[i]) for i in range(0,len(y_test))]"
   ]
  },
  {
   "cell_type": "code",
   "execution_count": 16,
   "metadata": {},
   "outputs": [
    {
     "name": "stdout",
     "output_type": "stream",
     "text": [
      "99% of values are below 2.3289712732415597\n",
      "\n",
      " 15.309129340992792 is clearly higher than it; rejection of null hypothesis, i.e. svm is sign. better\n"
     ]
    }
   ],
   "source": [
    "# statistically significant differance between svm and decicison tree??\n",
    "#\n",
    "# t-test (one-sided, subtract lower from higher, thus look at the right side of the normal distribution)\n",
    "#\n",
    "# determine t_value from mean of differences/standard deviation\n",
    "# null hypothesis: no difference\n",
    "\n",
    "from scipy.stats import t\n",
    "# pairwise difference of svm and dec\n",
    "diff=np.array([tp_svm[i]-tp_dec[i] for i in range(0,len(y_test))])\n",
    "\n",
    "df=len(y_test)-1\n",
    "\n",
    "mean=np.mean(diff)\n",
    "std=np.std(diff,ddof=1)\n",
    "\n",
    "print(\"99% of values are below\",t.ppf(0.99,df-1)) \n",
    "\n",
    "diff = np.array(tp_svm)-np.array(tp_dec)\n",
    "\n",
    "t_val=mean/(std/np.sqrt(len(y_test)))\n",
    "\n",
    "print(\"\\n\",t_val,\"is clearly higher than it; rejection of null hypothesis, i.e. svm is sign. better\")"
   ]
  },
  {
   "cell_type": "code",
   "execution_count": 17,
   "metadata": {},
   "outputs": [
    {
     "data": {
      "image/png": "[encoded data removed]",
      "text/plain": [
       "<Figure size 432x288 with 1 Axes>"
      ]
     },
     "metadata": {
      "needs_background": "light"
     },
     "output_type": "display_data"
    }
   ],
   "source": [
    "from scipy.stats import t\n",
    "import matplotlib.pyplot as plt\n",
    "\n",
    "\n",
    "x = np.linspace(t.ppf(0.01, df),t.ppf(0.99, df), 100)\n",
    "plt.plot(x, t.pdf(x, df), 'r-', lw=3)\n",
    "\n",
    "\n",
    "plt.show()"
   ]
  },
  {
   "cell_type": "code",
   "execution_count": 18,
   "metadata": {},
   "outputs": [
    {
     "name": "stdout",
     "output_type": "stream",
     "text": [
      "99% (97.5%) of values are below 2.3289712732415597 1.9616324708209134\n",
      "\n",
      "t_val 3.348107823525538 is lower 99%; no rejection at alpha=1%, but higher 97.5% thus rejection at alpha=2.5%\n"
     ]
    }
   ],
   "source": [
    "# statistically significant difference between svm  perceptron??\n",
    "#\n",
    "# t-test (one-sided, subtract lower from higher, thus look at the right side of the normal distribution)\n",
    "\n",
    "# pairwise difference of svm and perceptron\n",
    "diff=np.array([tp_svm[i]-tp_perceptron[i] for i in range(0,len(y_test))])\n",
    "\n",
    "df=len(y_test)-1\n",
    "\n",
    "mean=np.mean(diff)\n",
    "std=np.std(diff,ddof=1)\n",
    "\n",
    "print(\"99% (97.5%) of values are below\", t.ppf(0.99,df-1),(t.ppf(0.975,df-1)))\n",
    "\n",
    "#diff = np.array(tp_svm)-np.array(tp_dec)\n",
    "\n",
    "t_val=mean/(std/np.sqrt(len(y_test)))\n",
    "\n",
    "print(\"\\nt_val\",t_val,\"is lower 99%; no rejection at alpha=1%, but higher 97.5% thus rejection at alpha=2.5%\")"
   ]
  },
  {
   "cell_type": "code",
   "execution_count": 10,
   "metadata": {},
   "outputs": [
    {
     "name": "stdout",
     "output_type": "stream",
     "text": [
      "additional neut\t 0.8935969868173258\n",
      "original neut\t 0.9157894736842105\n"
     ]
    }
   ],
   "source": [
    "from sklearn import svm\n",
    "\n",
    "clf4 = svm.SVC(kernel='rbf', random_state=0, gamma=0.10, C=10.0)\n",
    "\n",
    "clf4.fit(X_train,y_train)\n",
    "\n",
    "#precision_score(y_test,y_test_predict,average=None), recall_score(y_test,y_test_predict,average=None), f1_score(y_test,y_test_predict,average=None)\n",
    "\n",
    "y_test_predict_neut=clf4.predict(X_test_neut)\n",
    "print(\"additional neut\\t\",accuracy_score(y_test_neut,y_test_predict_neut))\n",
    "y_test_predict=clf4.predict(X_test)\n",
    "print(\"original neut\\t\", accuracy_score(y_test,y_test_predict))"
   ]
  },
  {
   "cell_type": "code",
   "execution_count": 11,
   "metadata": {},
   "outputs": [
    {
     "name": "stdout",
     "output_type": "stream",
     "text": [
      "[0.92875318 0.86425339 0.88832487] [0.94072165 0.86036036 0.85365854] [0.9346991  0.86230248 0.87064677]\n",
      "additional neut\t 0.885593220338983\n",
      "original neut\t 0.9031578947368422\n"
     ]
    }
   ],
   "source": [
    "from sklearn.neural_network import MLPClassifier\n",
    "\n",
    "clf = MLPClassifier(solver='adam', alpha=1e-5, activation='relu',\n",
    "                    hidden_layer_sizes=(300,10), random_state=1,validation_fraction=0.2,early_stopping=False)\n",
    "                  \n",
    "clf.fit(X_train, y_train)\n",
    "\n",
    "y_test_predict=clf.predict(X_test)\n",
    "\n",
    "print(precision_score(y_test,y_test_predict,average=None), recall_score(y_test,y_test_predict,average=None), f1_score(y_test,y_test_predict,average=None))\n",
    "\n",
    "y_test_predict_neut=clf.predict(X_test_neut)\n",
    "print(\"additional neut\\t\",accuracy_score(y_test_neut,y_test_predict_neut))\n",
    "y_test_predict=clf.predict(X_test)\n",
    "print(\"original neut\\t\", accuracy_score(y_test,y_test_predict))\n"
   ]
  },
  {
   "cell_type": "code",
   "execution_count": 5,
   "metadata": {},
   "outputs": [
    {
     "name": "stdout",
     "output_type": "stream",
     "text": [
      "[0.55035461 0.8        0.8       ] [1.         0.01801802 0.0195122 ] [0.70997255 0.03524229 0.03809524]\n"
     ]
    },
    {
     "data": {
      "text/plain": [
       "0.5529824561403509"
      ]
     },
     "execution_count": 5,
     "metadata": {},
     "output_type": "execute_result"
    }
   ],
   "source": [
    "from sklearn.linear_model import SGDClassifier\n",
    "#sgd=SGDClassifier(random_state=42, max_iter=5)\n",
    "sgd=SGDClassifier(random_state=42,loss='log', alpha=0.01,max_iter=5)\n",
    "\n",
    "sgd.fit(X_train,y_train)\n",
    "\n",
    "y_test_predict=sgd.predict(X_test)\n",
    "\n",
    "print(precision_score(y_test,y_test_predict,average=None), recall_score(y_test,y_test_predict,average=None), f1_score(y_test,y_test_predict,average=None))\n",
    "accuracy_score(y_test,y_test_predict)"
   ]
  },
  {
   "cell_type": "code",
   "execution_count": 6,
   "metadata": {},
   "outputs": [
    {
     "data": {
      "text/plain": [
       "{'alpha': 0.0001, 'loss': 'hinge', 'max_iter': 20}"
      ]
     },
     "execution_count": 6,
     "metadata": {},
     "output_type": "execute_result"
    }
   ],
   "source": [
    "# search the hyperparameter of a ML approach for the optimal combination\n",
    "\n",
    "from sklearn.model_selection import GridSearchCV\n",
    "\n",
    "def svc_param_selection(X, y, nfolds):\n",
    "    loss= ['hinge', 'log', 'modified_huber','squared_hinge', 'perceptron']\n",
    "    alpha=[0.5,0.1,0.01,0.001,0.0001]\n",
    "    maxiter=[1,4,5,10,11,12,15,20]\n",
    "    param_grid = {'loss': loss,'alpha':alpha,'max_iter':maxiter}\n",
    "    grid_search = GridSearchCV(sgd, param_grid, cv=nfolds, n_jobs=-1)\n",
    "    grid_search.fit(X, y)\n",
    "    grid_search.best_params_\n",
    "    return grid_search.best_params_\n",
    "\n",
    "p=svc_param_selection(X_train,y_train,5)\n",
    "p"
   ]
  },
  {
   "cell_type": "code",
   "execution_count": 7,
   "metadata": {},
   "outputs": [
    {
     "data": {
      "text/plain": [
       "0.9171929824561403"
      ]
     },
     "execution_count": 7,
     "metadata": {},
     "output_type": "execute_result"
    }
   ],
   "source": [
    "sgd=SGDClassifier(random_state=42,loss='hinge', alpha=0.0001,max_iter=20)\n",
    "\n",
    "sgd.fit(X_train,y_train)\n",
    "\n",
    "y_test_predict=sgd.predict(X_test)\n",
    "\n",
    "accuracy_score(y_test,y_test_predict)"
   ]
  },
  {
   "cell_type": "code",
   "execution_count": null,
   "metadata": {},
   "outputs": [],
   "source": [
    "from sklearn.model_selection import GridSearchCV\n",
    "\n",
    "def svc_param_selection(X, y, nfolds):\n",
    "    activation= ['tanh','relu']\n",
    "    alpha=[0.5,0.1,0.01,0.001,0.0001]\n",
    "    solver=['lbfgs', 'sgd', 'adam']\n",
    "    early_stopping=[False,True]\n",
    "    param_grid = {'activation': activation,'alpha':alpha,'solver':solver,'early_stopping':early_stopping}\n",
    "    grid_search = GridSearchCV(clf, param_grid, cv=nfolds, n_jobs=-1)\n",
    "    grid_search.fit(X, y)\n",
    "    grid_search.best_params_\n",
    "    return grid_search.best_params_\n",
    "\n",
    "p=svc_param_selection(X_train,y_train,5)\n",
    "p"
   ]
  },
  {
   "cell_type": "code",
   "execution_count": null,
   "metadata": {},
   "outputs": [],
   "source": [
    "def svc_param_selection(X, y, nfolds):\n",
    "    hidden_layer_sizes=[(200,10),(300,10),(200,50),(300,100),(200,100)]\n",
    "    activation= ['relu']\n",
    "    solver=['adam']\n",
    "    alpha=[0.1]\n",
    "    early_stopping=[True]\n",
    "    param_grid = {'hidden_layer_sizes':hidden_layer_sizes,'activation': activation,'alpha':alpha,'solver':solver,'early_stopping':early_stopping}\n",
    "    grid_search = GridSearchCV(clf, param_grid, cv=nfolds, n_jobs=-1)\n",
    "    grid_search.fit(X, y)\n",
    "    grid_search.best_params_\n",
    "    return grid_search.best_params_\n",
    "\n",
    "p=svc_param_selection(X_train,y_train,5)\n",
    "p"
   ]
  },
  {
   "cell_type": "code",
   "execution_count": 23,
   "metadata": {},
   "outputs": [
    {
     "name": "stdout",
     "output_type": "stream",
     "text": [
      "[0.92546584 0.89411765 0.93333333] [0.96005155 0.85585586 0.88780488] [0.94244149 0.87456847 0.91      ]\n"
     ]
    },
    {
     "data": {
      "text/plain": [
       "0.9171929824561403"
      ]
     },
     "execution_count": 23,
     "metadata": {},
     "output_type": "execute_result"
    }
   ],
   "source": [
    "# optimized settings\n",
    "\n",
    "mlp = MLPClassifier(solver='adam', alpha=1e-5, activation='relu',\n",
    "                    hidden_layer_sizes=(300,10), random_state=1,validation_fraction=0.2,early_stopping=True)\n",
    "                  \n",
    "mlp.fit(X_train, y_train)\n",
    "\n",
    "y_test_predict=clf.predict(X_test)\n",
    "\n",
    "print(precision_score(y_test,y_test_predict,average=None), recall_score(y_test,y_test_predict,average=None), f1_score(y_test,y_test_predict,average=None))\n",
    "\n",
    "accuracy_score(y_test,y_test_predict)"
   ]
  }
 ],
 "metadata": {
  "kernelspec": {
   "display_name": "Python 3",
   "language": "python",
   "name": "python3"
  },
  "language_info": {
   "codemirror_mode": {
    "name": "ipython",
    "version": 3
   },
   "file_extension": ".py",
   "mimetype": "text/x-python",
   "name": "python",
   "nbconvert_exporter": "python",
   "pygments_lexer": "ipython3",
   "version": "3.6.12"
  }
 },
 "nbformat": 4,
 "nbformat_minor": 2
}

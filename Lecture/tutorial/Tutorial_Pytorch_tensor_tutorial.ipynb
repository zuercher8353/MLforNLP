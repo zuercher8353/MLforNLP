{
  "nbformat": 4,
  "nbformat_minor": 0,
  "metadata": {
    "language_info": {
      "codemirror_mode": {
        "name": "ipython",
        "version": 3
      },
      "file_extension": ".py",
      "mimetype": "text/x-python",
      "name": "python",
      "nbconvert_exporter": "python",
      "pygments_lexer": "ipython3",
      "version": "3.7.4-final"
    },
    "orig_nbformat": 2,
    "kernelspec": {
      "name": "Python 3.7.4 64-bit ('base': conda)",
      "display_name": "Python 3.7.4 64-bit ('base': conda)",
      "metadata": {
        "interpreter": {
          "hash": "de75507a13f67a46576c64c0bbef4d1a0dd3dc22c8dc55a907d432509b130a9d"
        }
      }
    },
    "colab": {
      "name": "tensor_tutorial.ipynb",
      "provenance": []
    },
    "accelerator": "GPU"
  },
  "cells": [
    {
      "cell_type": "code",
      "metadata": {
        "id": "CWjNMwNtFaMd"
      },
      "source": [
        "import torch"
      ],
      "execution_count": 2,
      "outputs": []
    },
    {
      "cell_type": "code",
      "metadata": {
        "id": "-o4lvP9RkI7D",
        "outputId": "b0eded51-8590-4785-b6e3-eab7ce2faffd",
        "colab": {
          "base_uri": "https://localhost:8080/",
          "height": 207
        }
      },
      "source": [
        "!pip install gpytorch"
      ],
      "execution_count": 4,
      "outputs": [
        {
          "output_type": "stream",
          "text": [
            "Collecting gpytorch\n",
            "\u001b[?25l  Downloading https://files.pythonhosted.org/packages/6f/2f/6343548d88284ebf18d241dee12d0975cd7dbdee63c0fb749b23c8f536a1/gpytorch-1.2.0.tar.gz (274kB)\n",
            "\u001b[K     |████████████████████████████████| 276kB 2.7MB/s \n",
            "\u001b[?25hBuilding wheels for collected packages: gpytorch\n",
            "  Building wheel for gpytorch (setup.py) ... \u001b[?25l\u001b[?25hdone\n",
            "  Created wheel for gpytorch: filename=gpytorch-1.2.0-py2.py3-none-any.whl size=459510 sha256=a8b1fd2f6d10e67dc92ba27cac3ed6d5c78d3b5a57376433d8633321ecc14af9\n",
            "  Stored in directory: /root/.cache/pip/wheels/e8/eb/36/f415815e8a8b66c1f1d5a3534718c39c2d83501051f1ab604e\n",
            "Successfully built gpytorch\n",
            "Installing collected packages: gpytorch\n",
            "Successfully installed gpytorch-1.2.0\n"
          ],
          "name": "stdout"
        }
      ]
    },
    {
      "cell_type": "code",
      "metadata": {
        "id": "KzA4CB3ZgpYo",
        "outputId": "5e29d50a-34cf-49f3-aef0-2f9ada1d93de",
        "colab": {
          "base_uri": "https://localhost:8080/",
          "height": 34
        }
      },
      "source": [
        "x=5\n",
        "print(x)"
      ],
      "execution_count": null,
      "outputs": [
        {
          "output_type": "stream",
          "text": [
            "5\n"
          ],
          "name": "stdout"
        }
      ]
    },
    {
      "cell_type": "code",
      "metadata": {
        "id": "my9lcoaYFaMh"
      },
      "source": [
        "a = torch.empty(5, 7, dtype=torch.float)"
      ],
      "execution_count": 3,
      "outputs": []
    },
    {
      "cell_type": "code",
      "metadata": {
        "id": "mbMfgGwAgtML",
        "outputId": "0a237d40-50ad-4718-b944-cb0171233f5a",
        "colab": {
          "base_uri": "https://localhost:8080/",
          "height": 187
        }
      },
      "source": [
        "print(a)"
      ],
      "execution_count": null,
      "outputs": [
        {
          "output_type": "stream",
          "text": [
            "tensor([[2.4898e-36, 0.0000e+00, 0.0000e+00, 0.0000e+00, 0.0000e+00, 0.0000e+00,\n",
            "         0.0000e+00],\n",
            "        [0.0000e+00, 0.0000e+00, 0.0000e+00, 0.0000e+00, 0.0000e+00, 0.0000e+00,\n",
            "         0.0000e+00],\n",
            "        [0.0000e+00, 0.0000e+00, 0.0000e+00, 0.0000e+00, 0.0000e+00, 0.0000e+00,\n",
            "         0.0000e+00],\n",
            "        [0.0000e+00, 0.0000e+00, 0.0000e+00, 0.0000e+00, 0.0000e+00, 0.0000e+00,\n",
            "         0.0000e+00],\n",
            "        [0.0000e+00, 0.0000e+00, 0.0000e+00, 0.0000e+00, 0.0000e+00, 0.0000e+00,\n",
            "         0.0000e+00]])\n"
          ],
          "name": "stdout"
        }
      ]
    },
    {
      "cell_type": "code",
      "metadata": {
        "tags": [],
        "id": "JMGga57IFaMk",
        "outputId": "e3fb68fd-27f2-42bb-9c5a-6e4350245811",
        "colab": {
          "base_uri": "https://localhost:8080/",
          "height": 136
        }
      },
      "source": [
        "a = torch.randn(5, 7, dtype=torch.double)\n",
        "print(a)\n",
        "print(a.size())"
      ],
      "execution_count": 5,
      "outputs": [
        {
          "output_type": "stream",
          "text": [
            "tensor([[-0.9307,  0.0591,  1.9318, -0.5151, -0.0478,  1.3850,  1.3112],\n",
            "        [-2.0459, -0.1369,  1.5296, -0.6615, -0.6916,  0.9625,  0.4747],\n",
            "        [-0.2460,  0.8230,  1.2171,  0.7871,  0.0869, -0.1864,  0.4002],\n",
            "        [-0.2316,  1.4442, -0.0954, -0.7905,  1.0166, -1.5203,  1.4065],\n",
            "        [ 0.1348,  1.6787, -0.7519,  0.3652,  0.5576, -0.4399, -0.0858]],\n",
            "       dtype=torch.float64)\n",
            "torch.Size([5, 7])\n"
          ],
          "name": "stdout"
        }
      ]
    },
    {
      "cell_type": "markdown",
      "metadata": {
        "id": "Bsc5-ZUfGi1t"
      },
      "source": [
        "# Inplace / Out-of-place\n",
        "The first difference is that ALL operations on the tensor that operate in-place on it will have an _ postfix. For example, add is the out-of-place version, and add_ is the in-place version."
      ]
    },
    {
      "cell_type": "code",
      "metadata": {
        "id": "hXalfnCEGijq",
        "outputId": "444ebcf7-8b92-4053-f7bd-8e583c82c364",
        "colab": {
          "base_uri": "https://localhost:8080/",
          "height": 204
        }
      },
      "source": [
        "a.fill_(3.5)\n",
        "# a has now been filled with the value 3.5\n",
        "\n",
        "b = a.add(4.0)\n",
        "# a is still filled with 3.5\n",
        "# new tensor b is returned with values 3.5 + 4.0 = 7.5\n",
        "\n",
        "print(a, b)"
      ],
      "execution_count": 6,
      "outputs": [
        {
          "output_type": "stream",
          "text": [
            "tensor([[3.5000, 3.5000, 3.5000, 3.5000, 3.5000, 3.5000, 3.5000],\n",
            "        [3.5000, 3.5000, 3.5000, 3.5000, 3.5000, 3.5000, 3.5000],\n",
            "        [3.5000, 3.5000, 3.5000, 3.5000, 3.5000, 3.5000, 3.5000],\n",
            "        [3.5000, 3.5000, 3.5000, 3.5000, 3.5000, 3.5000, 3.5000],\n",
            "        [3.5000, 3.5000, 3.5000, 3.5000, 3.5000, 3.5000, 3.5000]],\n",
            "       dtype=torch.float64) tensor([[7.5000, 7.5000, 7.5000, 7.5000, 7.5000, 7.5000, 7.5000],\n",
            "        [7.5000, 7.5000, 7.5000, 7.5000, 7.5000, 7.5000, 7.5000],\n",
            "        [7.5000, 7.5000, 7.5000, 7.5000, 7.5000, 7.5000, 7.5000],\n",
            "        [7.5000, 7.5000, 7.5000, 7.5000, 7.5000, 7.5000, 7.5000],\n",
            "        [7.5000, 7.5000, 7.5000, 7.5000, 7.5000, 7.5000, 7.5000]],\n",
            "       dtype=torch.float64)\n"
          ],
          "name": "stdout"
        }
      ]
    },
    {
      "cell_type": "markdown",
      "metadata": {
        "id": "Do7mZravGwKW"
      },
      "source": [
        "# Zero Indexing"
      ]
    },
    {
      "cell_type": "code",
      "metadata": {
        "id": "dDBc90TAFaMn",
        "outputId": "5df09546-798d-4775-fbdf-1b045fa7a9f9",
        "colab": {
          "base_uri": "https://localhost:8080/",
          "height": 34
        }
      },
      "source": [
        "b = a[0, 3]  # select 1st row, 4th column from a\n",
        "print(b)"
      ],
      "execution_count": 7,
      "outputs": [
        {
          "output_type": "stream",
          "text": [
            "tensor(3.5000, dtype=torch.float64)\n"
          ],
          "name": "stdout"
        }
      ]
    },
    {
      "cell_type": "code",
      "metadata": {
        "id": "NEMWY3KNG1Pa",
        "outputId": "f3b3d57a-0cb0-4d16-e6b6-8e23dc7ade49",
        "colab": {
          "base_uri": "https://localhost:8080/",
          "height": 102
        }
      },
      "source": [
        "b = a[:, 3:5]  # selects all rows, 4th column and  5th column from a\n",
        "print(b)"
      ],
      "execution_count": 8,
      "outputs": [
        {
          "output_type": "stream",
          "text": [
            "tensor([[3.5000, 3.5000],\n",
            "        [3.5000, 3.5000],\n",
            "        [3.5000, 3.5000],\n",
            "        [3.5000, 3.5000],\n",
            "        [3.5000, 3.5000]], dtype=torch.float64)\n"
          ],
          "name": "stdout"
        }
      ]
    },
    {
      "cell_type": "markdown",
      "metadata": {
        "id": "ikdLQu3hHJpy"
      },
      "source": [
        "# Creating Tensors"
      ]
    },
    {
      "cell_type": "code",
      "metadata": {
        "id": "8YmQ9WyfG7fV",
        "outputId": "878e7674-cfd5-4e68-ce82-60fe89d43e7a",
        "colab": {
          "base_uri": "https://localhost:8080/",
          "height": 102
        }
      },
      "source": [
        "x = torch.ones(5, 5)\n",
        "print(x)"
      ],
      "execution_count": 9,
      "outputs": [
        {
          "output_type": "stream",
          "text": [
            "tensor([[1., 1., 1., 1., 1.],\n",
            "        [1., 1., 1., 1., 1.],\n",
            "        [1., 1., 1., 1., 1.],\n",
            "        [1., 1., 1., 1., 1.],\n",
            "        [1., 1., 1., 1., 1.]])\n"
          ],
          "name": "stdout"
        }
      ]
    },
    {
      "cell_type": "code",
      "metadata": {
        "id": "p6GyylwTHNtR",
        "outputId": "cbc1e458-6ce2-4072-9357-2fc9a42ba8df",
        "colab": {
          "base_uri": "https://localhost:8080/",
          "height": 102
        }
      },
      "source": [
        "z = torch.empty(5, 2)\n",
        "z[:, 0] = 10\n",
        "z[:, 1] = 100\n",
        "print(z)"
      ],
      "execution_count": 10,
      "outputs": [
        {
          "output_type": "stream",
          "text": [
            "tensor([[ 10., 100.],\n",
            "        [ 10., 100.],\n",
            "        [ 10., 100.],\n",
            "        [ 10., 100.],\n",
            "        [ 10., 100.]])\n"
          ],
          "name": "stdout"
        }
      ]
    },
    {
      "cell_type": "markdown",
      "metadata": {
        "id": "wk87c3p1HjAm"
      },
      "source": [
        "# Numpy Bridge\n",
        "Converting a torch Tensor to a numpy array and vice versa is a breeze. The torch Tensor and numpy array will share their underlying memory locations, and changing one will change the other."
      ]
    },
    {
      "cell_type": "code",
      "metadata": {
        "id": "qm5FV7SLHVTz",
        "outputId": "1b3dcd2e-1cad-4fd8-aa63-a470937124bf",
        "colab": {
          "base_uri": "https://localhost:8080/",
          "height": 34
        }
      },
      "source": [
        "a = torch.ones(5)\n",
        "print(a)"
      ],
      "execution_count": 11,
      "outputs": [
        {
          "output_type": "stream",
          "text": [
            "tensor([1., 1., 1., 1., 1.])\n"
          ],
          "name": "stdout"
        }
      ]
    },
    {
      "cell_type": "code",
      "metadata": {
        "id": "QqaSpX06HniE",
        "outputId": "4eff67cd-9151-4e63-8d0a-5f1559d28256",
        "colab": {
          "base_uri": "https://localhost:8080/",
          "height": 34
        }
      },
      "source": [
        "b = a.numpy()\n",
        "print(b)"
      ],
      "execution_count": 12,
      "outputs": [
        {
          "output_type": "stream",
          "text": [
            "[1. 1. 1. 1. 1.]\n"
          ],
          "name": "stdout"
        }
      ]
    },
    {
      "cell_type": "code",
      "metadata": {
        "id": "67C_icQ9Hpz0",
        "outputId": "303ea917-5598-47de-cd02-ecc739057425",
        "colab": {
          "base_uri": "https://localhost:8080/",
          "height": 51
        }
      },
      "source": [
        "a.add_(1)\n",
        "print(a)\n",
        "print(b)    # see how the numpy array changed in value"
      ],
      "execution_count": 13,
      "outputs": [
        {
          "output_type": "stream",
          "text": [
            "tensor([2., 2., 2., 2., 2.])\n",
            "[2. 2. 2. 2. 2.]\n"
          ],
          "name": "stdout"
        }
      ]
    },
    {
      "cell_type": "markdown",
      "metadata": {
        "id": "U_GbycOrIKmM"
      },
      "source": [
        "## Converting numpy Array to torch Tensor"
      ]
    },
    {
      "cell_type": "code",
      "metadata": {
        "id": "Y0ZotN0ZH4BA",
        "outputId": "10ac3471-718f-4638-8b72-cc2fae9ed984",
        "colab": {
          "base_uri": "https://localhost:8080/",
          "height": 51
        }
      },
      "source": [
        "import numpy as np\n",
        "a = np.ones(5)\n",
        "b = torch.from_numpy(a)\n",
        "np.add(a, 1, out=a)\n",
        "print(a)\n",
        "print(b)  # see how changing the np array changed the torch Tensor automatically"
      ],
      "execution_count": 14,
      "outputs": [
        {
          "output_type": "stream",
          "text": [
            "[2. 2. 2. 2. 2.]\n",
            "tensor([2., 2., 2., 2., 2.], dtype=torch.float64)\n"
          ],
          "name": "stdout"
        }
      ]
    },
    {
      "cell_type": "markdown",
      "metadata": {
        "id": "TLCr5NGAIY_o"
      },
      "source": [
        "# CUDA Tensors\n",
        "CUDA Tensors are nice and easy in pytorch, and transfering a CUDA tensor from the CPU to GPU will retain its underlying type."
      ]
    },
    {
      "cell_type": "code",
      "metadata": {
        "id": "imcJBw08IPnd",
        "outputId": "8166d27a-4d6d-4950-b43a-200a110f5917",
        "colab": {
          "base_uri": "https://localhost:8080/",
          "height": 34
        }
      },
      "source": [
        "# let us run this cell only if CUDA is available\n",
        "a = torch.ones(1,10)\n",
        "if torch.cuda.is_available():\n",
        "\n",
        "    # creates a LongTensor and transfers it\n",
        "    # to GPU as torch.cuda.LongTensor\n",
        "    a = torch.ones((10,), device=torch.device(\"cuda\"))\n",
        "    print(type(a))\n",
        "    b = a.to(torch.device(\"cpu\"))\n",
        "    # transfers it to CPU, back to\n",
        "    # being a torch.LongTensor"
      ],
      "execution_count": 15,
      "outputs": [
        {
          "output_type": "stream",
          "text": [
            "<class 'torch.Tensor'>\n"
          ],
          "name": "stdout"
        }
      ]
    },
    {
      "cell_type": "code",
      "metadata": {
        "id": "QE9y5iCtJGK2",
        "outputId": "492bdb06-f8b4-4388-99c0-53c078745525",
        "colab": {
          "base_uri": "https://localhost:8080/",
          "height": 34
        }
      },
      "source": [
        "a"
      ],
      "execution_count": 16,
      "outputs": [
        {
          "output_type": "execute_result",
          "data": {
            "text/plain": [
              "tensor([1., 1., 1., 1., 1., 1., 1., 1., 1., 1.], device='cuda:0')"
            ]
          },
          "metadata": {
            "tags": []
          },
          "execution_count": 16
        }
      ]
    },
    {
      "cell_type": "code",
      "metadata": {
        "id": "hK-bqHUXjOlk",
        "outputId": "599de6a0-5ab4-4b60-af8e-6d2bacde45d0",
        "colab": {
          "base_uri": "https://localhost:8080/",
          "height": 34
        }
      },
      "source": [
        "b"
      ],
      "execution_count": 17,
      "outputs": [
        {
          "output_type": "execute_result",
          "data": {
            "text/plain": [
              "tensor([1., 1., 1., 1., 1., 1., 1., 1., 1., 1.])"
            ]
          },
          "metadata": {
            "tags": []
          },
          "execution_count": 17
        }
      ]
    },
    {
      "cell_type": "code",
      "metadata": {
        "id": "5GsLThSblMAh"
      },
      "source": [
        ""
      ],
      "execution_count": null,
      "outputs": []
    }
  ]
}
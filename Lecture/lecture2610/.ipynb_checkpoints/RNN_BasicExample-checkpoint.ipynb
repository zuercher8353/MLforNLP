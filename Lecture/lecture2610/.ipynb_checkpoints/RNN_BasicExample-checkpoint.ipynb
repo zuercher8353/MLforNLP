{
 "cells": [
  {
   "cell_type": "markdown",
   "metadata": {},
   "source": [
    "many thanks to: \n",
    "    \n",
    "    https://medium.com/analytics-vidhya/understanding-rnn-implementation-in-pytorch-eefdfdb4afdb\n",
    "    \n",
    "for a very good introduction to RNNs\n"
   ]
  },
  {
   "cell_type": "code",
   "execution_count": null,
   "metadata": {
    "colab": {},
    "colab_type": "code",
    "id": "cDur3CYiI0mP"
   },
   "outputs": [],
   "source": [
    "import torch\n",
    "\n",
    "from torch.nn.utils.rnn import pack_padded_sequence, pad_packed_sequence, PackedSequence\n",
    "from torch import nn\n",
    "\n",
    "from torch import Tensor, dot, matmul\n",
    "\n",
    "import torch.nn.functional as F"
   ]
  },
  {
   "cell_type": "markdown",
   "metadata": {
    "Collapsed": "false",
    "colab_type": "text",
    "id": "ZBKTjysMK8oO"
   },
   "source": [
    "## **Basic Example**"
   ]
  },
  {
   "cell_type": "code",
   "execution_count": null,
   "metadata": {
    "colab": {},
    "colab_type": "code",
    "id": "7Oe7MDxcI3X5"
   },
   "outputs": [],
   "source": [
    "seq = torch.FloatTensor([[3, 4, 5]])  "
   ]
  },
  {
   "cell_type": "code",
   "execution_count": null,
   "metadata": {
    "colab": {},
    "colab_type": "code",
    "id": "lddRe7nqJgVW"
   },
   "outputs": [],
   "source": [
    "# Defining a basic RNN layer\n",
    "rnn= nn.RNN(input_size=1, hidden_size=1, num_layers = 1, bias = False, batch_first=True)"
   ]
  },
  {
   "cell_type": "markdown",
   "metadata": {
    "colab_type": "text",
    "id": "EX77IxL-25an"
   },
   "source": [
    "RNN expects input sequences to be in a particular format. By setting batch_first = True, we set the input data format to be 'batch size, sequence length, # input features'"
   ]
  },
  {
   "cell_type": "code",
   "execution_count": null,
   "metadata": {
    "colab": {
     "base_uri": "https://localhost:8080/",
     "height": 85
    },
    "colab_type": "code",
    "id": "KuCnWNED3KX4",
    "outputId": "d3c4c62c-f818-4d8d-9b86-6b6d7c654486"
   },
   "outputs": [],
   "source": [
    "seq = seq.unsqueeze(2)\n",
    "print(seq.shape)\n",
    "\n",
    "print(seq)"
   ]
  },
  {
   "cell_type": "markdown",
   "metadata": {
    "colab_type": "text",
    "id": "4gI6NOAW3aIu"
   },
   "source": [
    "With the correct input format, we can now pass the input to the RNN layer. The RNN layer provides 2 outputs\n",
    "\n",
    "\n",
    "1.   All hidden states associated with a sequence, for all sequences in the batch\n",
    "2.   Just the very last hidden state for a sequence, for all sequences in the batch\n",
    "\n"
   ]
  },
  {
   "cell_type": "code",
   "execution_count": null,
   "metadata": {
    "colab": {},
    "colab_type": "code",
    "id": "HP8pV2T8xrMW"
   },
   "outputs": [],
   "source": [
    "out_all,out_last = rnn(seq)"
   ]
  },
  {
   "cell_type": "code",
   "execution_count": null,
   "metadata": {
    "colab": {
     "base_uri": "https://localhost:8080/",
     "height": 51
    },
    "colab_type": "code",
    "id": "FWtCjqXQxrPQ",
    "outputId": "18ca37e2-625a-424c-c6d5-548f69d29853"
   },
   "outputs": [],
   "source": [
    "print(f\"Out all shape : {out_all.shape}\")\n",
    "\n",
    "print(f\"Out last shape : {out_last.shape}\")\n"
   ]
  },
  {
   "cell_type": "markdown",
   "metadata": {
    "colab_type": "text",
    "id": "NRbfeecb5G7E"
   },
   "source": [
    "There are 2 ways that we can acess the weights of the RNN layer.\n",
    "\n",
    "1.   Accessing individual parameters using their names `weight_hh_10`, `weight_1h_10` and so on.\n",
    "2.   Using the `state_dict()` parameter to access all weights\n",
    "\n",
    "\n",
    "\n"
   ]
  },
  {
   "cell_type": "code",
   "execution_count": null,
   "metadata": {
    "colab": {
     "base_uri": "https://localhost:8080/",
     "height": 51
    },
    "colab_type": "code",
    "id": "5YXTrz0ixrR-",
    "outputId": "a949e932-4587-41c6-f34d-76554f455bd1"
   },
   "outputs": [],
   "source": [
    "rnn.weight_hh_l0"
   ]
  },
  {
   "cell_type": "code",
   "execution_count": null,
   "metadata": {
    "colab": {
     "base_uri": "https://localhost:8080/",
     "height": 51
    },
    "colab_type": "code",
    "id": "tzJ7N0mQypmU",
    "outputId": "11e49aa5-c8ef-4fe1-cb3a-0727e7d91a1b"
   },
   "outputs": [],
   "source": [
    "rnn.weight_hh_l0"
   ]
  },
  {
   "cell_type": "code",
   "execution_count": null,
   "metadata": {
    "colab": {
     "base_uri": "https://localhost:8080/",
     "height": 51
    },
    "colab_type": "code",
    "id": "Mnlj7_2Iypre",
    "outputId": "ff20a7f6-2975-4219-b01f-5845bb8d3d42"
   },
   "outputs": [],
   "source": [
    "rnn.state_dict()"
   ]
  },
  {
   "cell_type": "markdown",
   "metadata": {
    "Collapsed": "false",
    "colab_type": "text",
    "id": "TS-izlb6zVyY"
   },
   "source": [
    "### **Computing the output**\n",
    "\n",
    "RNN layers essentially take in a sequence and compute outputs for each time point in the input sequence. The weights that are used for computation remain the same for all time points.\n",
    "\n",
    "The basic equation governing the computation is given by :\n",
    "$h_t = \\text{tanh}(W_{ih} x_t + b_{ih} + W_{hh} h_{(t-1)} + b_{hh})$\n",
    "\n",
    "where \n",
    "$h_{t}$ represents the hidden state at time $t$\n",
    "\n",
    "\n",
    "\n",
    "\n",
    "\n",
    "\n"
   ]
  },
  {
   "cell_type": "code",
   "execution_count": null,
   "metadata": {
    "colab": {
     "base_uri": "https://localhost:8080/",
     "height": 68
    },
    "colab_type": "code",
    "id": "5fCC3tAMypww",
    "outputId": "da48120f-4a86-4327-bac7-b3228e999730"
   },
   "outputs": [],
   "source": [
    "# Output states computed by the RNN layer\n",
    "out_all,out_last"
   ]
  },
  {
   "cell_type": "markdown",
   "metadata": {
    "Collapsed": "false",
    "colab_type": "text",
    "id": "06R7gLKlGZiv"
   },
   "source": [
    "#### Hidden State 1\n",
    "\n",
    "Note. Since this is the very first state (time = 1) and we dont have a hidden state preceding it, we assumne it be zero. Therefore, $h_{0}$ is taken to be 0."
   ]
  },
  {
   "cell_type": "code",
   "execution_count": null,
   "metadata": {},
   "outputs": [],
   "source": [
    "seq[0][0]    # # The first input feature of the first sequence"
   ]
  },
  {
   "cell_type": "code",
   "execution_count": null,
   "metadata": {
    "colab": {
     "base_uri": "https://localhost:8080/",
     "height": 34
    },
    "colab_type": "code",
    "id": "KSaUQQcxxmov",
    "outputId": "1449a37d-da83-4d76-b7df-2209f765c586"
   },
   "outputs": [],
   "source": [
    "wih = rnn.weight_ih_l0\n",
    "whh = rnn.weight_hh_l0\n",
    "\n",
    "x = seq[0][0] \n",
    "\n",
    "# Computing thw hidden state for time = 1\n",
    "h1 = torch.tanh(Tensor(x*wih + whh*0))  \n",
    "h1"
   ]
  },
  {
   "cell_type": "markdown",
   "metadata": {
    "Collapsed": "false",
    "colab_type": "text",
    "id": "2R4w-kU2HJel"
   },
   "source": [
    "#### Hidden State 2"
   ]
  },
  {
   "cell_type": "code",
   "execution_count": null,
   "metadata": {
    "colab": {
     "base_uri": "https://localhost:8080/",
     "height": 34
    },
    "colab_type": "code",
    "id": "hBXoxmB4Gx2b",
    "outputId": "da2fe9ee-2556-40f4-cd20-376dd4a178a9"
   },
   "outputs": [],
   "source": [
    "x = seq[0][1] # The second input feature of the first sequence\n",
    "\n",
    "h2 = torch.tanh(Tensor(x*wih + whh*h1))  \n",
    "h2"
   ]
  },
  {
   "cell_type": "markdown",
   "metadata": {
    "Collapsed": "false",
    "colab_type": "text",
    "id": "UDS5goTXH5GC"
   },
   "source": [
    "#### Hidden State 3"
   ]
  },
  {
   "cell_type": "code",
   "execution_count": null,
   "metadata": {
    "colab": {
     "base_uri": "https://localhost:8080/",
     "height": 34
    },
    "colab_type": "code",
    "id": "YrfLNgZ_xpg8",
    "outputId": "ccf84379-36d6-4388-ea16-d8f13ce10453"
   },
   "outputs": [],
   "source": [
    "x = seq[0][2] # The third and last input feature of the first sequence\n",
    "\n",
    "h3 = torch.tanh(Tensor(x*wih + whh*h2))  \n",
    "h3"
   ]
  },
  {
   "cell_type": "markdown",
   "metadata": {
    "colab_type": "text",
    "id": "-qT5cbT8IBEE"
   },
   "source": []
  }
 ],
 "metadata": {
  "colab": {
   "name": "Understanding RNNs.ipynb",
   "provenance": []
  },
  "kernelspec": {
   "display_name": "Python 3",
   "language": "python",
   "name": "python3"
  },
  "language_info": {
   "codemirror_mode": {
    "name": "ipython",
    "version": 3
   },
   "file_extension": ".py",
   "mimetype": "text/x-python",
   "name": "python",
   "nbconvert_exporter": "python",
   "pygments_lexer": "ipython3",
   "version": "3.7.6"
  }
 },
 "nbformat": 4,
 "nbformat_minor": 4
}

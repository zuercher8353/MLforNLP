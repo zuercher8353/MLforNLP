{
 "cells": [
  {
   "cell_type": "markdown",
   "metadata": {
    "id": "_0n_RhWGUQZb"
   },
   "source": [
    "# Recurrent Neural Networks\n",
    "\n",
    "origninal source of this notebook: Lisa Zhang\n",
    "\n",
    "\n",
    "We use a **recurrent neural network** for tweet classification. We will treat each tweet as a **sequence** of words. We will use GloVe embeddings as inputs\n",
    "to the recurrent network. \n"
   ]
  },
  {
   "cell_type": "code",
   "execution_count": null,
   "metadata": {
    "id": "i5KLf1pfUcHm"
   },
   "outputs": [],
   "source": [
    "from google.colab import drive\n",
    "drive.mount('/content/gdrive')"
   ]
  },
  {
   "cell_type": "code",
   "execution_count": null,
   "metadata": {
    "colab": {
     "base_uri": "https://localhost:8080/"
    },
    "id": "3BBCTv80WtuD",
    "outputId": "1c4aa414-970e-4e19-dabc-6e4ffe82e627"
   },
   "outputs": [
    {
     "name": "stdout",
     "output_type": "stream",
     "text": [
      "training.1600000.processed.noemoticon.csv\n"
     ]
    }
   ],
   "source": [
    "!ls /content/gdrive/My\\ Drive/ml20"
   ]
  },
  {
   "cell_type": "code",
   "execution_count": null,
   "metadata": {
    "id": "LNiNPMiGUQZd"
   },
   "outputs": [],
   "source": [
    "import csv\n",
    "import torch\n",
    "import torch.nn as nn\n",
    "import torch.nn.functional as F\n",
    "import torch.optim as optim\n",
    "import torchtext\n",
    "import numpy as np\n",
    "import matplotlib.pyplot as plt\n",
    "\n",
    "def split_tweet(tweet):\n",
    "    # separate punctuations\n",
    "    tweet = tweet.replace(\".\", \" . \") \\\n",
    "                 .replace(\",\", \" , \") \\\n",
    "                 .replace(\";\", \" ; \") \\\n",
    "                 .replace(\"?\", \" ? \")\n",
    "    return tweet.lower().split()\n",
    "\n",
    "glove = torchtext.vocab.GloVe(name=\"6B\", dim=50, max_vectors=10000) # use 10k most common words"
   ]
  },
  {
   "cell_type": "code",
   "execution_count": null,
   "metadata": {
    "id": "FhqvGBebZaiH"
   },
   "outputs": [],
   "source": [
    "def get_data():\n",
    "    return csv.reader(open(\"/content/gdrive/My Drive/ml20/training.1600000.processed.noemoticon.csv\", \"rt\", encoding=\"latin-1\"))"
   ]
  },
  {
   "cell_type": "markdown",
   "metadata": {
    "id": "A7v_f3SqUQZi"
   },
   "source": [
    "Since we are going to store the individual words in a tweet,\n",
    "we will defer looking up the word embeddings.\n",
    "Instead, we will store the **index** of each word in a PyTorch tensor.\n",
    "Our choice is the most memory-efficient, since it takes fewer bits to\n",
    "store an integer index than a 50-dimensional vector or a word."
   ]
  },
  {
   "cell_type": "code",
   "execution_count": null,
   "metadata": {
    "id": "SgrZHmvyUQZj"
   },
   "outputs": [],
   "source": [
    "def get_tweet_words(glove_vector):\n",
    "    train, valid, test = [], [], []\n",
    "    for i, line in enumerate(get_data()):\n",
    "        if i % 29 == 0:\n",
    "            tweet = line[-1]\n",
    "            idxs = [glove_vector.stoi[w]        # lookup the index of word\n",
    "                    for w in split_tweet(tweet)\n",
    "                    if w in glove_vector.stoi] # keep words that has an embedding\n",
    "            if not idxs: # ignore tweets without any word with an embedding\n",
    "                continue\n",
    "            idxs = torch.tensor(idxs) # convert list to pytorch tensor\n",
    "            label = torch.tensor(int(line[0] == \"4\")).long()\n",
    "            if i % 5 < 3:\n",
    "                train.append((idxs, label))\n",
    "            elif i % 5 == 4:\n",
    "                valid.append((idxs, label))\n",
    "            else:\n",
    "                test.append((idxs, label))\n",
    "    return train, valid, test\n",
    "\n",
    "train, valid, test = get_tweet_words(glove)"
   ]
  },
  {
   "cell_type": "markdown",
   "metadata": {
    "id": "svCM777wUQZm"
   },
   "source": [
    "Here's what an element of the training set looks like:"
   ]
  },
  {
   "cell_type": "code",
   "execution_count": null,
   "metadata": {
    "colab": {
     "base_uri": "https://localhost:8080/"
    },
    "id": "mXDl-OA7UQZn",
    "outputId": "28a8dade-7eff-4100-bb7d-91d3cc92a89e"
   },
   "outputs": [
    {
     "name": "stdout",
     "output_type": "stream",
     "text": [
      "tensor([   2,   11,    1,    7,    2,   81,  405,  684, 9912,    3,  245,  122,\n",
      "           4,   88,   20,    2,   89, 1968])\n",
      "tensor(0)\n",
      "you\n"
     ]
    }
   ],
   "source": [
    "tweet, label = train[0]\n",
    "print(tweet)\n",
    "print(label)\n",
    "print(glove.itos[81])"
   ]
  },
  {
   "cell_type": "markdown",
   "metadata": {
    "id": "3rUVlqRcUQZs"
   },
   "source": [
    "Unlike in the past, each element of the training set will have a\n",
    "different shape. The difference will present some difficulties when\n",
    "we discuss batching later on."
   ]
  },
  {
   "cell_type": "code",
   "execution_count": null,
   "metadata": {
    "colab": {
     "base_uri": "https://localhost:8080/"
    },
    "id": "41wDBmOYUQZs",
    "outputId": "b29b7cc4-0289-4e25-904e-74fcee26444a"
   },
   "outputs": [
    {
     "name": "stdout",
     "output_type": "stream",
     "text": [
      "torch.Size([18])\n",
      "torch.Size([23])\n",
      "torch.Size([8])\n",
      "torch.Size([20])\n",
      "torch.Size([6])\n",
      "torch.Size([5])\n",
      "torch.Size([10])\n",
      "torch.Size([8])\n",
      "torch.Size([7])\n",
      "torch.Size([31])\n"
     ]
    }
   ],
   "source": [
    "for i in range(10):\n",
    "    tweet, label = train[i]\n",
    "    print(tweet.shape)"
   ]
  },
  {
   "cell_type": "markdown",
   "metadata": {
    "id": "EQFmAjCAUQZw"
   },
   "source": [
    "## Embedding\n",
    "\n",
    "We are also going to use an `nn.Embedding` layer, instead of using the variable\n",
    "`glove` directly. The reason is that the `nn.Embedding` layer lets us look up\n",
    "the embeddings of multiple words simultaneously."
   ]
  },
  {
   "cell_type": "code",
   "execution_count": null,
   "metadata": {
    "colab": {
     "base_uri": "https://localhost:8080/"
    },
    "id": "6ld7B_LHUQZx",
    "outputId": "0152269a-b324-4356-9ed5-48e292145ef8"
   },
   "outputs": [
    {
     "data": {
      "text/plain": [
       "torch.Size([31, 50])"
      ]
     },
     "execution_count": 89,
     "metadata": {
      "tags": []
     },
     "output_type": "execute_result"
    }
   ],
   "source": [
    "glove_emb = nn.Embedding.from_pretrained(glove.vectors)\n",
    "\n",
    "# Example: we use the forward function of glove_emb to lookup the\n",
    "# embedding of each word in `tweet`\n",
    "tweet_emb = glove_emb(tweet)\n",
    "tweet_emb.shape    #tweet is now No 10 (size 31)"
   ]
  },
  {
   "cell_type": "markdown",
   "metadata": {
    "id": "IlNB-HcTUQZ0"
   },
   "source": [
    "## Recurrent Neural Network Module\n"
   ]
  },
  {
   "cell_type": "code",
   "execution_count": null,
   "metadata": {
    "id": "EQXl4X37UQZ1"
   },
   "outputs": [],
   "source": [
    "rnn_layer = nn.RNN(input_size=50,    # dimension of the input repr\n",
    "                   hidden_size=50,   # dimension of the hidden units\n",
    "                   batch_first=True) # input format is [batch_size, seq_len, repr_dim]"
   ]
  },
  {
   "cell_type": "markdown",
   "metadata": {
    "id": "Mu4UhwuOUQZ6"
   },
   "source": [
    "Now, let's try and run this untrained `rnn_layer` on `tweet_emb`.\n",
    "We will need to add an extra dimension to `tweet_emb` to account for\n",
    "batching. We will also need to initialize a set of hidden units of size\n",
    "`[batch_size, 1, repr_dim]`, to be used for the *first* set of computations.\n",
    "\n",
    "![](imgs/rnn.png)"
   ]
  },
  {
   "cell_type": "code",
   "execution_count": null,
   "metadata": {
    "id": "WG51uVCGUQZ7"
   },
   "outputs": [],
   "source": [
    "tweet_input = tweet_emb.unsqueeze(0) # add the batch_size dimension\n",
    "h0 = torch.zeros(1, 1, 50)           # initial hidden state\n",
    "out, last_hidden = rnn_layer(tweet_input, h0)"
   ]
  },
  {
   "cell_type": "markdown",
   "metadata": {
    "id": "K7UrbVCXUQZ-"
   },
   "source": [
    "We don't technically have to explictly provide the initial hidden state,\n",
    "if we want to use an initial state of zeros. Just for today, we will be\n",
    "explicit about the hidden states that we provide."
   ]
  },
  {
   "cell_type": "code",
   "execution_count": null,
   "metadata": {
    "colab": {
     "base_uri": "https://localhost:8080/"
    },
    "id": "CZIDDhOCUQZ_",
    "outputId": "9d4a930f-9148-496d-de07-f622052eeac4"
   },
   "outputs": [
    {
     "data": {
      "text/plain": [
       "(tensor([[[ 0.4778, -0.0468, -0.6277,  ...,  0.2642,  0.0904, -0.0324],\n",
       "          [ 0.3184,  0.0012, -0.6666,  ..., -0.0458,  0.1299, -0.3415],\n",
       "          [ 0.1218, -0.2096, -0.6695,  ...,  0.0745,  0.5050, -0.5747],\n",
       "          ...,\n",
       "          [ 0.0928, -0.4188, -0.8202,  ...,  0.1479,  0.0799,  0.1830],\n",
       "          [ 0.5148, -0.4411, -0.8262,  ...,  0.2643,  0.2830, -0.4184],\n",
       "          [ 0.1752,  0.0538, -0.4456,  ...,  0.1386,  0.2026, -0.3976]]],\n",
       "        grad_fn=<TransposeBackward1>),\n",
       " tensor([[[ 0.1752,  0.0538, -0.4456, -0.6572,  0.4000, -0.2338,  0.1486,\n",
       "            0.3732, -0.5177, -0.0399,  0.6464, -0.0387,  0.2902, -0.3284,\n",
       "           -0.3038,  0.4176, -0.1949,  0.3148, -0.8974,  0.6066,  0.5317,\n",
       "           -0.7428, -0.2922, -0.6045, -0.3475,  0.5258,  0.1407, -0.5212,\n",
       "           -0.3083,  0.3970, -0.5959, -0.2087,  0.0916,  0.1452,  0.1922,\n",
       "            0.1171, -0.0721, -0.5716, -0.3891, -0.3040, -0.0261, -0.3501,\n",
       "            0.2837, -0.3792,  0.1548,  0.2517, -0.0927,  0.1386,  0.2026,\n",
       "           -0.3976]]], grad_fn=<StackBackward>))"
      ]
     },
     "execution_count": 92,
     "metadata": {
      "tags": []
     },
     "output_type": "execute_result"
    }
   ],
   "source": [
    "out2, last_hidden2 = rnn_layer(tweet_input)\n",
    "out2,last_hidden2"
   ]
  },
  {
   "cell_type": "markdown",
   "metadata": {
    "id": "BEK-HeCVUQaC"
   },
   "source": [
    "Now, let's look at the output and hidden dimensions that we have:"
   ]
  },
  {
   "cell_type": "code",
   "execution_count": null,
   "metadata": {
    "colab": {
     "base_uri": "https://localhost:8080/"
    },
    "id": "PNug-2hlUQaC",
    "outputId": "bc1396e6-0050-4417-eb08-73b58631d9fd"
   },
   "outputs": [
    {
     "name": "stdout",
     "output_type": "stream",
     "text": [
      "torch.Size([1, 31, 50])\n",
      "torch.Size([1, 1, 50])\n"
     ]
    }
   ],
   "source": [
    "print(out.shape)\n",
    "print(last_hidden.shape)"
   ]
  },
  {
   "cell_type": "markdown",
   "metadata": {
    "id": "uA3IcsioUQaG"
   },
   "source": [
    "The shape of the hidden units is the same as our initial `h0`.\n",
    "The variable `out`, though, has the same shape as our `input`.\n",
    "The variable contains the concatenation of all of the output units\n",
    "for each word (i.e. at each time point).\n",
    "\n",
    "Normally, we only care about the output at the **final** time point,\n",
    "which we can extract like this."
   ]
  },
  {
   "cell_type": "code",
   "execution_count": null,
   "metadata": {
    "colab": {
     "base_uri": "https://localhost:8080/"
    },
    "id": "0NRrtzFPUQaH",
    "outputId": "6519943f-7c4a-4d34-8eaa-7d8fd68ef213"
   },
   "outputs": [
    {
     "data": {
      "text/plain": [
       "tensor([[ 0.1752,  0.0538, -0.4456, -0.6572,  0.4000, -0.2338,  0.1486,  0.3732,\n",
       "         -0.5177, -0.0399,  0.6464, -0.0387,  0.2902, -0.3284, -0.3038,  0.4176,\n",
       "         -0.1949,  0.3148, -0.8974,  0.6066,  0.5317, -0.7428, -0.2922, -0.6045,\n",
       "         -0.3475,  0.5258,  0.1407, -0.5212, -0.3083,  0.3970, -0.5959, -0.2087,\n",
       "          0.0916,  0.1452,  0.1922,  0.1171, -0.0721, -0.5716, -0.3891, -0.3040,\n",
       "         -0.0261, -0.3501,  0.2837, -0.3792,  0.1548,  0.2517, -0.0927,  0.1386,\n",
       "          0.2026, -0.3976]], grad_fn=<SliceBackward>)"
      ]
     },
     "execution_count": 94,
     "metadata": {
      "tags": []
     },
     "output_type": "execute_result"
    }
   ],
   "source": [
    "out[:,-1,:]"
   ]
  },
  {
   "cell_type": "code",
   "execution_count": null,
   "metadata": {
    "colab": {
     "base_uri": "https://localhost:8080/"
    },
    "id": "p92KlOv1UQaK",
    "outputId": "c827ceb0-65c8-4a57-b45b-190aea532524"
   },
   "outputs": [
    {
     "data": {
      "text/plain": [
       "tensor([[[ 0.1752,  0.0538, -0.4456, -0.6572,  0.4000, -0.2338,  0.1486,\n",
       "           0.3732, -0.5177, -0.0399,  0.6464, -0.0387,  0.2902, -0.3284,\n",
       "          -0.3038,  0.4176, -0.1949,  0.3148, -0.8974,  0.6066,  0.5317,\n",
       "          -0.7428, -0.2922, -0.6045, -0.3475,  0.5258,  0.1407, -0.5212,\n",
       "          -0.3083,  0.3970, -0.5959, -0.2087,  0.0916,  0.1452,  0.1922,\n",
       "           0.1171, -0.0721, -0.5716, -0.3891, -0.3040, -0.0261, -0.3501,\n",
       "           0.2837, -0.3792,  0.1548,  0.2517, -0.0927,  0.1386,  0.2026,\n",
       "          -0.3976]]], grad_fn=<StackBackward>)"
      ]
     },
     "execution_count": 95,
     "metadata": {
      "tags": []
     },
     "output_type": "execute_result"
    }
   ],
   "source": [
    "last_hidden"
   ]
  },
  {
   "cell_type": "markdown",
   "metadata": {
    "id": "op97fI3FUQaN"
   },
   "source": [
    "This tensor summarizes the entire tweet, and can be used as an input\n",
    "to a classifier.\n",
    "\n",
    "## Building a Model\n",
    "\n",
    "Let's put both the embedding layer, the RNN and the classifier into one model:"
   ]
  },
  {
   "cell_type": "code",
   "execution_count": null,
   "metadata": {
    "id": "6Gb9dXGmUQaO"
   },
   "outputs": [],
   "source": [
    "class TweetRNN(nn.Module):\n",
    "    def __init__(self, input_size, hidden_size, num_classes):\n",
    "        super(TweetRNN, self).__init__()\n",
    "        self.hidden_size = hidden_size\n",
    "        \n",
    "        self.emb = nn.Embedding.from_pretrained(glove.vectors)\n",
    "        self.rnn = nn.RNN(input_size, hidden_size, batch_first=True)\n",
    "        self.fc = nn.Linear(hidden_size, num_classes)\n",
    "    \n",
    "    def forward(self, x):\n",
    "        # 1. Look up the embedding of each word\n",
    "        x = self.emb(x)\n",
    "        # 2 . \"Forward propagate\" the RNN -- to compute hidden & output vectors\n",
    "        h0 = torch.zeros(1, x.size(0), self.hidden_size)\n",
    "        out, _ = self.rnn(x, h0)\n",
    "        # 3. Pass the output of the last time step to the classifier\n",
    "        out = self.fc(out[:, -1, :])\n",
    "        return out\n",
    "\n",
    "model = TweetRNN(50, 50, 2)"
   ]
  },
  {
   "cell_type": "markdown",
   "metadata": {
    "id": "hVIxBSrMUQaR"
   },
   "source": [
    "Now, this model has a very similar API as the previous. We should be able to\n",
    "train this model similar to any other model that we have trained before.\n",
    "However, there is one caveat that we have been avoiding this entire time,\n",
    "**batching**.\n",
    "\n",
    "## Batching\n",
    "\n",
    "Unfortunately, we will not be able to use `DataLoader` with a\n",
    "`batch_size` of greater than one. This is because each tweet has\n",
    "a different shaped tensor."
   ]
  },
  {
   "cell_type": "code",
   "execution_count": null,
   "metadata": {
    "colab": {
     "base_uri": "https://localhost:8080/"
    },
    "id": "7xe_D6RQUQaS",
    "outputId": "24cf381c-3cb7-4e8f-b3ef-8d15e1b8007e"
   },
   "outputs": [
    {
     "name": "stdout",
     "output_type": "stream",
     "text": [
      "torch.Size([18])\n",
      "torch.Size([23])\n",
      "torch.Size([8])\n",
      "torch.Size([20])\n",
      "torch.Size([6])\n",
      "torch.Size([5])\n",
      "torch.Size([10])\n",
      "torch.Size([8])\n",
      "torch.Size([7])\n",
      "torch.Size([31])\n"
     ]
    }
   ],
   "source": [
    "for i in range(10):\n",
    "    tweet, label = train[i]\n",
    "    print(tweet.shape)"
   ]
  },
  {
   "cell_type": "markdown",
   "metadata": {
    "id": "DQYkaKoAUQaV"
   },
   "source": [
    "PyTorch implementation of `DataLoader` class expects all data samples\n",
    "to have the same shape. So, if we create a DataLoader like below,\n",
    "it will throw an error when we try to iterate over its elements."
   ]
  },
  {
   "cell_type": "code",
   "execution_count": null,
   "metadata": {
    "colab": {
     "base_uri": "https://localhost:8080/",
     "height": 341
    },
    "id": "P7G42FQfUQaW",
    "outputId": "3e9b6370-ee26-47a5-de55-9cb0330ce020"
   },
   "outputs": [
    {
     "ename": "RuntimeError",
     "evalue": "ignored",
     "output_type": "error",
     "traceback": [
      "\u001b[0;31m---------------------------------------------------------------------------\u001b[0m",
      "\u001b[0;31mRuntimeError\u001b[0m                              Traceback (most recent call last)",
      "\u001b[0;32m<ipython-input-97-8a2a85257765>\u001b[0m in \u001b[0;36m<module>\u001b[0;34m()\u001b[0m\n\u001b[1;32m      1\u001b[0m \u001b[0mwill_fail\u001b[0m \u001b[0;34m=\u001b[0m \u001b[0mtorch\u001b[0m\u001b[0;34m.\u001b[0m\u001b[0mutils\u001b[0m\u001b[0;34m.\u001b[0m\u001b[0mdata\u001b[0m\u001b[0;34m.\u001b[0m\u001b[0mDataLoader\u001b[0m\u001b[0;34m(\u001b[0m\u001b[0mtrain\u001b[0m\u001b[0;34m,\u001b[0m \u001b[0mbatch_size\u001b[0m\u001b[0;34m=\u001b[0m\u001b[0;36m128\u001b[0m\u001b[0;34m)\u001b[0m\u001b[0;34m\u001b[0m\u001b[0;34m\u001b[0m\u001b[0m\n\u001b[0;32m----> 2\u001b[0;31m \u001b[0;32mfor\u001b[0m \u001b[0melt\u001b[0m \u001b[0;32min\u001b[0m \u001b[0mwill_fail\u001b[0m\u001b[0;34m:\u001b[0m\u001b[0;34m\u001b[0m\u001b[0;34m\u001b[0m\u001b[0m\n\u001b[0m\u001b[1;32m      3\u001b[0m     \u001b[0mprint\u001b[0m\u001b[0;34m(\u001b[0m\u001b[0;34m\"ok\"\u001b[0m\u001b[0;34m)\u001b[0m\u001b[0;34m\u001b[0m\u001b[0;34m\u001b[0m\u001b[0m\n",
      "\u001b[0;32m/usr/local/lib/python3.6/dist-packages/torch/utils/data/dataloader.py\u001b[0m in \u001b[0;36m__next__\u001b[0;34m(self)\u001b[0m\n\u001b[1;32m    361\u001b[0m \u001b[0;34m\u001b[0m\u001b[0m\n\u001b[1;32m    362\u001b[0m     \u001b[0;32mdef\u001b[0m \u001b[0m__next__\u001b[0m\u001b[0;34m(\u001b[0m\u001b[0mself\u001b[0m\u001b[0;34m)\u001b[0m\u001b[0;34m:\u001b[0m\u001b[0;34m\u001b[0m\u001b[0;34m\u001b[0m\u001b[0m\n\u001b[0;32m--> 363\u001b[0;31m         \u001b[0mdata\u001b[0m \u001b[0;34m=\u001b[0m \u001b[0mself\u001b[0m\u001b[0;34m.\u001b[0m\u001b[0m_next_data\u001b[0m\u001b[0;34m(\u001b[0m\u001b[0;34m)\u001b[0m\u001b[0;34m\u001b[0m\u001b[0;34m\u001b[0m\u001b[0m\n\u001b[0m\u001b[1;32m    364\u001b[0m         \u001b[0mself\u001b[0m\u001b[0;34m.\u001b[0m\u001b[0m_num_yielded\u001b[0m \u001b[0;34m+=\u001b[0m \u001b[0;36m1\u001b[0m\u001b[0;34m\u001b[0m\u001b[0;34m\u001b[0m\u001b[0m\n\u001b[1;32m    365\u001b[0m         \u001b[0;32mif\u001b[0m \u001b[0mself\u001b[0m\u001b[0;34m.\u001b[0m\u001b[0m_dataset_kind\u001b[0m \u001b[0;34m==\u001b[0m \u001b[0m_DatasetKind\u001b[0m\u001b[0;34m.\u001b[0m\u001b[0mIterable\u001b[0m \u001b[0;32mand\u001b[0m\u001b[0;31m \u001b[0m\u001b[0;31m\\\u001b[0m\u001b[0;34m\u001b[0m\u001b[0;34m\u001b[0m\u001b[0m\n",
      "\u001b[0;32m/usr/local/lib/python3.6/dist-packages/torch/utils/data/dataloader.py\u001b[0m in \u001b[0;36m_next_data\u001b[0;34m(self)\u001b[0m\n\u001b[1;32m    401\u001b[0m     \u001b[0;32mdef\u001b[0m \u001b[0m_next_data\u001b[0m\u001b[0;34m(\u001b[0m\u001b[0mself\u001b[0m\u001b[0;34m)\u001b[0m\u001b[0;34m:\u001b[0m\u001b[0;34m\u001b[0m\u001b[0;34m\u001b[0m\u001b[0m\n\u001b[1;32m    402\u001b[0m         \u001b[0mindex\u001b[0m \u001b[0;34m=\u001b[0m \u001b[0mself\u001b[0m\u001b[0;34m.\u001b[0m\u001b[0m_next_index\u001b[0m\u001b[0;34m(\u001b[0m\u001b[0;34m)\u001b[0m  \u001b[0;31m# may raise StopIteration\u001b[0m\u001b[0;34m\u001b[0m\u001b[0;34m\u001b[0m\u001b[0m\n\u001b[0;32m--> 403\u001b[0;31m         \u001b[0mdata\u001b[0m \u001b[0;34m=\u001b[0m \u001b[0mself\u001b[0m\u001b[0;34m.\u001b[0m\u001b[0m_dataset_fetcher\u001b[0m\u001b[0;34m.\u001b[0m\u001b[0mfetch\u001b[0m\u001b[0;34m(\u001b[0m\u001b[0mindex\u001b[0m\u001b[0;34m)\u001b[0m  \u001b[0;31m# may raise StopIteration\u001b[0m\u001b[0;34m\u001b[0m\u001b[0;34m\u001b[0m\u001b[0m\n\u001b[0m\u001b[1;32m    404\u001b[0m         \u001b[0;32mif\u001b[0m \u001b[0mself\u001b[0m\u001b[0;34m.\u001b[0m\u001b[0m_pin_memory\u001b[0m\u001b[0;34m:\u001b[0m\u001b[0;34m\u001b[0m\u001b[0;34m\u001b[0m\u001b[0m\n\u001b[1;32m    405\u001b[0m             \u001b[0mdata\u001b[0m \u001b[0;34m=\u001b[0m \u001b[0m_utils\u001b[0m\u001b[0;34m.\u001b[0m\u001b[0mpin_memory\u001b[0m\u001b[0;34m.\u001b[0m\u001b[0mpin_memory\u001b[0m\u001b[0;34m(\u001b[0m\u001b[0mdata\u001b[0m\u001b[0;34m)\u001b[0m\u001b[0;34m\u001b[0m\u001b[0;34m\u001b[0m\u001b[0m\n",
      "\u001b[0;32m/usr/local/lib/python3.6/dist-packages/torch/utils/data/_utils/fetch.py\u001b[0m in \u001b[0;36mfetch\u001b[0;34m(self, possibly_batched_index)\u001b[0m\n\u001b[1;32m     45\u001b[0m         \u001b[0;32melse\u001b[0m\u001b[0;34m:\u001b[0m\u001b[0;34m\u001b[0m\u001b[0;34m\u001b[0m\u001b[0m\n\u001b[1;32m     46\u001b[0m             \u001b[0mdata\u001b[0m \u001b[0;34m=\u001b[0m \u001b[0mself\u001b[0m\u001b[0;34m.\u001b[0m\u001b[0mdataset\u001b[0m\u001b[0;34m[\u001b[0m\u001b[0mpossibly_batched_index\u001b[0m\u001b[0;34m]\u001b[0m\u001b[0;34m\u001b[0m\u001b[0;34m\u001b[0m\u001b[0m\n\u001b[0;32m---> 47\u001b[0;31m         \u001b[0;32mreturn\u001b[0m \u001b[0mself\u001b[0m\u001b[0;34m.\u001b[0m\u001b[0mcollate_fn\u001b[0m\u001b[0;34m(\u001b[0m\u001b[0mdata\u001b[0m\u001b[0;34m)\u001b[0m\u001b[0;34m\u001b[0m\u001b[0;34m\u001b[0m\u001b[0m\n\u001b[0m",
      "\u001b[0;32m/usr/local/lib/python3.6/dist-packages/torch/utils/data/_utils/collate.py\u001b[0m in \u001b[0;36mdefault_collate\u001b[0;34m(batch)\u001b[0m\n\u001b[1;32m     82\u001b[0m             \u001b[0;32mraise\u001b[0m \u001b[0mRuntimeError\u001b[0m\u001b[0;34m(\u001b[0m\u001b[0;34m'each element in list of batch should be of equal size'\u001b[0m\u001b[0;34m)\u001b[0m\u001b[0;34m\u001b[0m\u001b[0;34m\u001b[0m\u001b[0m\n\u001b[1;32m     83\u001b[0m         \u001b[0mtransposed\u001b[0m \u001b[0;34m=\u001b[0m \u001b[0mzip\u001b[0m\u001b[0;34m(\u001b[0m\u001b[0;34m*\u001b[0m\u001b[0mbatch\u001b[0m\u001b[0;34m)\u001b[0m\u001b[0;34m\u001b[0m\u001b[0;34m\u001b[0m\u001b[0m\n\u001b[0;32m---> 84\u001b[0;31m         \u001b[0;32mreturn\u001b[0m \u001b[0;34m[\u001b[0m\u001b[0mdefault_collate\u001b[0m\u001b[0;34m(\u001b[0m\u001b[0msamples\u001b[0m\u001b[0;34m)\u001b[0m \u001b[0;32mfor\u001b[0m \u001b[0msamples\u001b[0m \u001b[0;32min\u001b[0m \u001b[0mtransposed\u001b[0m\u001b[0;34m]\u001b[0m\u001b[0;34m\u001b[0m\u001b[0;34m\u001b[0m\u001b[0m\n\u001b[0m\u001b[1;32m     85\u001b[0m \u001b[0;34m\u001b[0m\u001b[0m\n\u001b[1;32m     86\u001b[0m     \u001b[0;32mraise\u001b[0m \u001b[0mTypeError\u001b[0m\u001b[0;34m(\u001b[0m\u001b[0mdefault_collate_err_msg_format\u001b[0m\u001b[0;34m.\u001b[0m\u001b[0mformat\u001b[0m\u001b[0;34m(\u001b[0m\u001b[0melem_type\u001b[0m\u001b[0;34m)\u001b[0m\u001b[0;34m)\u001b[0m\u001b[0;34m\u001b[0m\u001b[0;34m\u001b[0m\u001b[0m\n",
      "\u001b[0;32m/usr/local/lib/python3.6/dist-packages/torch/utils/data/_utils/collate.py\u001b[0m in \u001b[0;36m<listcomp>\u001b[0;34m(.0)\u001b[0m\n\u001b[1;32m     82\u001b[0m             \u001b[0;32mraise\u001b[0m \u001b[0mRuntimeError\u001b[0m\u001b[0;34m(\u001b[0m\u001b[0;34m'each element in list of batch should be of equal size'\u001b[0m\u001b[0;34m)\u001b[0m\u001b[0;34m\u001b[0m\u001b[0;34m\u001b[0m\u001b[0m\n\u001b[1;32m     83\u001b[0m         \u001b[0mtransposed\u001b[0m \u001b[0;34m=\u001b[0m \u001b[0mzip\u001b[0m\u001b[0;34m(\u001b[0m\u001b[0;34m*\u001b[0m\u001b[0mbatch\u001b[0m\u001b[0;34m)\u001b[0m\u001b[0;34m\u001b[0m\u001b[0;34m\u001b[0m\u001b[0m\n\u001b[0;32m---> 84\u001b[0;31m         \u001b[0;32mreturn\u001b[0m \u001b[0;34m[\u001b[0m\u001b[0mdefault_collate\u001b[0m\u001b[0;34m(\u001b[0m\u001b[0msamples\u001b[0m\u001b[0;34m)\u001b[0m \u001b[0;32mfor\u001b[0m \u001b[0msamples\u001b[0m \u001b[0;32min\u001b[0m \u001b[0mtransposed\u001b[0m\u001b[0;34m]\u001b[0m\u001b[0;34m\u001b[0m\u001b[0;34m\u001b[0m\u001b[0m\n\u001b[0m\u001b[1;32m     85\u001b[0m \u001b[0;34m\u001b[0m\u001b[0m\n\u001b[1;32m     86\u001b[0m     \u001b[0;32mraise\u001b[0m \u001b[0mTypeError\u001b[0m\u001b[0;34m(\u001b[0m\u001b[0mdefault_collate_err_msg_format\u001b[0m\u001b[0;34m.\u001b[0m\u001b[0mformat\u001b[0m\u001b[0;34m(\u001b[0m\u001b[0melem_type\u001b[0m\u001b[0;34m)\u001b[0m\u001b[0;34m)\u001b[0m\u001b[0;34m\u001b[0m\u001b[0;34m\u001b[0m\u001b[0m\n",
      "\u001b[0;32m/usr/local/lib/python3.6/dist-packages/torch/utils/data/_utils/collate.py\u001b[0m in \u001b[0;36mdefault_collate\u001b[0;34m(batch)\u001b[0m\n\u001b[1;32m     53\u001b[0m             \u001b[0mstorage\u001b[0m \u001b[0;34m=\u001b[0m \u001b[0melem\u001b[0m\u001b[0;34m.\u001b[0m\u001b[0mstorage\u001b[0m\u001b[0;34m(\u001b[0m\u001b[0;34m)\u001b[0m\u001b[0;34m.\u001b[0m\u001b[0m_new_shared\u001b[0m\u001b[0;34m(\u001b[0m\u001b[0mnumel\u001b[0m\u001b[0;34m)\u001b[0m\u001b[0;34m\u001b[0m\u001b[0;34m\u001b[0m\u001b[0m\n\u001b[1;32m     54\u001b[0m             \u001b[0mout\u001b[0m \u001b[0;34m=\u001b[0m \u001b[0melem\u001b[0m\u001b[0;34m.\u001b[0m\u001b[0mnew\u001b[0m\u001b[0;34m(\u001b[0m\u001b[0mstorage\u001b[0m\u001b[0;34m)\u001b[0m\u001b[0;34m\u001b[0m\u001b[0;34m\u001b[0m\u001b[0m\n\u001b[0;32m---> 55\u001b[0;31m         \u001b[0;32mreturn\u001b[0m \u001b[0mtorch\u001b[0m\u001b[0;34m.\u001b[0m\u001b[0mstack\u001b[0m\u001b[0;34m(\u001b[0m\u001b[0mbatch\u001b[0m\u001b[0;34m,\u001b[0m \u001b[0;36m0\u001b[0m\u001b[0;34m,\u001b[0m \u001b[0mout\u001b[0m\u001b[0;34m=\u001b[0m\u001b[0mout\u001b[0m\u001b[0;34m)\u001b[0m\u001b[0;34m\u001b[0m\u001b[0;34m\u001b[0m\u001b[0m\n\u001b[0m\u001b[1;32m     56\u001b[0m     \u001b[0;32melif\u001b[0m \u001b[0melem_type\u001b[0m\u001b[0;34m.\u001b[0m\u001b[0m__module__\u001b[0m \u001b[0;34m==\u001b[0m \u001b[0;34m'numpy'\u001b[0m \u001b[0;32mand\u001b[0m \u001b[0melem_type\u001b[0m\u001b[0;34m.\u001b[0m\u001b[0m__name__\u001b[0m \u001b[0;34m!=\u001b[0m \u001b[0;34m'str_'\u001b[0m\u001b[0;31m \u001b[0m\u001b[0;31m\\\u001b[0m\u001b[0;34m\u001b[0m\u001b[0;34m\u001b[0m\u001b[0m\n\u001b[1;32m     57\u001b[0m             \u001b[0;32mand\u001b[0m \u001b[0melem_type\u001b[0m\u001b[0;34m.\u001b[0m\u001b[0m__name__\u001b[0m \u001b[0;34m!=\u001b[0m \u001b[0;34m'string_'\u001b[0m\u001b[0;34m:\u001b[0m\u001b[0;34m\u001b[0m\u001b[0;34m\u001b[0m\u001b[0m\n",
      "\u001b[0;31mRuntimeError\u001b[0m: stack expects each tensor to be equal size, but got [18] at entry 0 and [23] at entry 1"
     ]
    }
   ],
   "source": [
    "will_fail = torch.utils.data.DataLoader(train, batch_size=128)\n",
    "for elt in will_fail:\n",
    "    print(\"ok\")"
   ]
  },
  {
   "cell_type": "markdown",
   "metadata": {
    "id": "I9DvtEHFUQaZ"
   },
   "source": [
    "So, we will need a different way of batching.\n",
    "\n",
    "One strategy is to **pad shorter sequences with zero inputs**, so that\n",
    "every sequence is the same length. The following PyTorch utilities\n",
    "are helpful.\n",
    "\n",
    "- `torch.nn.utils.rnn.pad_sequence`\n",
    "- `torch.nn.utils.rnn.pad_packed_sequence`\n",
    "- `torch.nn.utils.rnn.pack_sequence`\n",
    "- `torch.nn.utils.rnn.pack_padded_sequence`\n",
    "\n",
    "(Actually, there are more powerful helpers in the `torchtext` module\n",
    "that we will use in Lab 5. We'll stick to these in this demo, so that\n",
    "you can see what's actually going on under the hood.)"
   ]
  },
  {
   "cell_type": "code",
   "execution_count": null,
   "metadata": {
    "colab": {
     "base_uri": "https://localhost:8080/",
     "height": 35
    },
    "id": "HjfkGAGxUQaZ",
    "outputId": "ea16c07a-c8dc-4e86-b28f-b8fd835428c1"
   },
   "outputs": [
    {
     "data": {
      "application/vnd.google.colaboratory.intrinsic+json": {
       "type": "string"
      },
      "text/plain": [
       "'the'"
      ]
     },
     "execution_count": 98,
     "metadata": {
      "tags": []
     },
     "output_type": "execute_result"
    }
   ],
   "source": [
    "glove.itos[0]"
   ]
  },
  {
   "cell_type": "code",
   "execution_count": null,
   "metadata": {
    "colab": {
     "base_uri": "https://localhost:8080/"
    },
    "id": "FYMkGpy1UQac",
    "outputId": "ba083094-aa72-4294-a87c-6a40f39b01e3"
   },
   "outputs": [
    {
     "data": {
      "text/plain": [
       "[18, 23, 8, 20, 6, 5, 10, 8, 7, 31]"
      ]
     },
     "execution_count": 99,
     "metadata": {
      "tags": []
     },
     "output_type": "execute_result"
    }
   ],
   "source": [
    "[len(tweet) for tweet, label in train[:10]]"
   ]
  },
  {
   "cell_type": "code",
   "execution_count": null,
   "metadata": {
    "colab": {
     "base_uri": "https://localhost:8080/"
    },
    "id": "3vmfGTpwUQag",
    "outputId": "b3ae246d-e9cf-4673-c8e7-eed8273055d5"
   },
   "outputs": [
    {
     "data": {
      "text/plain": [
       "torch.Size([10, 31])"
      ]
     },
     "execution_count": 100,
     "metadata": {
      "tags": []
     },
     "output_type": "execute_result"
    }
   ],
   "source": [
    "from torch.nn.utils.rnn import pad_sequence\n",
    "\n",
    "tweet_padded = pad_sequence([tweet for tweet, label in train[:10]],\n",
    "                            batch_first=True)\n",
    "tweet_padded.shape"
   ]
  },
  {
   "cell_type": "code",
   "execution_count": null,
   "metadata": {
    "colab": {
     "base_uri": "https://localhost:8080/"
    },
    "id": "cxmKyoiAUQaj",
    "outputId": "3c4238ec-8a19-4045-a9d6-414474ef1474"
   },
   "outputs": [
    {
     "data": {
      "text/plain": [
       "tensor([[   2,   11,    1,    7,    2,   81,  405,  684, 9912,    3,  245,  122,\n",
       "            4,   88,   20,    2,   89, 1968,    0,    0,    0,    0,    0,    0,\n",
       "            0,    0,    0,    0,    0,    0,    0],\n",
       "        [ 192,    2,   41, 4284,   83,    0,   31, 1096,    4,   88,   17,   20,\n",
       "          188,   83,  100,    1,  500,    1,   41,  169,   20,    1,  837,    0,\n",
       "            0,    0,    0,    0,    0,    0,    0],\n",
       "        [8738,   34,   41,  346,   41, 1346,    7, 1019,    0,    0,    0,    0,\n",
       "            0,    0,    0,    0,    0,    0,    0,    0,    0,    0,    0,    0,\n",
       "            0,    0,    0,    0,    0,    0,    0],\n",
       "        [  41,  149, 1465,    0,   89, 3630, 4242, 4798,  116,  285, 7033,   22,\n",
       "            0,  156,    2,  155,   32, 1673, 1145,    2,    0,    0,    0,    0,\n",
       "            0,    0,    0,    0,    0,    0,    0],\n",
       "        [ 414,   30,  881,    7, 9085,  378,    0,    0,    0,    0,    0,    0,\n",
       "            0,    0,    0,    0,    0,    0,    0,    0,    0,    0,    0,    0,\n",
       "            0,    0,    0,    0,    0,    0,    0],\n",
       "        [ 285,  317,   41,   14,  992,    0,    0,    0,    0,    0,    0,    0,\n",
       "            0,    0,    0,    0,    0,    0,    0,    0,    0,    0,    0,    0,\n",
       "            0,    0,    0,    0,    0,    0,    0],\n",
       "        [ 190,   20, 1673,    1,    5,   30,  219,    4,   81,    2,    0,    0,\n",
       "            0,    0,    0,    0,    0,    0,    0,    0,    0,    0,    0,    0,\n",
       "            0,    0,    0,    0,    0,    0,    0],\n",
       "        [  14,    6,  835,   17,    5,   14,  103,  411,    0,    0,    0,    0,\n",
       "            0,    0,    0,    0,    0,    0,    0,    0,    0,    0,    0,    0,\n",
       "            0,    0,    0,    0,    0,    0,    0],\n",
       "        [1075,  170, 4522,    3, 5097, 2014,  584,    0,    0,    0,    0,    0,\n",
       "            0,    0,    0,    0,    0,    0,    0,    0,    0,    0,    0,    0,\n",
       "            0,    0,    0,    0,    0,    0,    0],\n",
       "        [  61,    4,    0, 8597, 4676, 2855,    5,    0, 1856,   94,   36,  596,\n",
       "          192,  100,   41,   33,    4,  242,  137,    5,  253,   83,   18,   86,\n",
       "          596,  101,    6,    7, 1334,  249,    2]])"
      ]
     },
     "execution_count": 101,
     "metadata": {
      "tags": []
     },
     "output_type": "execute_result"
    }
   ],
   "source": [
    "tweet_padded"
   ]
  },
  {
   "cell_type": "markdown",
   "metadata": {
    "id": "AryEJePQUQam"
   },
   "source": [
    "Now, we can pass multiple tweets in a batch through the RNN at once!"
   ]
  },
  {
   "cell_type": "code",
   "execution_count": null,
   "metadata": {
    "id": "gHR9g6kwUQan"
   },
   "outputs": [],
   "source": [
    "out = model(tweet_padded)\n",
    "out.shape"
   ]
  },
  {
   "cell_type": "markdown",
   "metadata": {
    "id": "wgd1nsCMUQaq"
   },
   "source": [
    "One issue we overlooked was that in our `TweetRNN` model, we always\n",
    "take the **last output unit** as input to the final classifier. Now\n",
    "that we are padding the input sequences, we should really be using\n",
    "the output at a previous time step. Recurrent neural networks therefore\n",
    "require much more record keeping than MLPs or even CNNs.\n",
    "\n",
    "There is yet another problem:\n",
    "the longest tweet has many, many more words than the shortest.\n",
    "Padding tweets so that every tweet has the same length as the longest\n",
    "tweet is impractical. Padding tweets in a mini-batch, however, is much\n",
    "more reasonable.\n",
    "\n",
    "In practice, practitioners will batch together tweets with the same\n",
    "length. For simplicity, we will do the same. We will implement a (more or less)\n",
    "straightforward way to batch tweets.\n",
    "\n"
   ]
  },
  {
   "cell_type": "code",
   "execution_count": null,
   "metadata": {
    "id": "0HCVhtwNUQaq"
   },
   "outputs": [],
   "source": [
    "import random\n",
    "\n",
    "class TweetBatcher:\n",
    "    def __init__(self, tweets, batch_size=32, drop_last=False):\n",
    "        # store tweets by length\n",
    "        self.tweets_by_length = {}\n",
    "        for words, label in tweets:\n",
    "            # compute the length of the tweet\n",
    "            wlen = words.shape[0]\n",
    "            # put the tweet in the correct key inside self.tweet_by_length\n",
    "            if wlen not in self.tweets_by_length:\n",
    "                self.tweets_by_length[wlen] = []\n",
    "            self.tweets_by_length[wlen].append((words, label),)\n",
    "         \n",
    "        #  create a DataLoader for each set of tweets of the same length\n",
    "        self.loaders = {wlen : torch.utils.data.DataLoader(\n",
    "                                    tweets,\n",
    "                                    batch_size=batch_size,\n",
    "                                    shuffle=True,\n",
    "                                    drop_last=drop_last) # omit last batch if smaller than batch_size\n",
    "            for wlen, tweets in self.tweets_by_length.items()}\n",
    "        \n",
    "    def __iter__(self): # called by Python to create an iterator\n",
    "        # make an iterator for every tweet length\n",
    "        iters = [iter(loader) for loader in self.loaders.values()]\n",
    "        while iters:\n",
    "            # pick an iterator (a length)\n",
    "            im = random.choice(iters)\n",
    "            try:\n",
    "                yield next(im)\n",
    "            except StopIteration:\n",
    "                # no more elements in the iterator, remove it\n",
    "                iters.remove(im)"
   ]
  },
  {
   "cell_type": "markdown",
   "metadata": {
    "id": "cF46LpkQUQat"
   },
   "source": [
    "Let's take a look at our batcher in action. We will set `drop_last` to be true for training,\n",
    "so that all of our batches have exactly the same size."
   ]
  },
  {
   "cell_type": "code",
   "execution_count": null,
   "metadata": {
    "colab": {
     "base_uri": "https://localhost:8080/"
    },
    "id": "hEKdLoG1UQau",
    "outputId": "a9aa9eac-3851-489a-8b87-dd4fe12f16c0"
   },
   "outputs": [
    {
     "name": "stdout",
     "output_type": "stream",
     "text": [
      "torch.Size([5, 23]) torch.Size([5])\n",
      "torch.Size([17, 10]) torch.Size([17])\n",
      "torch.Size([13, 20]) torch.Size([13])\n",
      "torch.Size([9, 22]) torch.Size([9])\n",
      "torch.Size([1, 31]) torch.Size([1])\n",
      "torch.Size([14, 9]) torch.Size([14])\n"
     ]
    }
   ],
   "source": [
    "\n",
    "for i, (tweets, labels) in enumerate(TweetBatcher(train, drop_last=False)):\n",
    "    if i > 5: break\n",
    "    print(tweets.shape, labels.shape)\n"
   ]
  },
  {
   "cell_type": "markdown",
   "metadata": {
    "id": "OadXVFOwUQax"
   },
   "source": [
    "Just to verify that our batching is reasonable, here is a modification of the\n",
    "`get_accuracy` function we wrote last time."
   ]
  },
  {
   "cell_type": "code",
   "execution_count": null,
   "metadata": {
    "colab": {
     "base_uri": "https://localhost:8080/"
    },
    "id": "BtncNiwOUQay",
    "outputId": "300dee6e-7137-4172-ce69-9d38511d9421"
   },
   "outputs": [
    {
     "data": {
      "text/plain": [
       "0.6521739130434783"
      ]
     },
     "execution_count": 104,
     "metadata": {
      "tags": []
     },
     "output_type": "execute_result"
    }
   ],
   "source": [
    "def get_accuracy(model, data_loader):\n",
    "    correct, total = 0, 0\n",
    "    for tweets, labels in data_loader:\n",
    "        output = model(tweets)\n",
    "        pred = output.max(1, keepdim=True)[1]\n",
    "        correct += pred.eq(labels.view_as(pred)).sum().item()\n",
    "        total += labels.shape[0]\n",
    "    return correct / total\n",
    "\n",
    "test_loader = TweetBatcher(test, batch_size=64, drop_last=False)\n",
    "get_accuracy(model, test_loader)"
   ]
  },
  {
   "cell_type": "markdown",
   "metadata": {
    "id": "2PqSvnCKUQa1"
   },
   "source": [
    "\n",
    "\n",
    "```\n",
    "# Als Code formatiert\n",
    "```\n",
    "\n"
   ]
  },
  {
   "cell_type": "code",
   "execution_count": null,
   "metadata": {
    "id": "gelvKwM2UQa2"
   },
   "outputs": [],
   "source": [
    "def train_rnn_network(model, train, valid, num_epochs=5, learning_rate=1e-5):\n",
    "    criterion = nn.CrossEntropyLoss()\n",
    "    optimizer = torch.optim.Adam(model.parameters(), lr=learning_rate)\n",
    "    losses, train_acc, valid_acc = [], [], []\n",
    "    epochs = []\n",
    "    \n",
    "    for epoch in range(num_epochs):\n",
    "        for tweets, labels in train:\n",
    "            optimizer.zero_grad()\n",
    "            pred = model(tweets)\n",
    "            loss = criterion(pred, labels)\n",
    "            loss.backward()\n",
    "            optimizer.step()\n",
    "        losses.append(float(loss))\n",
    "        epochs.append(epoch)\n",
    "        train_acc.append(get_accuracy(model, train_loader))\n",
    "        valid_acc.append(get_accuracy(model, valid_loader))\n",
    "        print(\"Epoch %d; Loss %f; Train Acc %f; Val Acc %f\" % (\n",
    "              epoch+1, loss, train_acc[-1], valid_acc[-1]))\n",
    "    # plotting\n",
    "    plt.title(\"Training Curve\")\n",
    "    plt.plot(losses, label=\"Train\")\n",
    "    plt.xlabel(\"Epoch\")\n",
    "    plt.ylabel(\"Loss\")\n",
    "    plt.show()\n",
    "\n",
    "    plt.title(\"Training Curve\")\n",
    "    plt.plot(epochs, train_acc, label=\"Train\")\n",
    "    plt.plot(epochs, valid_acc, label=\"Validation\")\n",
    "    plt.xlabel(\"Epoch\")\n",
    "    plt.ylabel(\"Accuracy\")\n",
    "    plt.legend(loc='best')\n",
    "    plt.show()"
   ]
  },
  {
   "cell_type": "markdown",
   "metadata": {
    "id": "e3AK3PGbUQa5"
   },
   "source": [
    "Let's train our model. Note that there will be some inaccuracies in computing the training loss.\n",
    "We are dropping some data from the training set by setting `drop_last=True`. Again, the choice is\n",
    "not ideal, but simplifies our code."
   ]
  },
  {
   "cell_type": "code",
   "execution_count": null,
   "metadata": {
    "colab": {
     "base_uri": "https://localhost:8080/",
     "height": 930
    },
    "id": "NiI7xguiUQa6",
    "outputId": "46e27dc4-0365-47c4-d372-8a5b5c3a4e55"
   },
   "outputs": [
    {
     "name": "stdout",
     "output_type": "stream",
     "text": [
      "Epoch 1; Loss 0.692551; Train Acc 0.534146; Val Acc 0.548872\n",
      "Epoch 2; Loss 0.655965; Train Acc 0.546341; Val Acc 0.533835\n",
      "Epoch 3; Loss 0.585394; Train Acc 0.556098; Val Acc 0.548872\n",
      "Epoch 4; Loss 0.629593; Train Acc 0.558537; Val Acc 0.563910\n",
      "Epoch 5; Loss 0.673313; Train Acc 0.570732; Val Acc 0.541353\n",
      "Epoch 6; Loss 0.664261; Train Acc 0.582927; Val Acc 0.563910\n",
      "Epoch 7; Loss 0.731806; Train Acc 0.585366; Val Acc 0.556391\n",
      "Epoch 8; Loss 0.655041; Train Acc 0.587805; Val Acc 0.556391\n",
      "Epoch 9; Loss 0.772317; Train Acc 0.597561; Val Acc 0.541353\n",
      "Epoch 10; Loss 0.679010; Train Acc 0.602439; Val Acc 0.563910\n",
      "Epoch 11; Loss 0.592454; Train Acc 0.609756; Val Acc 0.556391\n",
      "Epoch 12; Loss 0.576436; Train Acc 0.629268; Val Acc 0.593985\n",
      "Epoch 13; Loss 0.577167; Train Acc 0.651220; Val Acc 0.609023\n",
      "Epoch 14; Loss 0.155535; Train Acc 0.631707; Val Acc 0.548872\n",
      "Epoch 15; Loss 0.570168; Train Acc 0.673171; Val Acc 0.578947\n",
      "Epoch 16; Loss 0.658227; Train Acc 0.658537; Val Acc 0.609023\n",
      "Epoch 17; Loss 0.532378; Train Acc 0.682927; Val Acc 0.586466\n",
      "Epoch 18; Loss 0.739433; Train Acc 0.673171; Val Acc 0.548872\n",
      "Epoch 19; Loss 0.471214; Train Acc 0.685366; Val Acc 0.571429\n",
      "Epoch 20; Loss 0.651609; Train Acc 0.685366; Val Acc 0.586466\n"
     ]
    },
    {
     "data": {
      "image/png": "[encoded data removed]",
      "text/plain": [
       "<Figure size 432x288 with 1 Axes>"
      ]
     },
     "metadata": {
      "needs_background": "light",
      "tags": []
     },
     "output_type": "display_data"
    },
    {
     "data": {
      "image/png": "[encoded data removed]",
      "text/plain": [
       "<Figure size 432x288 with 1 Axes>"
      ]
     },
     "metadata": {
      "needs_background": "light",
      "tags": []
     },
     "output_type": "display_data"
    },
    {
     "data": {
      "text/plain": [
       "0.5289855072463768"
      ]
     },
     "execution_count": 106,
     "metadata": {
      "tags": []
     },
     "output_type": "execute_result"
    }
   ],
   "source": [
    "model = TweetRNN(input_size=50, hidden_size=50,num_classes=2)   \n",
    "train_loader = TweetBatcher(train, batch_size=64, drop_last=False)\n",
    "valid_loader = TweetBatcher(valid, batch_size=64, drop_last=False)\n",
    "train_rnn_network(model, train_loader, valid_loader, num_epochs=20, learning_rate=2e-4)\n",
    "get_accuracy(model, test_loader)"
   ]
  },
  {
   "cell_type": "markdown",
   "metadata": {
    "id": "n0I7HDfvUQa8"
   },
   "source": [
    "The hidden size and the input embedding size don't have to be the same."
   ]
  },
  {
   "cell_type": "code",
   "execution_count": null,
   "metadata": {
    "id": "lpWcPzyuUQa9",
    "scrolled": true
   },
   "outputs": [],
   "source": [
    "model = TweetRNN(50, 100, 2)\n",
    "train_rnn_network(model, train_loader, valid_loader, num_epochs=20, learning_rate=2e-4)\n",
    "get_accuracy(model, test_loader)"
   ]
  },
  {
   "cell_type": "code",
   "execution_count": null,
   "metadata": {
    "colab": {
     "base_uri": "https://localhost:8080/"
    },
    "id": "tdePHP7oUQbA",
    "outputId": "4e3e6f76-d609-46df-d91b-d5d06b8341de"
   },
   "outputs": [
    {
     "name": "stdout",
     "output_type": "stream",
     "text": [
      "[]\n"
     ]
    },
    {
     "data": {
      "text/plain": [
       "torch.Size([0])"
      ]
     },
     "execution_count": 107,
     "metadata": {
      "tags": []
     },
     "output_type": "execute_result"
    }
   ],
   "source": [
    "tweet = \"hello\"\n",
    "\n",
    "idxs = [glove.stoi[w]\n",
    "        for w in split_tweet(tweet)\n",
    "        if w in glove.stoi] \n",
    "print(idxs)\n",
    "idxs = torch.tensor(idxs).long()\n",
    "\n",
    "idxs.shape"
   ]
  },
  {
   "cell_type": "markdown",
   "metadata": {
    "id": "3x9QztrOUQbC"
   },
   "source": [
    "## LSTM for Long-Term Dependencies\n",
    "\n",
    "There are variations of recurrent neural networks that are more powerful.\n",
    "One such variation is the \n",
    "Long Short-Term Memory (LSTM) module. An LSTM is like a more powerful version of an RNN that\n",
    "is better at perpetuating long-term dependencies. Instead of having only one\n",
    "hidden state, an LSTM keeps track of both a hidden state and a **cell state**."
   ]
  },
  {
   "cell_type": "code",
   "execution_count": null,
   "metadata": {
    "id": "Q-HLERDdUQbD"
   },
   "outputs": [],
   "source": [
    "lstm_layer = nn.LSTM(input_size=50,   # dimension of the input repr\n",
    "                     hidden_size=50,   # dimension of the hidden units\n",
    "                     batch_first=True) # input format is [batch_size, seq_len, repr_dim]"
   ]
  },
  {
   "cell_type": "markdown",
   "metadata": {
    "id": "mQsCs_C1UQbH"
   },
   "source": [
    "Remember the single tweet that we worked with earlier?"
   ]
  },
  {
   "cell_type": "code",
   "execution_count": null,
   "metadata": {
    "colab": {
     "base_uri": "https://localhost:8080/"
    },
    "id": "IKlov5_8UQbI",
    "outputId": "65028373-6952-476a-a9c3-23c3f537b4f6"
   },
   "outputs": [
    {
     "data": {
      "text/plain": [
       "torch.Size([31, 50])"
      ]
     },
     "execution_count": 109,
     "metadata": {
      "tags": []
     },
     "output_type": "execute_result"
    }
   ],
   "source": [
    "tweet_emb.shape"
   ]
  },
  {
   "cell_type": "markdown",
   "metadata": {
    "id": "KEHwkrbTUQbL"
   },
   "source": [
    "This is how we can feed this tweet into the LSTM, similar to what we tried with the RNN earlier."
   ]
  },
  {
   "cell_type": "code",
   "execution_count": null,
   "metadata": {
    "colab": {
     "base_uri": "https://localhost:8080/"
    },
    "id": "O9B-iawcUQbL",
    "outputId": "6d29aefe-433a-4652-9db0-c1bc3283da40"
   },
   "outputs": [
    {
     "data": {
      "text/plain": [
       "torch.Size([1, 31, 50])"
      ]
     },
     "execution_count": 110,
     "metadata": {
      "tags": []
     },
     "output_type": "execute_result"
    }
   ],
   "source": [
    "tweet_input = tweet_emb.unsqueeze(0) # add the batch_size dimension\n",
    "h0 = torch.zeros(1, 1, 50)     # initial hidden layer\n",
    "c0 = torch.zeros(1, 1, 50)     # initial cell state\n",
    "\n",
    "out, last_hidden = lstm_layer(tweet_input, (h0, c0))\n",
    "out.shape"
   ]
  },
  {
   "cell_type": "code",
   "execution_count": null,
   "metadata": {
    "id": "cilL4a9BUQbO"
   },
   "outputs": [],
   "source": [
    "hidden, cell = last_hidden"
   ]
  },
  {
   "cell_type": "code",
   "execution_count": null,
   "metadata": {
    "colab": {
     "base_uri": "https://localhost:8080/"
    },
    "id": "6vYBMu4-UQbQ",
    "outputId": "9d890431-a2f7-4a58-8f62-e290bc93d4c7"
   },
   "outputs": [
    {
     "data": {
      "text/plain": [
       "(tensor([[[ 0.1827, -0.0175, -0.2038, -0.1495,  0.2722,  0.1690,  0.0956,\n",
       "            0.2599,  0.2264,  0.2757, -0.1559, -0.3242,  0.1312, -0.0614,\n",
       "            0.1249, -0.1401, -0.1943,  0.0414,  0.2580,  0.0812, -0.2816,\n",
       "           -0.1028,  0.1133, -0.0477, -0.3996,  0.0611,  0.2862,  0.0223,\n",
       "            0.1547, -0.0230, -0.1933, -0.2596, -0.5731,  0.1701, -0.1376,\n",
       "           -0.2740, -0.0429, -0.0414,  0.0220,  0.0535, -0.1049,  0.0636,\n",
       "           -0.2897,  0.2720,  0.2391,  0.0488, -0.1631,  0.1872, -0.1662,\n",
       "           -0.1354]]], grad_fn=<StackBackward>),\n",
       " tensor([[[ 0.4124, -0.0552, -0.5402, -0.2823,  0.4618,  0.2609,  0.2778,\n",
       "            0.4302,  0.4119,  0.5621, -0.3297, -0.6969,  0.2754, -0.1377,\n",
       "            0.2348, -0.2346, -0.4547,  0.0723,  0.4508,  0.1565, -0.6502,\n",
       "           -0.2245,  0.2714, -0.1298, -0.7872,  0.1449,  0.4493,  0.0463,\n",
       "            0.3128, -0.0731, -0.3887, -0.4433, -1.1704,  0.2831, -0.2831,\n",
       "           -0.6362, -0.1561, -0.0599,  0.0521,  0.1577, -0.1727,  0.1176,\n",
       "           -0.6537,  0.4613,  0.7454,  0.1226, -0.2703,  0.2926, -0.2902,\n",
       "           -0.1928]]], grad_fn=<StackBackward>))"
      ]
     },
     "execution_count": 113,
     "metadata": {
      "tags": []
     },
     "output_type": "execute_result"
    }
   ],
   "source": [
    "hidden,cell"
   ]
  },
  {
   "cell_type": "markdown",
   "metadata": {
    "id": "fOF_o0-KUQbT"
   },
   "source": [
    "So an LSTM version of our model would look like this:"
   ]
  },
  {
   "cell_type": "code",
   "execution_count": null,
   "metadata": {
    "colab": {
     "base_uri": "https://localhost:8080/",
     "height": 930
    },
    "id": "3CsL7L4jUQbT",
    "outputId": "785fc643-7125-4499-8c6c-c85ccb23b269"
   },
   "outputs": [
    {
     "name": "stdout",
     "output_type": "stream",
     "text": [
      "Epoch 1; Loss 0.684500; Train Acc 0.690244; Val Acc 0.586466\n",
      "Epoch 2; Loss 0.639660; Train Acc 0.687805; Val Acc 0.601504\n",
      "Epoch 3; Loss 0.649438; Train Acc 0.695122; Val Acc 0.593985\n",
      "Epoch 4; Loss 0.692166; Train Acc 0.685366; Val Acc 0.593985\n",
      "Epoch 5; Loss 0.619893; Train Acc 0.690244; Val Acc 0.593985\n",
      "Epoch 6; Loss 0.647139; Train Acc 0.687805; Val Acc 0.601504\n",
      "Epoch 7; Loss 0.419394; Train Acc 0.690244; Val Acc 0.593985\n",
      "Epoch 8; Loss 0.637765; Train Acc 0.692683; Val Acc 0.593985\n",
      "Epoch 9; Loss 0.102731; Train Acc 0.695122; Val Acc 0.593985\n",
      "Epoch 10; Loss 0.497677; Train Acc 0.695122; Val Acc 0.601504\n",
      "Epoch 11; Loss 0.648010; Train Acc 0.697561; Val Acc 0.593985\n",
      "Epoch 12; Loss 0.343782; Train Acc 0.695122; Val Acc 0.601504\n",
      "Epoch 13; Loss 0.615984; Train Acc 0.697561; Val Acc 0.593985\n",
      "Epoch 14; Loss 0.336027; Train Acc 0.695122; Val Acc 0.593985\n",
      "Epoch 15; Loss 0.686675; Train Acc 0.697561; Val Acc 0.593985\n",
      "Epoch 16; Loss 0.138315; Train Acc 0.697561; Val Acc 0.593985\n",
      "Epoch 17; Loss 0.688343; Train Acc 0.697561; Val Acc 0.593985\n",
      "Epoch 18; Loss 0.508451; Train Acc 0.700000; Val Acc 0.593985\n",
      "Epoch 19; Loss 0.614739; Train Acc 0.697561; Val Acc 0.593985\n",
      "Epoch 20; Loss 0.507286; Train Acc 0.697561; Val Acc 0.593985\n"
     ]
    },
    {
     "data": {
      "image/png": "[encoded data removed]",
      "text/plain": [
       "<Figure size 432x288 with 1 Axes>"
      ]
     },
     "metadata": {
      "needs_background": "light",
      "tags": []
     },
     "output_type": "display_data"
    },
    {
     "data": {
      "image/png": "[encoded data removed]",
      "text/plain": [
       "<Figure size 432x288 with 1 Axes>"
      ]
     },
     "metadata": {
      "needs_background": "light",
      "tags": []
     },
     "output_type": "display_data"
    },
    {
     "data": {
      "text/plain": [
       "0.5507246376811594"
      ]
     },
     "execution_count": 114,
     "metadata": {
      "tags": []
     },
     "output_type": "execute_result"
    }
   ],
   "source": [
    "class TweetLSTM(nn.Module):\n",
    "    def __init__(self, input_size, hidden_size, num_classes):\n",
    "        super(TweetLSTM, self).__init__()\n",
    "        self.emb = nn.Embedding.from_pretrained(glove.vectors)\n",
    "        self.hidden_size = hidden_size\n",
    "        self.rnn = nn.LSTM(input_size, hidden_size, batch_first=True)\n",
    "        self.fc = nn.Linear(hidden_size, num_classes)\n",
    "    \n",
    "    def forward(self, x):\n",
    "        # Look up the embedding\n",
    "        x = self.emb(x)\n",
    "        # Set an initial hidden state and cell state\n",
    "        h0 = torch.zeros(1, x.size(0), self.hidden_size)\n",
    "        c0 = torch.zeros(1, x.size(0), self.hidden_size)\n",
    "        # Forward propagate the LSTM\n",
    "        out, _ = self.rnn(x, (h0, c0))\n",
    "        # Pass the output of the last time step to the classifier\n",
    "        out = self.fc(out[:, -1, :])\n",
    "        return out\n",
    "\n",
    "model_lstm = TweetLSTM(50, 50, 2)\n",
    "train_rnn_network(model, train_loader, valid_loader, num_epochs=20, learning_rate=2e-5)\n",
    "get_accuracy(model, test_loader)"
   ]
  },
  {
   "cell_type": "markdown",
   "metadata": {
    "id": "EjF5he-2UQbW"
   },
   "source": [
    "## GRU for Long-Term Dependencies\n",
    "\n",
    "Another variation of an RNN is the Gated-Recurrent Unit (GRU).\n",
    "The GRU is invented after LSTM, and is intended to be a simplification\n",
    "of the LSTM that is still just as powerful. The nice thing about GRU units\n",
    "is that they have only one hidden state."
   ]
  },
  {
   "cell_type": "code",
   "execution_count": null,
   "metadata": {
    "id": "kuM55iquUQbW"
   },
   "outputs": [],
   "source": [
    "gru_layer = nn.GRU(input_size=50,   # dimension of the input repr\n",
    "                   hidden_size=50,   # dimension of the hidden units\n",
    "                   batch_first=True) # input format is [batch_size, seq_len, repr_dim]"
   ]
  },
  {
   "cell_type": "markdown",
   "metadata": {
    "id": "iVKdnvv1UQbZ"
   },
   "source": [
    "The GRU API is virtually identical to that of the vanilla RNN:"
   ]
  },
  {
   "cell_type": "code",
   "execution_count": null,
   "metadata": {
    "colab": {
     "base_uri": "https://localhost:8080/"
    },
    "id": "BpB8W47QUQbZ",
    "outputId": "bc7026ad-c306-4ff8-c7d1-624e31d244cd"
   },
   "outputs": [
    {
     "data": {
      "text/plain": [
       "torch.Size([1, 31, 50])"
      ]
     },
     "execution_count": 116,
     "metadata": {
      "tags": []
     },
     "output_type": "execute_result"
    }
   ],
   "source": [
    "tweet_input = tweet_emb.unsqueeze(0) # add the batch_size dimension\n",
    "h0 = torch.zeros(1, 1, 50)     # initial hidden layer\n",
    "out, last_hidden = gru_layer(tweet_input, h0)\n",
    "out.shape"
   ]
  },
  {
   "cell_type": "markdown",
   "metadata": {
    "id": "3sDhxgkMUQbc"
   },
   "source": [
    "So a GRU version of our model would look similar to before:"
   ]
  },
  {
   "cell_type": "code",
   "execution_count": null,
   "metadata": {
    "colab": {
     "base_uri": "https://localhost:8080/",
     "height": 930
    },
    "id": "whsQWqx5UQbc",
    "outputId": "030fb639-09db-408f-ec25-8ba0bb1d8bc6"
   },
   "outputs": [
    {
     "name": "stdout",
     "output_type": "stream",
     "text": [
      "Epoch 1; Loss 0.638345; Train Acc 0.697561; Val Acc 0.593985\n",
      "Epoch 2; Loss 0.471472; Train Acc 0.697561; Val Acc 0.593985\n",
      "Epoch 3; Loss 0.471001; Train Acc 0.697561; Val Acc 0.593985\n",
      "Epoch 4; Loss 0.632860; Train Acc 0.700000; Val Acc 0.593985\n",
      "Epoch 5; Loss 0.449129; Train Acc 0.700000; Val Acc 0.593985\n",
      "Epoch 6; Loss 0.447734; Train Acc 0.700000; Val Acc 0.593985\n",
      "Epoch 7; Loss 0.460522; Train Acc 0.704878; Val Acc 0.601504\n",
      "Epoch 8; Loss 0.600459; Train Acc 0.700000; Val Acc 0.593985\n",
      "Epoch 9; Loss 0.479107; Train Acc 0.697561; Val Acc 0.593985\n",
      "Epoch 10; Loss 0.612843; Train Acc 0.700000; Val Acc 0.593985\n",
      "Epoch 11; Loss 0.688539; Train Acc 0.707317; Val Acc 0.593985\n",
      "Epoch 12; Loss 0.597807; Train Acc 0.702439; Val Acc 0.593985\n",
      "Epoch 13; Loss 0.681507; Train Acc 0.702439; Val Acc 0.593985\n",
      "Epoch 14; Loss 0.594680; Train Acc 0.702439; Val Acc 0.593985\n",
      "Epoch 15; Loss 0.689661; Train Acc 0.707317; Val Acc 0.593985\n",
      "Epoch 16; Loss 0.444428; Train Acc 0.704878; Val Acc 0.593985\n",
      "Epoch 17; Loss 0.441003; Train Acc 0.707317; Val Acc 0.593985\n",
      "Epoch 18; Loss 0.611563; Train Acc 0.704878; Val Acc 0.593985\n",
      "Epoch 19; Loss 0.686294; Train Acc 0.719512; Val Acc 0.593985\n",
      "Epoch 20; Loss 0.481954; Train Acc 0.709756; Val Acc 0.593985\n"
     ]
    },
    {
     "data": {
      "image/png": "[encoded data removed]",
      "text/plain": [
       "<Figure size 432x288 with 1 Axes>"
      ]
     },
     "metadata": {
      "needs_background": "light",
      "tags": []
     },
     "output_type": "display_data"
    },
    {
     "data": {
      "image/png": "[encoded data removed]",
      "text/plain": [
       "<Figure size 432x288 with 1 Axes>"
      ]
     },
     "metadata": {
      "needs_background": "light",
      "tags": []
     },
     "output_type": "display_data"
    },
    {
     "data": {
      "text/plain": [
       "0.5652173913043478"
      ]
     },
     "execution_count": 117,
     "metadata": {
      "tags": []
     },
     "output_type": "execute_result"
    }
   ],
   "source": [
    "class TweetGRU(nn.Module):\n",
    "    def __init__(self, input_size, hidden_size, num_classes):\n",
    "        super(TweetGRU, self).__init__()\n",
    "        self.emb = nn.Embedding.from_pretrained(glove.vectors)\n",
    "        self.hidden_size = hidden_size\n",
    "        self.rnn = nn.GRU(input_size, hidden_size, batch_first=True)\n",
    "        self.fc = nn.Linear(hidden_size, num_classes)\n",
    "    \n",
    "    def forward(self, x):\n",
    "        # Look up the embedding\n",
    "        x = self.emb(x)\n",
    "        # Set an initial hidden state\n",
    "        h0 = torch.zeros(1, x.size(0), self.hidden_size)\n",
    "        # Forward propagate the GRU \n",
    "        out, _ = self.rnn(x, h0)\n",
    "        # Pass the output of the last time step to the classifier\n",
    "        out = self.fc(out[:, -1, :])\n",
    "        return out\n",
    "\n",
    "model_lstm = TweetGRU(50, 50, 2)\n",
    "train_rnn_network(model, train_loader, valid_loader, num_epochs=20, learning_rate=2e-5)\n",
    "get_accuracy(model, test_loader)"
   ]
  },
  {
   "cell_type": "code",
   "execution_count": null,
   "metadata": {
    "id": "bBznv9FwUQbf"
   },
   "outputs": [],
   "source": []
  },
  {
   "cell_type": "code",
   "execution_count": null,
   "metadata": {
    "id": "_8Sk9cMMUY4E"
   },
   "outputs": [],
   "source": []
  }
 ],
 "metadata": {
  "colab": {
   "name": "rnn.ipynb",
   "provenance": []
  },
  "kernelspec": {
   "display_name": "Python 3",
   "language": "python",
   "name": "python3"
  },
  "language_info": {
   "codemirror_mode": {
    "name": "ipython",
    "version": 3
   },
   "file_extension": ".py",
   "mimetype": "text/x-python",
   "name": "python",
   "nbconvert_exporter": "python",
   "pygments_lexer": "ipython3",
   "version": "3.7.6"
  }
 },
 "nbformat": 4,
 "nbformat_minor": 1
}

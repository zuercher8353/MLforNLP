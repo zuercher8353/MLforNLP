{
  "nbformat": 4,
  "nbformat_minor": 0,
  "metadata": {
    "colab": {
      "name": "basic_bert_colab.ipynb",
      "provenance": []
    },
    "kernelspec": {
      "name": "python3",
      "display_name": "Python 3"
    }
  },
  "cells": [
    {
      "cell_type": "markdown",
      "metadata": {
        "id": "qYbDr24bfuPG"
      },
      "source": [
        "# Understanding and Using BERT\n",
        "\n",
        "we use as an interface: https://huggingface.co/transformers/\n",
        "\n",
        "topics of this notebook:\n",
        "\n",
        "* input tokenisation for Bert with transformers\n",
        "* input format of BertModel (pretrained)\n",
        "* using the output for word and sentence similarity"
      ]
    },
    {
      "cell_type": "code",
      "metadata": {
        "id": "2jH41e7AfpYZ",
        "colab": {
          "base_uri": "https://localhost:8080/"
        },
        "outputId": "af101464-fe91-41a3-89ea-0ce1111af492"
      },
      "source": [
        "from google.colab import drive\n",
        "\n",
        "drive.mount('/content/gdrive')"
      ],
      "execution_count": 1,
      "outputs": [
        {
          "output_type": "stream",
          "text": [
            "Mounted at /content/gdrive\n"
          ],
          "name": "stdout"
        }
      ]
    },
    {
      "cell_type": "markdown",
      "metadata": {
        "id": "YQE7Onols2mO"
      },
      "source": [
        "# BERT = Bidirectional Encoder Representations from Transformers \n",
        "\n",
        "* trained on masked language learning at word and sentence level\n",
        "* uses [CLS] and [SEP] as  segmentation markers\n",
        "* uses subword representation \n",
        "* uses segmentation ids to indicate a words segment\n",
        "\n",
        "* BERT is a context-aware word embedding (due to self attention and bi-directional encoding)\n",
        "* word2vec is context independent\n",
        "\n",
        "**procedure**\n",
        "\n",
        "\n",
        "\n"
      ]
    },
    {
      "cell_type": "code",
      "metadata": {
        "id": "bIAzAxbnpfOs",
        "colab": {
          "base_uri": "https://localhost:8080/"
        },
        "outputId": "bcd52b7c-a64a-4be0-e2ae-07ebe9050823"
      },
      "source": [
        "!pip install transformers"
      ],
      "execution_count": 2,
      "outputs": [
        {
          "output_type": "stream",
          "text": [
            "Collecting transformers\n",
            "\u001b[?25l  Downloading https://files.pythonhosted.org/packages/3a/83/e74092e7f24a08d751aa59b37a9fc572b2e4af3918cb66f7766c3affb1b4/transformers-3.5.1-py3-none-any.whl (1.3MB)\n",
            "\u001b[K     |████████████████████████████████| 1.3MB 5.8MB/s \n",
            "\u001b[?25hRequirement already satisfied: numpy in /usr/local/lib/python3.6/dist-packages (from transformers) (1.18.5)\n",
            "Requirement already satisfied: dataclasses; python_version < \"3.7\" in /usr/local/lib/python3.6/dist-packages (from transformers) (0.8)\n",
            "Requirement already satisfied: protobuf in /usr/local/lib/python3.6/dist-packages (from transformers) (3.12.4)\n",
            "Collecting sentencepiece==0.1.91\n",
            "\u001b[?25l  Downloading https://files.pythonhosted.org/packages/d4/a4/d0a884c4300004a78cca907a6ff9a5e9fe4f090f5d95ab341c53d28cbc58/sentencepiece-0.1.91-cp36-cp36m-manylinux1_x86_64.whl (1.1MB)\n",
            "\u001b[K     |████████████████████████████████| 1.1MB 44.5MB/s \n",
            "\u001b[?25hRequirement already satisfied: tqdm>=4.27 in /usr/local/lib/python3.6/dist-packages (from transformers) (4.41.1)\n",
            "Requirement already satisfied: packaging in /usr/local/lib/python3.6/dist-packages (from transformers) (20.4)\n",
            "Requirement already satisfied: regex!=2019.12.17 in /usr/local/lib/python3.6/dist-packages (from transformers) (2019.12.20)\n",
            "Collecting sacremoses\n",
            "\u001b[?25l  Downloading https://files.pythonhosted.org/packages/7d/34/09d19aff26edcc8eb2a01bed8e98f13a1537005d31e95233fd48216eed10/sacremoses-0.0.43.tar.gz (883kB)\n",
            "\u001b[K     |████████████████████████████████| 890kB 38.2MB/s \n",
            "\u001b[?25hRequirement already satisfied: requests in /usr/local/lib/python3.6/dist-packages (from transformers) (2.23.0)\n",
            "Collecting tokenizers==0.9.3\n",
            "\u001b[?25l  Downloading https://files.pythonhosted.org/packages/4c/34/b39eb9994bc3c999270b69c9eea40ecc6f0e97991dba28282b9fd32d44ee/tokenizers-0.9.3-cp36-cp36m-manylinux1_x86_64.whl (2.9MB)\n",
            "\u001b[K     |████████████████████████████████| 2.9MB 42.7MB/s \n",
            "\u001b[?25hRequirement already satisfied: filelock in /usr/local/lib/python3.6/dist-packages (from transformers) (3.0.12)\n",
            "Requirement already satisfied: setuptools in /usr/local/lib/python3.6/dist-packages (from protobuf->transformers) (50.3.2)\n",
            "Requirement already satisfied: six>=1.9 in /usr/local/lib/python3.6/dist-packages (from protobuf->transformers) (1.15.0)\n",
            "Requirement already satisfied: pyparsing>=2.0.2 in /usr/local/lib/python3.6/dist-packages (from packaging->transformers) (2.4.7)\n",
            "Requirement already satisfied: click in /usr/local/lib/python3.6/dist-packages (from sacremoses->transformers) (7.1.2)\n",
            "Requirement already satisfied: joblib in /usr/local/lib/python3.6/dist-packages (from sacremoses->transformers) (0.17.0)\n",
            "Requirement already satisfied: certifi>=2017.4.17 in /usr/local/lib/python3.6/dist-packages (from requests->transformers) (2020.11.8)\n",
            "Requirement already satisfied: chardet<4,>=3.0.2 in /usr/local/lib/python3.6/dist-packages (from requests->transformers) (3.0.4)\n",
            "Requirement already satisfied: idna<3,>=2.5 in /usr/local/lib/python3.6/dist-packages (from requests->transformers) (2.10)\n",
            "Requirement already satisfied: urllib3!=1.25.0,!=1.25.1,<1.26,>=1.21.1 in /usr/local/lib/python3.6/dist-packages (from requests->transformers) (1.24.3)\n",
            "Building wheels for collected packages: sacremoses\n",
            "  Building wheel for sacremoses (setup.py) ... \u001b[?25l\u001b[?25hdone\n",
            "  Created wheel for sacremoses: filename=sacremoses-0.0.43-cp36-none-any.whl size=893257 sha256=9d097d244e15494938e6e6f2f7bf4b3957902b5ea8351b17f53df4c1c753e22a\n",
            "  Stored in directory: /root/.cache/pip/wheels/29/3c/fd/7ce5c3f0666dab31a50123635e6fb5e19ceb42ce38d4e58f45\n",
            "Successfully built sacremoses\n",
            "Installing collected packages: sentencepiece, sacremoses, tokenizers, transformers\n",
            "Successfully installed sacremoses-0.0.43 sentencepiece-0.1.91 tokenizers-0.9.3 transformers-3.5.1\n"
          ],
          "name": "stdout"
        }
      ]
    },
    {
      "cell_type": "code",
      "metadata": {
        "id": "q62ZtE2hru7n"
      },
      "source": [
        "from transformers import BertTokenizer, BertModel\n",
        "import torch\n",
        "\n",
        "MODEL_NAME = \"bert-base-german-cased\"   \n",
        "\n",
        "tokenizer = BertTokenizer.from_pretrained(MODEL_NAME)\n",
        "\n",
        "torch.set_grad_enabled(False) # torch vectors without grad\n",
        "\n",
        "model = BertModel.from_pretrained(MODEL_NAME, output_hidden_states = True)"
      ],
      "execution_count": null,
      "outputs": []
    },
    {
      "cell_type": "code",
      "metadata": {
        "id": "76J5OohTsHT9",
        "colab": {
          "base_uri": "https://localhost:8080/"
        },
        "outputId": "4e5ebe58-2f80-4489-e51b-ed7c2a96e850"
      },
      "source": [
        "# example how to represent a single sentence in BERT\n",
        "\n",
        "tokens = tokenizer.tokenize(\"Der Minister verliert die Geduld\")\n",
        "print(\"Tokens: {}\".format(tokens))\n",
        "\n",
        "# we map it to BERT indices\n",
        "tokens_ids = tokenizer.convert_tokens_to_ids(tokens)\n",
        "print(\"Tokens id: {}\".format(tokens_ids))\n",
        "\n",
        "# add the required special tokens\n",
        "tokens_ids = tokenizer.build_inputs_with_special_tokens(tokens_ids)\n",
        "\n",
        "# pytorch representation\n",
        "tokens_pt = torch.tensor([tokens_ids])\n",
        "print(\"Tokens PyTorch: {}\".format(tokens_pt))"
      ],
      "execution_count": 4,
      "outputs": [
        {
          "output_type": "stream",
          "text": [
            "Tokens: ['Der', 'Minister', 'verliert', 'die', 'Ged', '##uld']\n",
            "Tokens id: [233, 2475, 11864, 30, 3527, 13968]\n",
            "Tokens PyTorch: tensor([[    3,   233,  2475, 11864,    30,  3527, 13968,     4]])\n"
          ],
          "name": "stdout"
        }
      ]
    },
    {
      "cell_type": "markdown",
      "metadata": {
        "id": "TCQJ0t3crWxg"
      },
      "source": [
        "BERT uses the **word piece algorithm** to represent input words\n",
        "\n",
        "* 3 = CLS, 4 = SEP\n",
        "* ['Der', 'Minister', 'verliert', 'die', 'Ged', '##uld']\n",
        "* '##uld' is a useful subword string, marked as such with '##'\n",
        "* advantage: minimize out of vocabulary problem, less vocabulary size\n",
        "* German compounds are no problem\n",
        "\n",
        "\n",
        "word piece = language modelling task\n",
        "\n",
        "* a language model is a probability distribution over sequences of words: P(w1, ... ,wn)\n",
        "\n",
        "* vocabulary are all basic characters of the language (58 letters for German)\n",
        "* generate new word pieces by combining pairs of pieces\n",
        "* add those new pieces to the vocabulary that increase the language model’s likelihood on the training data the most\n",
        "* do it untill the maximum vocabulary size is reached"
      ]
    },
    {
      "cell_type": "code",
      "metadata": {
        "id": "Pq67ZTRa-_u9",
        "colab": {
          "base_uri": "https://localhost:8080/"
        },
        "outputId": "3efa09da-fd86-4019-8943-a9207347697d"
      },
      "source": [
        "# Multiple segment input\n",
        "tokenized = tokenizer(\"Geduld\", \"Hoffnung\",padding=\"max_length\",max_length=9)\n",
        "\n",
        "# Segments are concatened in the input to the model: CLS is beginning, SEP as separator\n",
        "print()\n",
        "print(\" (str): {}\".format(tokenizer.convert_ids_to_tokens(tokenized['input_ids'])))\n",
        "\n",
        "# \n",
        "input_ids=torch.tensor([tokenized['input_ids']],dtype=torch.long)\n",
        "segment_ids=torch.tensor([tokenized['token_type_ids']],dtype=torch.long)\n",
        "input_mask=torch.tensor([tokenized['attention_mask']],dtype=torch.float)\n",
        "\n",
        "# segment_ids separate different parts of the input\n",
        "print(\"input_ids\",input_ids)\n",
        "print(\"segment_ids\",segment_ids)\n",
        "print(\"attention_mask\",input_mask)\n"
      ],
      "execution_count": 5,
      "outputs": [
        {
          "output_type": "stream",
          "text": [
            "\n",
            " (str): ['[CLS]', 'Ged', '##uld', '[SEP]', 'Hoffnung', '[SEP]', '[PAD]', '[PAD]', '[PAD]']\n",
            "input_ids tensor([[    3,  3527, 13968,     4,  8772,     4,     0,     0,     0]])\n",
            "segment_ids tensor([[0, 0, 0, 0, 1, 1, 0, 0, 0]])\n",
            "attention_mask tensor([[1., 1., 1., 1., 1., 1., 0., 0., 0.]])\n"
          ],
          "name": "stdout"
        }
      ]
    },
    {
      "cell_type": "code",
      "metadata": {
        "id": "zyZMCs_ryZUa",
        "colab": {
          "base_uri": "https://localhost:8080/"
        },
        "outputId": "cde721b1-f3e8-4e77-c386-9b137155ec6e"
      },
      "source": [
        "tokenized"
      ],
      "execution_count": 6,
      "outputs": [
        {
          "output_type": "execute_result",
          "data": {
            "text/plain": [
              "{'input_ids': [3, 3527, 13968, 4, 8772, 4, 0, 0, 0], 'token_type_ids': [0, 0, 0, 0, 1, 1, 0, 0, 0], 'attention_mask': [1, 1, 1, 1, 1, 1, 0, 0, 0]}"
            ]
          },
          "metadata": {
            "tags": []
          },
          "execution_count": 6
        }
      ]
    },
    {
      "cell_type": "code",
      "metadata": {
        "id": "8nRnO4lO4Y61",
        "colab": {
          "base_uri": "https://localhost:8080/"
        },
        "outputId": "d15b425a-e71d-481c-89b9-e0f281056c18"
      },
      "source": [
        "# BERT it, for output components see https://huggingface.co/transformers/model_doc/bert.html#bertmodel\n",
        "\n",
        "(last_hidden_state,pooler_output,hidden_states)=model(input_ids,attention_mask=input_mask)\n",
        "last_hidden_state.size(),type(hidden_states) "
      ],
      "execution_count": 7,
      "outputs": [
        {
          "output_type": "execute_result",
          "data": {
            "text/plain": [
              "(torch.Size([1, 9, 768]), tuple)"
            ]
          },
          "metadata": {
            "tags": []
          },
          "execution_count": 7
        }
      ]
    },
    {
      "cell_type": "code",
      "metadata": {
        "id": "JVj03vjo50cU",
        "colab": {
          "base_uri": "https://localhost:8080/"
        },
        "outputId": "6df1fadf-321b-4e50-a746-e59d7573d5dc"
      },
      "source": [
        "# we cannot get size of the hidden_states with size() since it is a tuple\n",
        "\n",
        "print (\"Number of layers:\", len(hidden_states), \"  (initial embeddings + 12 BERT layers)\")\n",
        "layer_i = 0\n",
        "print (\"Number of batches:\", len(hidden_states[layer_i]))\n",
        "batch_i = 0\n",
        "print (\"Number of tokens:\", len(hidden_states[layer_i][batch_i]))\n",
        "token_i = 0\n",
        "print (\"Number of hidden units:\", len(hidden_states[layer_i][batch_i][token_i]))"
      ],
      "execution_count": 8,
      "outputs": [
        {
          "output_type": "stream",
          "text": [
            "Number of layers: 13   (initial embeddings + 12 BERT layers)\n",
            "Number of batches: 1\n",
            "Number of tokens: 9\n",
            "Number of hidden units: 768\n"
          ],
          "name": "stdout"
        }
      ]
    },
    {
      "cell_type": "markdown",
      "metadata": {
        "id": "BBX81rGlPj1-"
      },
      "source": [
        "![lasthidden.png](data:image/png;base64,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)"
      ]
    },
    {
      "cell_type": "markdown",
      "metadata": {
        "id": "25Wb7Nku8soo"
      },
      "source": [
        "### what shall we do with output\n",
        "\n",
        "* use it as input for some (non-)linear mappings\n",
        "* use it as representation of the input\n",
        "  * determine word similarity\n",
        "  * determine sentence similarity"
      ]
    },
    {
      "cell_type": "code",
      "metadata": {
        "id": "f1sm3XTM6DV0",
        "colab": {
          "base_uri": "https://localhost:8080/"
        },
        "outputId": "e284670e-920b-46b7-e157-c24fbbea325a"
      },
      "source": [
        "# word similarity: we use the sum of the last four layers \n",
        "#\n",
        "# first, we re-arrange things a bit\n",
        "\n",
        "# Concatenate the tensors for all layers (no longer a tuple)\n",
        "token_embeddings = torch.stack(hidden_states, dim=0)\n",
        "print(token_embeddings.size())\n",
        "\n",
        "# get rid of the batch dimension\n",
        "token_embeddings = torch.squeeze(token_embeddings, dim=1)\n",
        "print(token_embeddings.size())\n",
        "\n",
        "# re-arrange dimension\n",
        "token_embeddings = token_embeddings.permute(1,0,2)\n",
        "token_embeddings.size()"
      ],
      "execution_count": 9,
      "outputs": [
        {
          "output_type": "stream",
          "text": [
            "torch.Size([13, 1, 9, 768])\n",
            "torch.Size([13, 9, 768])\n"
          ],
          "name": "stdout"
        },
        {
          "output_type": "execute_result",
          "data": {
            "text/plain": [
              "torch.Size([9, 13, 768])"
            ]
          },
          "metadata": {
            "tags": []
          },
          "execution_count": 9
        }
      ]
    },
    {
      "cell_type": "code",
      "metadata": {
        "id": "xAjy9fbLBW05"
      },
      "source": [
        "# word embeddings from last 4 layers\n",
        "\n",
        "def Bert_word_representation(hidden_states):\n",
        "\n",
        "  token_embeddings = torch.stack(hidden_states, dim=0)\n",
        "  token_embeddings = torch.squeeze(token_embeddings, dim=1)\n",
        "  token_embeddings = token_embeddings.permute(1,0,2)\n",
        "\n",
        "  token_vecs_sum=[]\n",
        "  for token in token_embeddings:\n",
        "    # sum the vectors from the last four layers.\n",
        "    sum_vec = torch.sum(token[-4:], dim=0)\n",
        "    \n",
        "    # use `sum_vec` to represent `token`.\n",
        "    token_vecs_sum.append(sum_vec)\n",
        "  return token_vecs_sum"
      ],
      "execution_count": 11,
      "outputs": []
    },
    {
      "cell_type": "code",
      "metadata": {
        "id": "fj-stl7VDKj1",
        "colab": {
          "base_uri": "https://localhost:8080/"
        },
        "outputId": "2342e9e3-2bd8-40e2-a9be-404c492a92d6"
      },
      "source": [
        "def bertify(input):\n",
        "\n",
        "  tokenized = tokenizer(input,return_tensors='pt',padding=\"max_length\",max_length=20,truncation=True)\n",
        "\n",
        "  input_ids=tokenized['input_ids']\n",
        "  #segment_ids=tokenized['token_type_ids']\n",
        "  input_mask=tokenized['attention_mask']\n",
        "  return input_ids,input_mask\n",
        "\n",
        "input=\"Er beraubt eine Bank , geht in den Park und setzt sich auf eine Bank\"\n",
        "\n",
        "input_ids,input_mask=bertify(input)\n",
        "\n",
        "outputs=model(input_ids,attention_mask=input_mask)\n",
        "\n",
        "token_vecs_sum=Bert_word_representation(outputs[2])  # the hidden states\n",
        "len(token_vecs_sum)"
      ],
      "execution_count": 12,
      "outputs": [
        {
          "output_type": "execute_result",
          "data": {
            "text/plain": [
              "20"
            ]
          },
          "metadata": {
            "tags": []
          },
          "execution_count": 12
        }
      ]
    },
    {
      "cell_type": "code",
      "metadata": {
        "id": "JzBMZJujEmrn",
        "colab": {
          "base_uri": "https://localhost:8080/"
        },
        "outputId": "d9f18601-21d5-49ca-9a25-0482b7fb69ba"
      },
      "source": [
        "from scipy.spatial.distance import cosine\n",
        "\n",
        "sim1 = 1 - cosine(token_vecs_sum[6], token_vecs_sum[17])\n",
        "sim2 = 1 - cosine(token_vecs_sum[6], token_vecs_sum[11])\n",
        "sim3 = 1 - cosine(token_vecs_sum[11], token_vecs_sum[17])\n",
        "\n",
        "print(\" (str): {}\".format(tokenizer.convert_ids_to_tokens(input_ids.squeeze(dim=0))))\n",
        "\n",
        "\n",
        "print('Vector similarity:  %.2f' % sim1)\n",
        "print('Vector similarity :  %.2f' % sim2)\n",
        "print('Vector similarity :  %.2f' % sim3)\n"
      ],
      "execution_count": 13,
      "outputs": [
        {
          "output_type": "stream",
          "text": [
            " (str): ['[CLS]', 'Er', 'ber', '##aub', '##t', 'eine', 'Bank', ',', 'geht', 'in', 'den', 'Park', 'und', 'setzt', 'sich', 'auf', 'eine', 'Bank', '[SEP]', '[PAD]']\n",
            "Vector similarity:  0.82\n",
            "Vector similarity :  0.68\n",
            "Vector similarity :  0.63\n"
          ],
          "name": "stdout"
        }
      ]
    },
    {
      "cell_type": "markdown",
      "metadata": {
        "id": "o8ZZesX4AfAc"
      },
      "source": [
        "not ideal: which index to take, if the word was splitted? Well, we have to somehow combine the parts, e.g. by summing their vectors\n",
        "\n",
        "### sentence similarity\n",
        "\n",
        "various strategies:\n",
        "\n",
        "* take the mean of some of the word layers\n",
        "* take the final hidden state of CLS\n",
        "\n",
        "see https://mccormickml.com/2019/05/14/BERT-word-embeddings-tutorial/\n",
        "\n"
      ]
    },
    {
      "cell_type": "code",
      "metadata": {
        "id": "00qXcbXZJ_LH",
        "colab": {
          "base_uri": "https://localhost:8080/"
        },
        "outputId": "f70738ab-b087-4750-e5e5-68eaa846dee4"
      },
      "source": [
        "# sentence representation: mean of last 4 layers\n",
        "\n",
        "input=\"Die Sonne scheint und die Welt gibt Gas\"\n",
        "input2=\"Der Bauer schleicht zur Mühle und gibt sich Mühe\"\n",
        "\n",
        "def sentence_emb(input):\n",
        "  input_ids,input_mask=bertify(input)\n",
        "  outputs=model(input_ids,attention_mask=input_mask)\n",
        "  hidden_states=outputs[2]\n",
        "  token_vecs = hidden_states[-4][0]  \n",
        "  sentence_embedding = torch.mean(token_vecs, dim=0)\n",
        "  return sentence_embedding\n",
        "\n",
        "sentence_embedding1 = sentence_emb(input)\n",
        "sentence_embedding2 = sentence_emb(input2)\n",
        "\n",
        "1 - cosine(sentence_embedding1,sentence_embedding2)"
      ],
      "execution_count": 14,
      "outputs": [
        {
          "output_type": "execute_result",
          "data": {
            "text/plain": [
              "0.8995559215545654"
            ]
          },
          "metadata": {
            "tags": []
          },
          "execution_count": 14
        }
      ]
    },
    {
      "cell_type": "code",
      "metadata": {
        "id": "pgnAPOcQXDtx",
        "colab": {
          "base_uri": "https://localhost:8080/"
        },
        "outputId": "686d62cd-198a-401c-d91f-b9270039d554"
      },
      "source": [
        "# sentence representation: CLS at last layer\n",
        "\n",
        "def sentence_embCLS(input):\n",
        "  input_ids,input_mask=bertify(input)\n",
        "  (last_hidden_state,_,_)=model(input_ids,attention_mask=input_mask)\n",
        "  return   last_hidden_state[:,0,:]   # take in dimension 2 the first entry (CLS)\n",
        "\n",
        "sentence_embedding1 = sentence_embCLS(input)\n",
        "sentence_embedding2 = sentence_embCLS(input2)\n",
        "\n",
        "1 - cosine(sentence_embedding1,sentence_embedding2)"
      ],
      "execution_count": 15,
      "outputs": [
        {
          "output_type": "execute_result",
          "data": {
            "text/plain": [
              "0.7757149338722229"
            ]
          },
          "metadata": {
            "tags": []
          },
          "execution_count": 15
        }
      ]
    },
    {
      "cell_type": "markdown",
      "metadata": {
        "id": "ZMS7tbrjR-Gl"
      },
      "source": [
        "### summary\n",
        "\n",
        "* we know how to tokenizer for BERT\n",
        "* we know how to apply a pretained model to some input\n",
        "* we know how the output is structured \n",
        "* we know how we can derived word and sentence representations from it\n",
        "\n",
        "* next step: retrain BERT (transfer learning)\n"
      ]
    },
    {
      "cell_type": "markdown",
      "metadata": {
        "id": "cbXI7tdwHAlo"
      },
      "source": [
        ""
      ]
    },
    {
      "cell_type": "markdown",
      "metadata": {
        "id": "NacupROlGelU"
      },
      "source": [
        ""
      ]
    }
  ]
}
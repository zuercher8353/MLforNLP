{
 "cells": [
  {
   "cell_type": "code",
   "execution_count": null,
   "metadata": {},
   "outputs": [],
   "source": [
    "import numpy as np\n",
    "\n",
    "x1 = np.array([0.95, 0.89, .92, 0.98, 0.88, 0.975, 0.90, 0.98, 0.98, 0.94])\n",
    "x2 = np.array([0.85, 0.95, .88, 0.91, 0.94, 0.92, 0.955, 0.89, 0.82, 0.85])\n",
    "\n",
    "diff = np.subtract(x1,x2)\n",
    "diff"
   ]
  },
  {
   "cell_type": "code",
   "execution_count": null,
   "metadata": {},
   "outputs": [],
   "source": [
    "mean_diff = np.mean(diff)\n",
    "sd = np.std(diff)\n",
    "std_err = sd/np.sqrt(len(x1))\n",
    "std_err"
   ]
  },
  {
   "cell_type": "code",
   "execution_count": null,
   "metadata": {},
   "outputs": [],
   "source": [
    "t_val = mean_diff / std_err\n",
    "t_val"
   ]
  },
  {
   "cell_type": "code",
   "execution_count": null,
   "metadata": {},
   "outputs": [],
   "source": [
    "len(x1)"
   ]
  },
  {
   "cell_type": "code",
   "execution_count": null,
   "metadata": {},
   "outputs": [],
   "source": [
    "print(\"conf level 95% df 9: 1.833\")\n",
    "print(\"conf level 99% df 9: 2.821\")"
   ]
  },
  {
   "cell_type": "code",
   "execution_count": null,
   "metadata": {},
   "outputs": [],
   "source": [
    "import torch\n",
    "import torch.nn.functional as F\n",
    "\n",
    "input = torch.randn(10, 30, 60)\n",
    "x1 = F.max_pool2d(input, kernel_size=(2,2))\n",
    "x2 = F.max_pool2d(input, kernel_size=(3,1))\n",
    "x3 = F.avg_pool2d(input, kernel_size=(1,3))\n",
    "x4 = F.avg_pool2d(input, kernel_size=(2,3))\n",
    "\n",
    "#in general: reduces the dimensionality\n",
    "#kernel_size – the size of the window to take a max over\n",
    "#stride – the stride of the window. Default value is kernel_size\n",
    "# -> used to reduce computational load and overfitting"
   ]
  },
  {
   "cell_type": "code",
   "execution_count": null,
   "metadata": {},
   "outputs": [],
   "source": [
    "print(x1.shape)\n",
    "print(x2.shape)\n",
    "print(x3.shape)\n",
    "print(x4.shape)"
   ]
  },
  {
   "cell_type": "code",
   "execution_count": null,
   "metadata": {},
   "outputs": [],
   "source": [
    "input = torch.tensor([[[2., 1., 1., 2.], [0., 0., 2., 0.], [0., 2., 2., 1.], [0., 2., 0., 1.]]])\n",
    "input.shape"
   ]
  },
  {
   "cell_type": "code",
   "execution_count": null,
   "metadata": {},
   "outputs": [],
   "source": [
    "output_max = F.max_pool2d(input, kernel_size=(2,2))\n",
    "output_avg = F.avg_pool2d(input, kernel_size=(2,2))"
   ]
  },
  {
   "cell_type": "code",
   "execution_count": null,
   "metadata": {},
   "outputs": [],
   "source": [
    "print(output_max)\n",
    "print(output_avg)"
   ]
  }
 ],
 "metadata": {
  "kernelspec": {
   "display_name": "Python 3",
   "language": "python",
   "name": "python3"
  },
  "language_info": {
   "codemirror_mode": {
    "name": "ipython",
    "version": 3
   },
   "file_extension": ".py",
   "mimetype": "text/x-python",
   "name": "python",
   "nbconvert_exporter": "python",
   "pygments_lexer": "ipython3",
   "version": "3.7.6"
  }
 },
 "nbformat": 4,
 "nbformat_minor": 4
}

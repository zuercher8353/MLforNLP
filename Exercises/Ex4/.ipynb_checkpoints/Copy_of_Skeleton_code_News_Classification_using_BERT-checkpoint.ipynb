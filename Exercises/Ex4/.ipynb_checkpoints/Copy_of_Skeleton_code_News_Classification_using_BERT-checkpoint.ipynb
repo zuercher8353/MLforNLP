{
  "nbformat": 4,
  "nbformat_minor": 0,
  "metadata": {
    "colab": {
      "name": "Copy of Skeleton code: News Classification using BERT.ipynb",
      "provenance": [],
      "collapsed_sections": []
    },
    "kernelspec": {
      "name": "python3",
      "display_name": "Python 3"
    },
    "accelerator": "GPU"
  },
  "cells": [
    {
      "cell_type": "code",
      "metadata": {
        "id": "-RwrdWVI8DQb"
      },
      "source": [
        "!pip install -qq transformers # install transformer package from huggingface library"
      ],
      "execution_count": null,
      "outputs": []
    },
    {
      "cell_type": "markdown",
      "metadata": {
        "id": "8MCGvCLdhpof"
      },
      "source": [
        "#Load required Libraries\n",
        "Lines which will import the BERT Model from Huggingface libarary\n",
        "\n",
        "`from transformers import BertModel, BertTokenizer`"
      ]
    },
    {
      "cell_type": "code",
      "metadata": {
        "id": "GcMluUS99V83",
        "colab": {
          "base_uri": "https://localhost:8080/"
        },
        "outputId": "4f3dac2e-ccb0-4d1d-a8b7-386163d27237"
      },
      "source": [
        "import transformers\n",
        "from transformers import BertModel, BertTokenizer, BertForSequenceClassification\n",
        "import torch\n",
        "import numpy as np\n",
        "import pandas as pd\n",
        "import seaborn as sns\n",
        "import matplotlib.pyplot as plt\n",
        "from sklearn.model_selection import train_test_split\n",
        "from sklearn.metrics import confusion_matrix, classification_report\n",
        "from collections import defaultdict\n",
        "from textwrap import wrap\n",
        "from torch import nn, optim\n",
        "from torch.utils.data import Dataset, DataLoader\n",
        "from google.colab import drive\n",
        "drive.mount('/drive')\n",
        "\n",
        "torch.cuda.empty_cache()\n",
        "\n",
        "RANDOM_SEED=42\n",
        "np.random.seed(RANDOM_SEED)\n",
        "torch.manual_seed(RANDOM_SEED)\n",
        "device = torch.device(\"cuda:0\" if torch.cuda.is_available() else \"cpu\")"
      ],
      "execution_count": null,
      "outputs": [
        {
          "output_type": "stream",
          "text": [
            "Drive already mounted at /drive; to attempt to forcibly remount, call drive.mount(\"/drive\", force_remount=True).\n"
          ],
          "name": "stdout"
        }
      ]
    },
    {
      "cell_type": "markdown",
      "metadata": {
        "id": "97yBc8nEiNfs"
      },
      "source": [
        "# Load, preprocess and tokenize the dataset.\n"
      ]
    },
    {
      "cell_type": "code",
      "metadata": {
        "id": "d9eGLr_f8Tdz",
        "colab": {
          "base_uri": "https://localhost:8080/",
          "height": 306
        },
        "outputId": "bffe7285-d2c9-45d9-8fda-4644402fb48c"
      },
      "source": [
        "df = pd.read_csv('/drive/My Drive/Colab Notebooks/news.csv')\n",
        "df.head()\n"
      ],
      "execution_count": null,
      "outputs": [
        {
          "output_type": "execute_result",
          "data": {
            "text/html": [
              "<div>\n",
              "<style scoped>\n",
              "    .dataframe tbody tr th:only-of-type {\n",
              "        vertical-align: middle;\n",
              "    }\n",
              "\n",
              "    .dataframe tbody tr th {\n",
              "        vertical-align: top;\n",
              "    }\n",
              "\n",
              "    .dataframe thead th {\n",
              "        text-align: right;\n",
              "    }\n",
              "</style>\n",
              "<table border=\"1\" class=\"dataframe\">\n",
              "  <thead>\n",
              "    <tr style=\"text-align: right;\">\n",
              "      <th></th>\n",
              "      <th>Unnamed: 0</th>\n",
              "      <th>title</th>\n",
              "      <th>text</th>\n",
              "      <th>label</th>\n",
              "    </tr>\n",
              "  </thead>\n",
              "  <tbody>\n",
              "    <tr>\n",
              "      <th>0</th>\n",
              "      <td>8476</td>\n",
              "      <td>You Can Smell Hillary’s Fear</td>\n",
              "      <td>Daniel Greenfield, a Shillman Journalism Fello...</td>\n",
              "      <td>FAKE</td>\n",
              "    </tr>\n",
              "    <tr>\n",
              "      <th>1</th>\n",
              "      <td>10294</td>\n",
              "      <td>Watch The Exact Moment Paul Ryan Committed Pol...</td>\n",
              "      <td>Google Pinterest Digg Linkedin Reddit Stumbleu...</td>\n",
              "      <td>FAKE</td>\n",
              "    </tr>\n",
              "    <tr>\n",
              "      <th>2</th>\n",
              "      <td>3608</td>\n",
              "      <td>Kerry to go to Paris in gesture of sympathy</td>\n",
              "      <td>U.S. Secretary of State John F. Kerry said Mon...</td>\n",
              "      <td>REAL</td>\n",
              "    </tr>\n",
              "    <tr>\n",
              "      <th>3</th>\n",
              "      <td>10142</td>\n",
              "      <td>Bernie supporters on Twitter erupt in anger ag...</td>\n",
              "      <td>— Kaydee King (@KaydeeKing) November 9, 2016 T...</td>\n",
              "      <td>FAKE</td>\n",
              "    </tr>\n",
              "    <tr>\n",
              "      <th>4</th>\n",
              "      <td>875</td>\n",
              "      <td>The Battle of New York: Why This Primary Matters</td>\n",
              "      <td>It's primary day in New York and front-runners...</td>\n",
              "      <td>REAL</td>\n",
              "    </tr>\n",
              "  </tbody>\n",
              "</table>\n",
              "</div>"
            ],
            "text/plain": [
              "   Unnamed: 0  ... label\n",
              "0        8476  ...  FAKE\n",
              "1       10294  ...  FAKE\n",
              "2        3608  ...  REAL\n",
              "3       10142  ...  FAKE\n",
              "4         875  ...  REAL\n",
              "\n",
              "[5 rows x 4 columns]"
            ]
          },
          "metadata": {
            "tags": []
          },
          "execution_count": 58
        }
      ]
    },
    {
      "cell_type": "code",
      "metadata": {
        "id": "WU1ocOvo8nmv"
      },
      "source": [
        "from sklearn.preprocessing import LabelEncoder\n",
        "le=LabelEncoder()\n",
        "le.fit(df[\"label\"])\n",
        "class_names=list(le.classes_)"
      ],
      "execution_count": null,
      "outputs": []
    },
    {
      "cell_type": "code",
      "metadata": {
        "id": "4C2yBWaf9iTC",
        "colab": {
          "base_uri": "https://localhost:8080/",
          "height": 306
        },
        "outputId": "97d56d52-86b5-4ced-a3ab-3d5351ea6063"
      },
      "source": [
        "df[\"label\"]=le.transform(df[\"label\"])\n",
        "df.head()"
      ],
      "execution_count": null,
      "outputs": [
        {
          "output_type": "execute_result",
          "data": {
            "text/html": [
              "<div>\n",
              "<style scoped>\n",
              "    .dataframe tbody tr th:only-of-type {\n",
              "        vertical-align: middle;\n",
              "    }\n",
              "\n",
              "    .dataframe tbody tr th {\n",
              "        vertical-align: top;\n",
              "    }\n",
              "\n",
              "    .dataframe thead th {\n",
              "        text-align: right;\n",
              "    }\n",
              "</style>\n",
              "<table border=\"1\" class=\"dataframe\">\n",
              "  <thead>\n",
              "    <tr style=\"text-align: right;\">\n",
              "      <th></th>\n",
              "      <th>Unnamed: 0</th>\n",
              "      <th>title</th>\n",
              "      <th>text</th>\n",
              "      <th>label</th>\n",
              "    </tr>\n",
              "  </thead>\n",
              "  <tbody>\n",
              "    <tr>\n",
              "      <th>0</th>\n",
              "      <td>8476</td>\n",
              "      <td>You Can Smell Hillary’s Fear</td>\n",
              "      <td>Daniel Greenfield, a Shillman Journalism Fello...</td>\n",
              "      <td>0</td>\n",
              "    </tr>\n",
              "    <tr>\n",
              "      <th>1</th>\n",
              "      <td>10294</td>\n",
              "      <td>Watch The Exact Moment Paul Ryan Committed Pol...</td>\n",
              "      <td>Google Pinterest Digg Linkedin Reddit Stumbleu...</td>\n",
              "      <td>0</td>\n",
              "    </tr>\n",
              "    <tr>\n",
              "      <th>2</th>\n",
              "      <td>3608</td>\n",
              "      <td>Kerry to go to Paris in gesture of sympathy</td>\n",
              "      <td>U.S. Secretary of State John F. Kerry said Mon...</td>\n",
              "      <td>1</td>\n",
              "    </tr>\n",
              "    <tr>\n",
              "      <th>3</th>\n",
              "      <td>10142</td>\n",
              "      <td>Bernie supporters on Twitter erupt in anger ag...</td>\n",
              "      <td>— Kaydee King (@KaydeeKing) November 9, 2016 T...</td>\n",
              "      <td>0</td>\n",
              "    </tr>\n",
              "    <tr>\n",
              "      <th>4</th>\n",
              "      <td>875</td>\n",
              "      <td>The Battle of New York: Why This Primary Matters</td>\n",
              "      <td>It's primary day in New York and front-runners...</td>\n",
              "      <td>1</td>\n",
              "    </tr>\n",
              "  </tbody>\n",
              "</table>\n",
              "</div>"
            ],
            "text/plain": [
              "   Unnamed: 0  ... label\n",
              "0        8476  ...     0\n",
              "1       10294  ...     0\n",
              "2        3608  ...     1\n",
              "3       10142  ...     0\n",
              "4         875  ...     1\n",
              "\n",
              "[5 rows x 4 columns]"
            ]
          },
          "metadata": {
            "tags": []
          },
          "execution_count": 60
        }
      ]
    },
    {
      "cell_type": "code",
      "metadata": {
        "id": "OebumpCw9mH1",
        "colab": {
          "base_uri": "https://localhost:8080/",
          "height": 333
        },
        "outputId": "1c435a03-70ba-427f-8c9c-9c51c8892d6e"
      },
      "source": [
        "ax = sns.countplot(df.label)\n",
        "plt.xlabel('Fake/Real News ')\n",
        "ax.set_xticklabels(class_names);"
      ],
      "execution_count": null,
      "outputs": [
        {
          "output_type": "stream",
          "text": [
            "/usr/local/lib/python3.6/dist-packages/seaborn/_decorators.py:43: FutureWarning: Pass the following variable as a keyword arg: x. From version 0.12, the only valid positional argument will be `data`, and passing other arguments without an explicit keyword will result in an error or misinterpretation.\n",
            "  FutureWarning\n"
          ],
          "name": "stderr"
        },
        {
          "output_type": "display_data",
          "data": {
            "image/png": "[encoded data removed]",
            "text/plain": [
              "<Figure size 432x288 with 1 Axes>"
            ]
          },
          "metadata": {
            "tags": [],
            "needs_background": "light"
          }
        }
      ]
    },
    {
      "cell_type": "code",
      "metadata": {
        "id": "rZdDM_tv-K_H"
      },
      "source": [
        "PRE_TRAINED_MODEL_NAME = 'bert-base-cased'\n",
        "tokenizer = BertTokenizer.from_pretrained(PRE_TRAINED_MODEL_NAME)\n",
        "MAX_LEN = 160"
      ],
      "execution_count": null,
      "outputs": []
    },
    {
      "cell_type": "code",
      "metadata": {
        "id": "XHS2n_nZ903U"
      },
      "source": [
        "class NewsDataset(Dataset):\n",
        "\n",
        "  def __init__(self, news_list, labels, tokenizer, max_len):\n",
        "    self.news_list = news_list\n",
        "    self.labels = labels\n",
        "    self.tokenizer = tokenizer\n",
        "    self.max_len = max_len\n",
        "  \n",
        "  def __len__(self):\n",
        "    return len(self.news_list)\n",
        "  \n",
        "  def __getitem__(self, item):\n",
        "    news = str(self.news_list[item])\n",
        "    label = self.labels[item]\n",
        "\n",
        "    encoding = self.tokenizer.encode_plus(\n",
        "      news,\n",
        "      add_special_tokens=True,\n",
        "      max_length=self.max_len,\n",
        "      return_token_type_ids=False,\n",
        "      pad_to_max_length=True,\n",
        "      padding='max_length',\n",
        "      return_attention_mask=True,\n",
        "      truncation=True,\n",
        "      return_tensors='pt',\n",
        "    )\n",
        "\n",
        "    return {\n",
        "      'news_text': news,\n",
        "      'news_tokenized': encoding['input_ids'].flatten(),\n",
        "      'attention_mask': encoding['attention_mask'].flatten(),\n",
        "      'labels': torch.tensor(label, dtype=torch.long)\n",
        "    }"
      ],
      "execution_count": null,
      "outputs": []
    },
    {
      "cell_type": "code",
      "metadata": {
        "id": "Uci0-1LG96xJ",
        "colab": {
          "base_uri": "https://localhost:8080/"
        },
        "outputId": "d62fb8ed-f154-478e-b7f4-8400a88e7a79"
      },
      "source": [
        "# Donot change the these values\n",
        "df_train, df_test = train_test_split(df, test_size=0.7, random_state=42)\n",
        "df_val, df_test = train_test_split(df_test, test_size=0.5, random_state=48)\n",
        "df_train.shape, df_val.shape, df_test.shape"
      ],
      "execution_count": null,
      "outputs": [
        {
          "output_type": "execute_result",
          "data": {
            "text/plain": [
              "((1900, 4), (2217, 4), (2218, 4))"
            ]
          },
          "metadata": {
            "tags": []
          },
          "execution_count": 64
        }
      ]
    },
    {
      "cell_type": "code",
      "metadata": {
        "id": "wd2qDypp-DlX"
      },
      "source": [
        "def data_loader(df, tokenizer, max_len, batch_size):\n",
        "  news_list=df.text.to_numpy()\n",
        "  labels=df.label.to_numpy()\n",
        "  dataset= NewsDataset(news_list,labels,tokenizer=tokenizer, max_len=max_len)\n",
        "\n",
        "  return DataLoader(dataset,batch_size=batch_size,num_workers=4)\n",
        "\n",
        "BATCH_SIZE = 16\n",
        "\n",
        "# pytorch Data loaders for train , val, test data set\n",
        "train_data_loader = data_loader(df_train, tokenizer, MAX_LEN, BATCH_SIZE)\n",
        "val_data_loader = data_loader(df_val, tokenizer, MAX_LEN, BATCH_SIZE)\n",
        "test_data_loader = data_loader(df_test, tokenizer, MAX_LEN, BATCH_SIZE)"
      ],
      "execution_count": null,
      "outputs": []
    },
    {
      "cell_type": "code",
      "metadata": {
        "id": "ilNeHi0n-H5_",
        "colab": {
          "base_uri": "https://localhost:8080/"
        },
        "outputId": "bf68fff3-19f7-47a3-9759-6f3381949dc6"
      },
      "source": [
        "data = next(iter(train_data_loader))\n",
        "data.keys()\n",
        "print(data['news_tokenized'].shape)\n",
        "print(data['attention_mask'].shape)\n",
        "print(data['labels'].shape)\n",
        "data"
      ],
      "execution_count": null,
      "outputs": [
        {
          "output_type": "stream",
          "text": [
            "torch.Size([16, 160])\n",
            "torch.Size([16, 160])\n",
            "torch.Size([16])\n"
          ],
          "name": "stdout"
        },
        {
          "output_type": "execute_result",
          "data": {
            "text/plain": [
              "{'attention_mask': tensor([[1, 1, 1,  ..., 1, 1, 1],\n",
              "         [1, 1, 1,  ..., 1, 1, 1],\n",
              "         [1, 1, 1,  ..., 1, 1, 1],\n",
              "         ...,\n",
              "         [1, 1, 1,  ..., 0, 0, 0],\n",
              "         [1, 1, 1,  ..., 0, 0, 0],\n",
              "         [1, 1, 1,  ..., 1, 1, 1]]),\n",
              " 'labels': tensor([1, 1, 0, 0, 1, 1, 1, 1, 0, 0, 1, 0, 0, 0, 0, 0]),\n",
              " 'news_text': ['Even 24 hours ago, there was the faintest hope he could be the nominee. Now, Bernie Sanders is shifting gears.\\n\\nDemocratic presidential candidate Bernie Sanders listens as audience members cheer during an election night campaign event at the Big Sandy Superstore Arena Tuesday in Huntington, W.Va.\\n\\nBernie Sanders knows he can’t win the Democratic presidential nomination. He said as much,\\xa0even before losing decisively to Hillary Clinton in four out of five primaries Tuesday.\\n\\nYet Senator Sanders remains in the race. But he now fills a wholly different niche than he did even 24 hours ago. Gone is Sanders the candidate with a slim remaining hope that he could still be the Democratic nominee. Enter Sanders the message candidate.\\n\\nAnd the message is this: that Sanders has tapped into a current of discontent within the Democratic base, particularly among young people, that’s not going away. And he intends to press his agenda all the way to the Democratic convention in Philadelphia this summer.\\n\\n“The people in every state in this country should have the right to determine who they want as president and what the agenda of the Democratic Party should be,” Sanders said in a statement Tuesday night. “That’s why we are in this race until the last vote is cast.”\\n\\nThe intent, he added, is to “fight for a progressive party platform” that includes a $15 minimum wage, an “end to our disastrous trade policies,” Medicare for all, breaking up big banks, ending fracking, free public college, and a carbon tax to address climate change.\\n\\nThe upside for Sanders is that he keeps his issues on the public radar, and continues to nudge the more moderate Mrs. Clinton to the left. The risk is that he looks like a sore loser, as some have called him, and prevents the Democratic Party from fully focusing on the task at hand: defeating the Republicans in November.\\n\\nClinton – who won Tuesday in Pennsylvania, Maryland, Delaware, and Connecticut, and lost only in Rhode Island – pivoted anyway toward a message of Democratic unity and toward a general election fight in which she hopes to attract independents as well as Republicans uncomfortable with the direction of their party.\\n\\n“If you are a Democrat, an independent or a thoughtful Republican, you know their approach is not going to build an America where we increase opportunity or decrease inequality,” Clinton said. “So instead of us letting them take us backwards we want America to be in the future business.”\\n\\nIn her pitch to Sanders supporters, Clinton sought to portray herself \\xa0as a progressive with a pragmatic streak\\n\\n“We have to be both dreamers and doers,” she said.\\n\\nClinton also reminded voters of the historic nature of her candidacy, now placing her firmly in position to become the first female major-party nominee in American history and potentially the first woman president. In the process, she took a dig at Republican front-runner Donald Trump, who swept all five states Tuesday.\\n\\n“Now, the other day, Mr. Trump accused me of playing the, quote, woman card. Well, if fighting for women’s health care and paid family leave and equal pay is playing the woman card, then deal me in,” Clinton said.\\n\\nFor Sanders, a self-described social democrat who has fought for decades on the issues now at the heart of his campaign, the 2016 race remains, in a way, a dream come true. The once-obscure senator from Vermont is now a national figure, with a national platform to press his cause.\\n\\nAnd for many reasons, he truly has no reason to drop out.\\n\\nExhibit A is his incredible fundraising. Most candidates will stay in a race as long as they have two nickels to rub together, and Sanders has plenty. He has outraised Clinton three straight months – average donation $27, as the rally chant goes – and his “take” is accelerating. In March alone, he raised $44 million, a monthly record for the Vermont social democrat.\\n\\nExhibit B is his huge rallies. Who can argue with the\\xa0exhilaration\\xa0Sanders must feel when he takes the stage to address thousands of screaming fans?\\n\\nExhibit C is his party affiliation – or lack thereof. Sanders isn’t really a Democrat. He may say he is (sort of) for the purposes of this presidential race, but when faced with pleas to step aside for the good of the party, he shrugs. In his world, the “party” is the establishment, and that’s what he’s fighting.\\n\\nExhibit D is the “what ifs.” There remains a chance that Clinton could be indicted over her use of a private e-mail server, and her handling of information now deemed classified, while she was secretary of State. The financial doings of the Clinton family foundation represent more unknown territory with potentially bad optics.\\n\\nIf Clinton were forced from the race, Sanders would be the last person standing for the Democratic nomination. True, Vice President Joe Biden could jump in, though that would offend many voters’ sense of fairness – especially the Sanders voters, whose support will be needed in November, no matter who wins the Democratic nomination.\\n\\nExhibit E is history. Many a pundit has pointed out that in 2008, after a spirited primary season, then-Senator Clinton dropped out of the presidential race and embraced her rival, Barack Obama. But that didn’t happen until June of that year, after all the primaries were over. Then-Senator Obama still won the election.\\n\\nSo for now, at least, it’s probably too soon to claim that Sanders is doing irreparable harm to Clinton’s campaign. Clinton has high negatives for a likely nominee, but the Republicans are pounding her much harder than Sanders is. Remember that Sanders took one of Clinton’s biggest Achilles’ Heels – her e-mails – off the table in their first debate.\\n\\nRemember also the “PUMAs” of 2008. It’s an acronym whose meaning isn’t suitable for a family newspaper, but it stood for Clinton voters claiming they’d never vote for Obama simply for the sake of “party unity.” Most Clinton voters ended up backing Obama anyway.\\n\\nLet’s also be clear: Even if Sanders doesn’t actually intend to take his challenge of Clinton all the way to the convention floor in Philadelphia, why should he and his strategists say that now? In politics, candidates are fully “in it” until they’re not.\\n\\nSanders, in a way, can already claim victory. He has already pushed Clinton to the left on trade; chances are, she would not have rejected the Obama-backed Trans-Pacific trade deal absent Sanders’s objections.\\n\\nSanders has also established $15 as the liberal benchmark for raising the minimum wage, no doubt a spur toward Clinton’s support for the Fight for $15 advocacy campaign. Clinton prefers to push for a $12 federal minimum wage, citing political feasibility, but has said she’d sign a bill raising the federal minimum wage to $15.\\n\\nSanders says he’s waiting to see what a Clinton platform looks like before he decides how much to campaign for her. In an MSNBC interview last week, Sanders called the process a “two-way street,” suggesting she has to move more toward his philosophy before he’ll help her.\\n\\n“I want to see the Democratic Party have the courage to stand up to big-money interests in a way that they have not in the past, take on the drug companies, take on Wall Street, take on the fossil fuel industry, and I want to see them come up with ideas that really do excite working families and young people in this country,” Sanders said.\\n\\nIn an interview on ABC’s “Good Morning America” last week, Clinton said that when she dropped out of the 2008 race, 40 percent of her supporters were unwilling to vote for Obama. So she got to work.\\n\\n“I nominated him at the convention. I went from group to group, even as late as the convention, convincing people who were my delegates to come together, to unify,” she said.\\n\\nIt’s also worth pointing out that by facing a competitive primary to the bitter end, Obama was in fighting trim for the general election – and organized in all 50 states. Clinton may not be happy with Sanders’s continued campaign, but he has at least given her a window into how a sizable portion of her party’s voters see the world.\\n\\nFor now, Sanders holds a lot of power.\\xa0 He can join hands with Clinton at the convention or he can keep fighting. If he chooses the latter path, he could do serious damage to the Democratic Party. But the more likely scenario, say Democratic strategists, is that Sanders declares moral victory and backs Clinton – if not enthusiastically.',\n",
              "  '**Want FOX News First in your inbox every day? Sign up\\xa0here.**\\n\\n \\n\\n Buzz Cuts:\\n\\n • Trump advisors try to pivot not fishtail\\n\\n • Indiana shaping up as do or die for Cruz\\n\\n • What happened to working man’s liberalism?\\n\\n • Pro-Clinton PAC spends $1 million to fight online trolling\\n\\n • 10-point score\\n\\nTRUMP ADVISORS TRY TO PIVOT NOT FISHTAIL\\n\\n HOLLYWOOD, FLA. – It’s a fine line between a general election shift and the dreaded ‘Etch A Sketch.’\\n\\nDonald Trump’s supporters give him broad latitude on issues and even his promise of an attitudinal change. For example, his suggestion that the Republicans should become a pro-choice party likely wrinkled few brows among his core supporters.\\n\\nThe idea that Trump would change his attitude and approach along with his opinions wouldn’t trouble many who have faith in him as a man and a leader. For those who believe the Trump is the only person who can make America great again, putting on a new guise for the general election would be nothing troubling.\\n\\nRemember, these are people who believe him when he describes himself as the new Reagan and the person more presidential than anybody since Lincoln.\\n\\nBut can Trump create a habitat that is healthy for both his backers and the kinds of folks that his newly expanded campaign are schmoozing here in Hollywood without further antagonizing the substantial chunk of his party that ranges from resentful to outright outraged about Trump’s surprising success in overtaking the GOP?\\n\\nTrump had a very good day here Thursday. Aside from turning back a Rules Committee vote that might’ve helped Sen. Ted Cruz win a floor fight at the convention, delegates and other members of the establishment were very impressed by Trump’s campaign’s effort to start sucking up to them.\\n\\nPromises of Trump’s flexibility when served alongside seafood platters and open bars from his new K Street handlers went a long way toward convincing the GOP elite that Trump is ready to play ball.\\n\\nLittle could be more comforting to them than the pledge from Trump’s campaign boss that the wildness of the frontrunner to this point has been a put on.\\n\\nConsultants and party elders are not uncomfortable with the idea of tricking rubes or profit and or patriotism. And for those facing general election oblivion, anything that sounds like avoiding a savage showdown in Cleveland and not losing the general election by 40 states sounds good.\\n\\nBut even if Trump and his new handlers can keep the GOP elite and his existing populist base happy, the current maneuvers do pose a risk.\\n\\nThe most important thing for the Republican frontrunner right now is for his detractors and enemies on the conservative side of the party to just give up.\\n\\nThere are enough Republicans who loathe Trump to still stop him. But they have to go vote and they have to be willing to blow up their conventions to do it.\\n\\nWhen Trump’s new Sherpa suggests that it has all been a fake so far, that gives new cause for alarm to the conservatives who already deeply mistrust Trump and see him as more of a Democrat than Republican.\\n\\nAll Trump needs in order to win is for the resistance to just lay down for a couple of weeks. When they wake up it will all be over.\\n\\nBut if Trump starts fishtailing in his turn towards conventionality it will reinvigorate the #NeverTrump movement.\\xa0 \\n\\n \\n\\n It’s great to suck up to the party, even belatedly, but doing in such a transparent manner could be hazardous to Trump’s nomination.\\xa0\\n\\n \\n\\n [GOP delegate count:\\xa0Trump\\xa0845;\\xa0Cruz\\xa0559; Kasich 147 (1,237 needed to win)]\\n\\nFox News Sunday: Trump’s new man - Mr. Sunday sits down with the Trump campaign’s new boss, Paul Manafort, to discuss the latest campaign news on the heels of the RNC’s spring meeting. “Fox News Sunday with\\xa0Chris Wallace” airs at 2 p.m. and 6 p.m. ET on the Fox News Channel.\\xa0Check local listings\\xa0for broadcast times in your area.\\n\\n \\n\\n Indiana shaping up as do or die for Cruz - RCP: “Due to a dearth of public polling in Indiana, however, it’s not clear how large Cruz’s advantage might be, if he indeed has one. One recent private poll not affiliated with any of the presidential campaigns showed Cruz leading in two congressional districts, Kasich in one, and Trump dominating in two more. Three other congressional districts, meanwhile, showed Cruz and Kasich essentially tied…Although there are just 57 delegates at stake in Indiana, the contest is one of the few remaining wild cards on the primary map. If Cruz or Kasich do not win, the Republican race could quickly spiral out of their control. If Trump does not win Indiana, however, his delegate math becomes exceedingly difficult to win the nomination before Cleveland.”\\n\\n \\n\\n Unpacking Trump’s health proposal - Health care policy expert, James Capretta, points out the flaws in Trump’s health care plan proposal: “Trump has said he wants to get rid of the entirety of the [Affordable Care Act], including subsidies for health insurance and its expansion of Medicaid. What does he propose instead to boost enrollment in health insurance by lower-income households? Essentially nothing.”\\n\\n \\n\\n [Watch Fox: On Sunday, Martha MacCallum and Bill Hemmer host a town hall in Philadelphia with voters ahead of the crucial Pennsylvania primary. Tune in at 8 p.m. ET]\\n\\n \\n\\n WITH YOUR SECOND CUP OF COFFEE…\\n\\n The passing of legendary pop star Prince on Thursday rocked the music industry in a way not seen since the passing of Michael Jackson. But the music revolutionary also had another passion in his life, one that Charlie Murphy was surprised by: Prince’s love of basketball. Time: “Back in October, Prince unexpectedly showed up to Target Center in Minneapolis to watch the fifth and deciding game the WNBA Finals, between the Lynx and the Indiana Fever. The Lynx won, 69-52, to clinch the series. The pop icon…approached a Lynx staffer with an incredible offer. The players, plus a guest, were invited to his Paisley Park compound for a private concert…He played ‘Purple Rain,’ ‘When Doves Cry,’ ‘1999,’ and some new stuff. He played different instruments throughout the evening — guitar, keyboards, drums. He played until 4 am; a few Lynx players and coaches danced on stage.”\\n\\n \\n\\n Got\\xa0a\\xa0TIP\\xa0from the\\xa0RIGHT\\xa0or the\\xa0LEFT? Email\\xa0FoxNewsFirst@FOXNEWS.COM\\n\\n \\n\\n POLL CHECK\\n\\n Real Clear Politics Averages\\n\\n National GOP nomination: Trump\\xa040.4 percent;\\xa0Cruz\\xa030.6 percent;\\xa0Kasich 21.8 percent\\n\\n National Dem nomination: Clinton 47.7 percent; Sanders 46.3 percent\\n\\n General Election:\\xa0Clinton vs. Trump: Clinton +9.3 points\\n\\n Generic Congressional Vote: Democrats +1\\n\\nWHAT HAPPENED TO WORKING MAN’S LIBERALISM?\\n\\n Vox’s Emmet Rensin takes a deep dive into a concept he dubs “smug style” liberalism in America and how the political concept changed from an ideology of the working class to that of the elite. How did this happen and what has the smug style done to American liberalism? This lengthy piece goes into the origins and results of the shift in American political thought:\\n\\n \\n\\n “The smug style is a psychological reaction to a profound shift in American political demography. Beginning in the middle of the 20th\\xa0century, the working class, once the core of the coalition, began abandoning the Democratic Party…In 1964,\\xa0it was\\xa055 percent of working-class voters. By 1980, it was 35 percent…The smug recognize one another by their mutual\\xa0knowing…It is the smug style’s first premise: a politics defined by a command of the Correct Facts and signaled by an allegiance to the Correct Culture…So long as liberals cannot find common cause with the larger section of the American working class, they will search for reasons to justify that failure. They will resent them. They will find, over and over, how easy it is to justify abandoning them further.\\xa0 They will choose the smug style.”\\n\\n \\n\\n Pro-Clinton PAC spends $1 million to fight online trolling - Daily Beast: “Citing ‘lessons learned from online engagement with ‘Bernie Bros,’ a pro-Hillary Clinton Super PAC is pledging to spend $1 million to ‘push back against’ users on Twitter, Facebook, Reddit and Instagram. Correct the Record’s ‘Barrier Breakers’ project boasts in a press release that it has already ‘addressed more than 5,000 people that have personally attacked Hillary Clinton on Twitter.’ The PAC released this on Thursday.”\\n\\nDemocrats shift from protecting to adjusting Obamacare - National Journal: “In in\\xadter\\xadviews, Sen\\xadate Demo\\xadcrats poin\\xadted to items like sort\\xading out the ‘Ca\\xaddillac tax,’ build\\xading on de\\xadliv\\xadery-sys\\xadtem re\\xadforms, mak\\xading sure states are af\\xadforded flex\\xadib\\xadil\\xadity in the law, and more. The Demo\\xadcrat\\xadic pres\\xadid\\xaden\\xadtial front-run\\xadner, Hil\\xadlary Clin\\xadton, has based her own health plat\\xadform on\\xa0pro\\xadtect\\xading and build\\xading on the Af\\xadford\\xadable Care Act. Her pro\\xadpos\\xadals in\\xadclude adding a new tax cred\\xadit to help with ex\\xadcess\\xadive out-of-pock\\xadet med\\xadic\\xadal costs, cap\\xadping monthly pre\\xadscrip\\xadtion-drug costs, and al\\xadlow\\xading three free sick vis\\xadits per year, to name a few.”\\n\\n#mediabuzz - Martha MacCallum and Bill Hemmer talk with host Howard Kurtz ahead of their Sunday town hall with voters in Philadelphia. Watch Sunday at 11 a.m. ET, with a second airing at 5 p.m.\\n\\n \\n\\n [Dem delegate count: Clinton 1893; Sanders 1180 (2,383 needed to win)]\\n\\n \\n\\n 10-POINT SCORE\\n\\n BBC: “Tom Lo, 17, has told Newsbeat that he was about 10 minutes into the test when [a deer] ran across a road right in front of his car. ‘I was picking up speed because it was a 60mph zone and all of a sudden I see a deer in front of me…So I hit my brake but unfortunately the deer was killed,’ he says. It happened on a road near Colchester [England]. ‘I pulled over after the incident and my driving instructor had a look at the car and checked the deer…‘He said there was nothing we could do and that it wasn’t my fault, so I was told to continue my test.’ Amazingly, Tom passed the driving test with two minor faults.”\\n\\n \\n\\n AND NOW A WORD FROM CHARLES…\\n\\n “I mean do we really have an epidemic of transgenders being evil in bathrooms across the country? I haven’t heard of a single case…This is a very small problem at the edges of the other problem having to do with gender identity that’s become national precisely because Republicans of North Carolina decided it was a problem.” – Charles Krauthammer on “Special Report with Bret Baier”\\n\\nChris Stirewalt\\xa0is digital politics editor for Fox News. Sally Persons contributed to this report. Want FOX News First in your inbox every day? Sign up\\xa0here.\\n\\nChris Stirewalt joined Fox News Channel (FNC) in July of 2010 and serves as digital politics editor based in Washington, D.C. \\xa0Additionally, he authors the daily \"Fox News First\" political news note and hosts \"Power Play,\" a feature video series, on FoxNews.com. Stirewalt makes frequent appearances on the network, including \"The Kelly File,\" \"Special Report with Bret Baier,\" and \"Fox News Sunday with Chris Wallace.\" \\xa0He also provides expert political analysis for Fox News coverage of state, congressional and presidential elections.',\n",
              "  'Fitzgerald Griffin Foundation October 29, 2016 \\n[Classic: January 22, 1998] — Suddenly nobody is questioning Paula Jones’s veracity anymore. Mrs. Jones told a simple story and has stuck with it, while the president has shifted ground, equivocated with his patented “carefully worded denials,” and let his thuggish, blundering, and very expensive lawyer handle public relations. \\nThe Clinton team’s line, echoed by the major media until recently, has been that Mrs. Jones is “trailer-park trash” whose allegations are credible only to dirty-minded right-wing Clinton-haters. Never mind that her allegations are consistent with a great many other allegations from a great many sources. The Clinton strategy was to scare her off, and then, when that didn’t work, to make her character the issue, leaking their own allegations to the press. \\nBut her tenacity created enormous pressure, forcing the president to make a humiliating appearance in her presence a few days ago to give his deposition — and possibly to try to tamper with other witnesses. Only he knows how many other potential witnesses there are. \\nThe new charges of creepy lechery and criminality have finally cost Clinton his protective press. Though Newsweek spiked its own scoop, the story exploded anyway. All those journalists who have covered for Clinton now feel he’s yanked the rug out from under them once too often \\nAnd it happened because a story they didn’t want to dignify with coverage refused to go away. The story Newsweek spiked was written by Michael Isikoff, who had left the Washington Post in fury two years ago when the paper spiked a similar story he’d written on the Jones suit. But now the “respectable” press has finally caught up with the “crazy” press, leaving Hillary Clinton to repeat her usual gripe — Bill’s just the victim of someone’s political agenda — to an empty gallery. \\nClinton is standing on a precipice, staring down into the abyss of impeachment and prison. One nudge — another story, witness, allegation, or tape recording — could push him over. And the market value of any damaging evidence has skyrocketed, with the media fighting fiercely for the kind of information they used to spurn. He’s at the mercy of any bimbo who wants to step forward. \\nAfter being driven from office, Richard Nixon was able to make a comeback by claiming, however speciously, that his motive had always been to defend the dignity of the presidency. That’s a claim Clinton won’t be able to make. If he seduced a twenty-one-year-old White House intern and urged her to perjure herself for his sake, the dignity of the presidency was the last thing on his mind. Nor will he have the diehard it-didn’t-start-with-Watergate defenders Nixon had. In Clinton’s case, it started long ago in Arkansas. \\nHe arrived in Washington with a trail of sleazy rumors, some of them substantiated. The “respectable” press ignored all that, including the fact that Gennifer Flowers had enjoyed rapid promotion as a state employee (and had tapes of Clinton urging her to lie about their liaison). It ignored “right-wing” reports that he’d used state troopers to procure women. Such stories illustrated his readiness to abuse power for sleazy purposes, but they were treated as cheap sex gossip. When Paula Jones told her story, it fit the pattern — but was rejected as unworthy of serious attention. \\nNow that the pattern is undeniable, Clinton is still Clintonizing — issuing new carefully-worded-denials, as if he might yet exculpate himself with verbal cleverness. It hasn’t sunk in that he no longer has many supporters who will seize on any excuse for believing his version. His guilt isn’t an epistemological puzzle. \\nSupporting Clinton has become extremely costly. He has destroyed the Democrats’ congressional majorities in both houses, and though he managed to win reelection (by methods that will now get redoubled scrutiny), he has destroyed his own presidency. And his disgrace will be contagious. \\nThe major media should not be allowed to ask: “How were we supposed to know?” It’s their business to know — and to inform the public. But their job had to be done by Paula Jones and the “right-wing” press. ### \\nThis is one of 82 essays in Joe Sobran’s collection of his writing on the President Clinton years, titled Hustler: The Clinton Legacy , which has just been republished by FGF Books.',\n",
              "  'BOMBSHELL: Hillary Clinton’s Leaked Audio Proves She Rigs Elections Posted on October 30, 2016 by Dawn Parabellum in Politics Share This \\nAstonishing, newly released leaked audio of Democrat presidential candidate Hillary Clinton has just surfaced, and what it reveals is damning. In her own voice, we hear the corrupt Democrat telling reporters that elections can and should be rigged to ensure who wins. This throws the validity of every government on earth in the shredder because she isn’t only talking about rigging American presidential elections. \\nSince the FBI reopened their investigation into the criminal Democrat and Hillary seeks a powerful position to dictate the lives of others, it’s important to hear this audio. She is blatant when she say elections shouldn’t take place unless we make “sure that we did something to determine who was going to win.” \\nHear it from her own mouth: \\nHillary clearly said, “I do not think we should have pushed for an election in the Palestinian territories. I think that was a big mistake. And if we were going to push for an election, then we should have made sure that we did something to determine who was going to win. ” \\nThis conversation took place in 2006 during a discussion with Eli Chomsky, an editor and staff writer for the Jewish Press. At the time, Hillary Clinton was running for a “shoo-in re-election” as a U.S. senator. \\nHer trip, making the rounds of editorial boards, brought her to Brooklyn to meet the editorial board of the Jewish Press. Her conversation was secretly recorded, and the audio hasn’t been released until now. \\nAccording to Chomsky, this little audio clip has only been heard by the small handful of Jewish Press staffers in the room. He claims his copy is the only copy and no one has heard it since 2006 — until now. Election rigging Democrat, Hillary Clinton \\nIt proves she is willing to do whatever it takes to win. With massive amounts of voter fraud already being reported in favor of the most criminal and corrupt politician of our time, in combination with this audio, it’s hard to deny that Hillary wouldn’t rig the election to win. \\nLuckily, Americans are wising up to her disturbing antics. We all saw her cheat during the debates , and the proof came out in leaked emails, thanks to WikiLeaks. \\nIt’s important to hear this, coming directly from Hillary herself, and we can all tell that it is her voice. We all know she’s rigging this election to beat Donald Trump, but she obviously has had her hands in rigged elections before. \\nIt is hard to say how many elections across the globe she has influenced or just stolen. Hillary Clinton will stop at nothing to grab even a small amount of power, and she continues to prove she is as corrupt as they come.',\n",
              "  'We still do not know who or what is responsible for the crash of EgyptAir Flight 804, but we know this much for certain: The terrorist danger is growing, and it won’t be contained to the Mediterranean.\\n\\nResponding to criticism of President Obama’s handling of terrorism, White House press secretary Josh Earnest boasted Thursday of all the setbacks the Islamic State has experienced in recent months, noting that in Iraq “45 percent of the populated area that ISIL previously controlled has been retaken from them. In Syria, that figure is now 20 percent.”\\n\\nThat’s like a patient who ignored a cancer diagnosis bragging that he finally reduced the tumor in his lung — glossing over the fact that he let it spread and metastasize to his other organs. If he had attacked the Islamic State cancer early, Obama could have stopped it from spreading in the first place. But instead, he dismissed the terrorist group as the “JV team” that was “engaged in various local power struggles and disputes” and did not have “the capacity and reach of a bin Laden” and did not pose “a direct threat to us.” He did nothing, while the cancer grew in Syria and then spread in Iraq.\\n\\nNow the cancer has spread and metastasized across the world.\\n\\nAccording to a recent CNN analysis, since declaring its caliphate in 2014, the Islamic State has carried out 90 attacks in 21 countries outside of Iraq and Syria that have killed 1,390 people and injured more than 2,000 others. The Islamic State has a presence in more than a dozen countries and has declared “provinces” in Algeria, Libya, Egypt, Nigeria, Saudi Arabia, Yemen, Pakistan and Afghanistan. The Post reported in 2015 that “since the withdrawal of most U.S. and international troops in December, the Islamic State has steadily made inroads in Afghanistan” where it has “poured pepper into the wounds of their enemies .\\u2009.\\u2009. seared their hands in vats of boiling oil .\\u2009.\\u2009. blindfolded, tortured and blown apart [villagers] with explosives buried underneath them.”\\n\\nAnd while the Islamic State spreads and grows, al-Qaeda is making a comeback. Obama is touting the killing of Taliban leader Akhtar Mohammad Mansour as “an important milestone,” but the truth is that the Taliban has made major military gains in Afghanistan — and that has opened the door to al-Qaeda. The Post reported in October that “American airstrikes targeted what was ‘probably the largest’ al-Qaeda training camp found in the 14-year Afghan war.” Sounds good except for one small problem: There were no major al-Qaeda camps in Afghanistan when Obama took office. Now it is once again training terrorists in the land where it trained operatives for the attacks of Sept. 11, 2001.\\n\\nAl-Qaeda has also regained lost ground in Yemen, the country where it trained and deployed the underwear bomber who nearly blew up a plane bound for Detroit in 2009. And as a recent report from the Institute for the Study of War and the American Enterprise Institute’s Critical Threats Project notes, the “Syrian al Qaeda affiliate Jabhat al Nusra poses one of the most significant long-term threats of any Salafi-jihadi group” and “is much more dangerous to the U.S. than the ISIS model in the long run.”\\n\\nOverall, Gen. Jack Keane recently testified that al-Qaeda has “grown fourfold in the last five years.”\\n\\nWe’re lying to ourselves if we think that the violence we are witnessing is going to be confined to the Middle East .\\u2009.\\u2009. or South Asia .\\u2009.\\u2009. or North Africa .\\u2009.\\u2009. or Europe. It is only a matter of time before the Islamic State and al-Qaeda bring this violence here to our shores.\\n\\nIndeed, in many ways we face a situation far more dangerous and complex than we did before Sept. 11, 2001. Before 9/11, we largely faced a danger from one terrorist network (al-Qaeda) with safe haven in one nation (Afghanistan). Today, we face danger from multiple terrorist networks with safe havens in a dozen or more countries.\\n\\nMoreover, we face something we have never seen before: two terrorist networks — the Islamic State and al-Qaeda — competing with each other for the hearts of the jihadi faithful and the backing of jihadi financiers. The way to win that competition is to be the first to carry out a catastrophic attack here in the United States.\\n\\nWhen it came to terrorist networks, the George W. Bush administration had a mantra: We’re going to fight them over there so that we do not have to face them here at home. Obama abandoned that mantra. And now the danger is getting closer to home with each passing day.\\n\\nRead more from Marc Thiessen’s archive, follow him on Twitter or subscribe to his updates on Facebook.',\n",
              "  'Democratic presidential candidate Hillary Clinton said Sunday that the United States is \"not winning\" the battle against the Islamic State and called on Congress to update the use-of-force authorization passed after Sept. 11, 2001, to give President Obama more options to fight the militant group. But she stopped short of calling for a declaration of war.\\n\\nClinton said she expects to hear Obama discuss an \"intensification\" of efforts to fight terrorism when he delivers a prime-time address from the Oval Office on Sunday night. White House press secretary Josh Earnest said in a statement that the president will detail \"the steps our government is taking to fulfill his highest priority: keeping the American people safe.\"\\n\\nClinton seemed to think that message might not go far enough. \"I think ...that\\'s what we\\'ll hear from the president, an intensification of the existing strategy,\" she said, in response to a question from George Stephanopoulos on ABC\\'s \"This Week.\" \"And I think there\\'s some additional steps we have to take.\"\\n\\nRepublican presidential candidates who appeared on the Sunday talk shows, such as former Florida governor Jeb Bush, Ohio Gov. John Kasich and Sen. Marco Rubio (R-Fla.), repeated their attack that the president has no strategy to defeat the group, and called on him to commit to some type of military ground strategy in addition to airstrikes.\\n\\n\"We\\'re\\xa0not winning, but it\\'s too soon to say that we are doing everything we need to do,\" Clinton said. \"And I\\'ve outlined very clearly\\xa0we have to fight them in the air, we have to fight them on ground, and we have to fight on the Internet. And we have to do everything we can with our friends and partners around the world to protect ourselves.\"\\n\\n\"I think ...that\\'s what we\\'ll hear from the president, an intensification of the existing strategy, and I think there\\'s some additional steps we have to take.\"\\n\\nRepublican presidential candidate Jeb Bush, who appeared later in the show, said Clinton was playing word games. \"They are\\xa0at war with us and we should have a strategy not just to restrain but to destroy them,\" Bush said. \"We have to get the lawyers off the war-fighters\\' backs.\"\\n\\nBush joined Rubio and Kasich Sunday in saying that the Senate was right to reject gun-control legislation offered by Democrats in the wake of the San Bernardino, Calif., shooting.\\n\\nBut Clinton, in arguing for additional gun control, linked the San Bernardino attacks with shootings within recent weeks that were no related to international terrorism.\\n\\n\"What happened in San Bernardino was a terrorist act. Nobody is arguing with that. The law enforcement, FBI have come to that conclusion. And let\\'s not forget, though, a week before we had an American assault on Planned Parenthood and some weeks before that we had an assault at a community college,\" Clinton said.\\n\\n\"So I don\\'t see these two as in any way contradictory,\" she added. \"We have to up our game against terrorists abroad and at home, and we have to take account of the fact that our gun laws and the easy access to those guns by people who shouldn\\'t get them, mentally ill people, fugitives, felons and the Congress continuing to refuse to prohibit people on the no-fly list from getting guns, which include a lot of domestic and international terrorists, these are two parts of the same approach that I\\'m taking to make us safe.\"\\n\\nVermont Sen. Bernie Sanders, who also is running for the Democratic nomination, agreed with Clinton about banning people on no-fly and watch lists from buying guns. The two have sparred over his commitment to gun control because Sanders voted a decade ago for a comprehensive gun bill that included amnesty from lawsuits for \\xa0gun manufacturers.\\n\\nSanders, on CBS’s “Face the Nation” Sunday cautioned that gun control was not the solution to stopping terrorism. “I don\\'t think anybody believes it\\'s a magic formula,” he said, later adding, “I don\\'t think it\\'s very hard to understand that terrorists or potential terrorists should not have guns. People who are being barred from flying on airplanes should not have guns.”\\n\\nReferring to Obama’s upcoming address on terrorism, Dickerson asked Sanders what he would say to the public if he were president. “What I would say is that we have got to be as aggressive as we can in destroying ISIS, but we have to learn the lessons of the past,” Sanders said. \"And that means we cannot do it alone. It must be an international coalition, in which the Muslim nations are the troops on the ground.\"\\n\\nRepublican candidates argued that prohibiting people on watch lists from purchasing guns was ineffective because the lists are inaccurate. Rubio and Bush noted that the late Democratic Sen. Edward Kennedy\\'s name appeared on a no-fly list. Instead, they say, Obama needs to come up with a plan to defeat the Islamic State in Syria and Iraq to reduce the chances of more attacks on U.S. soil.\\n\\nRubio, during an interview on CNN\\'s \"State of the Union,\" said the no-fly list \"is not a perfect database\" and \"shouldn\\'t be used as a tool to impede 700,000 Americans or potential Americans -- people on that list from having access to be able to fully utilize their Second Amendment rights.\"\\n\\n\"The first impulse of Hillary Clinton and Barack Obama is to have gun control,\" Bush said. \"Let\\'s have a strategy to take out ISIS there so we don\\'t have to deal with them here.\" ISIS is an alternative acronym for the Islamic State.\\n\\nClinton again rejected the use of the term \"radical Islam\" arguing \"that sounds like we are declaring war against a religion ... I don\\'t want to do that because, number one, it doesn\\'t do justice to the vast numbers of Muslims in our own country and around the world who are peaceful people.\" She said the term also \"helps to create this clash of civilizations that is actually a recruiting tool for ISIS and other radical jihadists who use this as a way of saying we\\'re in a war against the West. You must join us. If you are a Muslim, you must join us.\"\\n\\nDonald Trump immediately attacked Clinton, saying on Twitter that she was \"afraid\" to use that language.\\n\\nNew Jersey Gov. Chris Christie also criticized Democrats for avoiding the term. \"This is the problem with the president and with Secretary Clinton, who provide leadership by euphemism. They won\\'t say radical Islamic jihadists,\" Christie said on CBS\\'s \"Face the Nation.\"\\n\\n\"Now, when you say radical Islamic jihadists, they understand, the rest of the Muslim community understands, the folks who are peaceful, and who attend mosques in a peaceful way, work in our country, raise their families, pay their taxes, they know they\\'re not radical Islamic jihadists,\" he said. \"That\\'s why we need to use the words, because it differentiates them from the peaceful, law-abiding American Muslims who play by the rules and raise their families and don\\'t want to see this kind of conduct going on.\"',\n",
              "  'Around the world, markets are in chaos. Japan\\'s stock market plunged 5 percent on Friday, while markets in France, Germany, and the UK all saw big losses on Thursday. The US stock market is doing better than most, but it is also down since the start of the year. Oil hit a new low on Thursday of $26 per barrel.\\n\\nThese declines reflect growing concerns that the world economy is headed for another recession. Before 2007 we’d say, \"If things get bad, the Fed will cut interest rates.\" But with the Fed’s benchmark rate below 0.5 percent already, a substantial cut would mean rates that are below zero. That\\'s an unorthodox strategy, and it might not even be legal, according to testimony by Fed Chair Janet Yellen before congressional committees this week.\\n\\nThe Fed needs a new strategy: Stop targeting interest rates and instead target the growth of the overall economy. Moving away from interest rate targeting would give markets confidence that the Fed has the tools to deal with the next economic downturn, which would reduce the danger of another 2008-style meltdown.\\n\\nUnfortunately, there\\'s little sign that the Fed is laying the groundwork for a shift in strategy. Instead, Yellen seemed to be in denial about the magnitude of the challenge she is facing.\\n\\n\"Let’s remember that the labor market is continuing to perform well,\" she said to the Senate Banking Committee on Thursday. \"We want to be careful not to jump to a conclusion about what is in store for the economy.\" Maybe not — but the Fed needs to be prepared for the worst.\\n\\n\"The Fed needs to change their fundamental approach,\" argues Scott Sumner, a monetary policy expert at the Mercatus Center. Right now the Fed\\'s policy discussions are all about where to set short-term interest rates. But not only does that approach stop working when interest rates fall to zero — as they did in 2008 — but interest rates aren\\'t even what people actually care about.\\n\\nInstead, Sumner argues, the Fed should start directly targeting a variable people do care about: either the inflation rate or (even better) the total amount of spending in the economy. He argues that the Fed should focus on setting long-run goals for these variables and then doing whatever it takes to meet those goals.\\n\\nThe Fed currently has an official target of 2 percent inflation. But the central bank\\'s actions make it clear that it\\'s not serious about this target. Last December, for example, the Fed\\'s own forecast showed that inflation would be around 1.6 percent in 2016 — and the forecast inflation rate had actually been falling. Yet the Fed raised interest rates anyway. That was a pretty clear signal to the markets that the Fed cared more about returning to \"normal\" interest rates than it did about achieving its inflation target.\\n\\nThe problem isn\\'t just that the economy will grow a little bit slower in early 2016 than it could have otherwise. By ignoring its own targets, the Fed sent a message that it wasn\\'t really committed to robust growth over the long run, which undermines businesses\\' confidence in the recovery and discourages investment.\\n\\nThe solution, Sumner argues, is for the Fed to use a strategy called level targeting to make its own targets more credible. Under a level targeting regime, the Fed would compensate for missing its target in one year by overshooting the following year. For example, in 2015, the Fed\\'s preferred measure of inflation came in at 1.4 percent — 0.6 percent below the Fed\\'s 2 percent target. Under level targeting, the Fed would aim to achieve 2.6 percent inflation in 2016, delivering 2 percent inflation on average in 2015 to 2016. That would not only support faster economic growth in 2016, it would also give the markets more confidence in the Fed\\'s forecasts for 2017, 2018, and beyond.\\n\\nAbandoning interest rate targeting might seem radical, but the Fed has actually done it once before, in the late 1970s. Back then, it seemed that no matter how high the Fed raised interest rates, it couldn\\'t get inflation under control. So in 1979, the Fed stopped targeting interest rates altogether.\\n\\nInstead, it simply set a target for the total amount of money in the economy. Fed Chair Paul Volcker knew that if the amount of money in circulation stopped rising, the inflation rate would eventually have to stop rising too. It took a couple of years (and helped induce a major recession in 1980), but it worked.\\n\\nA big reason the strategy worked is that markets believed Volcker was serious about the target. Targeting the money supply directly signaled he was willing to let interest rates go as high as they had to in order to get inflation under control. Once markets believed he was serious, they started doing a lot of his work for him — and businesses began to curtail price increases in the expectation that the overall inflation rate was going to decline.\\n\\nToday we\\'re facing the reverse situation. A big reason the economy has been recovering so slowly is that businesses are worried about sluggish growth — or, worse, another 2008-style meltdown — in the coming years. So they\\'ve been reluctant to invest, making slow growth a self-fulfilling prophecy.\\n\\nIf the Fed can convince businesses that it\\'s serious about delivering consistent growth, businesses will start investing more in the expectation that demand for their products will grow — and that investment will itself produce growth.\\n\\nLevel targeting is a strategy for giving the market more confidence in the Fed\\'s long-term targets. And while inflation-based level targeting would work better than what we\\'re doing now, Sumner argues that the best strategy would be to target the total amount of spending in the economy. This approach, known as nominal GDP targeting, has been endorsed by prominent economists such as Christina Romer.\\n\\nThere are two big problems with the Fed\\'s current strategy of focusing on interest rates. The obvious one is that once rates hit zero, the conventional approach to monetary policy becomes ineffective. After rates hit zero in 2008, the Fed was forced to use an ad hoc strategy known as \"quantitative easing\" to pump more money into the economy. Lacking experience with this new strategy, the Fed twice made the mistake of ending easing too early, slowing the economic recovery between 2010 and 2012.\\n\\nThe larger problem with zero interest rates, however, is politics. People are used to thinking of low interest rates as a sign of easy money and vice versa, so the zero interest rate struck many as a sign of recklessly easy monetary policy. In the years after the financial crisis, critics warned that Fed policies would create runaway inflation.\\n\\nIn retrospect, it\\'s clear that these concerns were unfounded. The average inflation rate since 2008 has been well below the Fed\\'s 2 percent target, while the economy has suffered from persistently slow job and wage growth. But fear of a political backlash for doing \"too much\" discouraged Yellen\\'s predecessor, Ben Bernanke, from acting decisively to promote economic growth.\\n\\nMore recently, the Fed has come under a lot of pressure to \"normalize\" — that is, raise — rates above zero percent. After resisting these pressures for most of 2015, the central bank finally pulled the trigger in December, boosting its target rate from zero percent to 0.25 percent. It did this despite the fact that — as Vox\\'s Matt Yglesias pointed out at the time — most economic indicators suggested that a rate hike would do more harm than good.\\n\\nThis is the flip side of the situation the Fed faced in the 1970s. Because interest rates were high, many people thought monetary policy was too tight, and the Fed faced a lot of pressure to cut rates. But cutting rates triggered another wave of inflation, forcing the Fed to raise rates once again. Interest rate targets had become a distraction, and abandoning them helped Volcker focus on the variable he really cared about: inflation.\\n\\nNegative interest rates are one way the Fed could try to salvage the current regime of focusing on interest rates. But it\\'s not a very good one.\\n\\nJust as you might have a savings account with your bank, so a nation\\'s banks all have accounts with their nation\\'s central bank. The money deposited in these accounts is called reserves, and in recent years a lot of banks around the world have chosen to build up huge reserve war chests. That\\'s frustrating to central bankers who have been trying to encourage banks to stimulate economic activity by lending out the money.\\n\\nSo recently Japan\\'s central bank and some central banks in Europe have been experimenting with negative interest rates on reserves. Last month, the Japanese central bank announced that banks would be assessed a 0.1 percent penalty on their reserves — an interest rate of -0.1 percent. A bank with a billion yen deposited with the Bank of Japan will now have to pay 1 million yen per year for the privilege.\\n\\nObviously, 0.1 percent is not a very big number, so the direct effects of Japan\\'s new policy won\\'t be very large. But going negative breaks through an important psychological barrier — once a central bank has instituted a slightly negative interest rate, it\\'s more likely to cut rates further in the future.\\n\\nIn her testimony before Congress this week, Yellen was pressed on whether the Fed would follow its European and Japanese counterparts and impose a penalty on reserves. Yellen demurred, saying that the Fed\\'s experts were still studying whether negative interest rates would be legal and technically feasible.\\n\\nBut even if the Fed ultimately decides to adopt negative rates, there are real limits on how far they can go. If negative interest rates get too steep, banks have an obvious alternative: They can get physical cash and store it in a big warehouse. By definition, cash is worth as many dollars a year from now as it is today.\\n\\nThere are a couple of ways central banks could try to make negative interest rates more feasible. University of Michigan economist Miles Kimball, for example, advocates a shift to a new form of electronic money that would allow central banks to impose economy-wide negative interest rates. Others argue that the Fed should raise its inflation target so that real, inflation-adjusted interest rates can go lower. But not only do both of these approaches have technical challenges, they\\'re also likely to be intensely unpopular with voters.\\n\\nSo even if the Fed adopted negative rates, it wouldn\\'t improve the effectiveness of the current interest rate targeting regime very much. Just as the Fed got stuck at zero percent interest rates in 2008, it could get stuck at -1 percent interest rates in 2017 or 2018. So the Fed is going to need a new framework that\\'s less dependent on interest rates regardless. It might as well get started.',\n",
              "  'Sinjar, Iraq (CNN) Plumes of smoke blackened the sky above Sinjar as Kurdish forces, backed by intense coalition air support, tried Thursday to take back the northern Iraqi town from ISIS .\\n\\nThe operation includes up to 7,500 Peshmergas -- the Kurdish military force -- who are attacking the city from three sides to take control of supply routes, according to the Kurdish Region Security Council.\\n\\nCNN senior international correspondent Nick Paton Walsh is with one of the three fronts of fighters who launched their liberation operation early Thursday morning against a backdrop of airstrikes.\\n\\nThe U.S.-backed coalition Operation Inherent Resolve said coalition aircraft have conducted more than 250 airstrikes across northern Iraq in the last month. The strikes have reportedly destroyed ISIS fighting positions, command and control facilities, weapon storage facilities, improvised explosive device factories, and staging areas.\\n\\n\"A pitch-black sky was lit up by a lot of coalition airstrikes following days of bombing. At dawn, a large procession of Peshmerga started snaking their way through Sinjar mountain and behind it,\" Paton Walsh said.\\n\\nThe coalition strikes were pounding the strategic city itself, he said, with four different columns of smoke darkening the horizon above: \"The strikes on Sinjar almost make the sky over it look black. There\\'s a vast amount of air power -- more intense than the fight for Kobani.\"\\n\\nAccording to a Pentagon spokesman, U.S. troops are in the field calling in airstrikes from positions in Sinjar.\\n\\n\"The Peshmerga forces are carrying this out with, as you said, the support of coalition advisers. There are U.S. personnel. My understanding is there are coalition advisers from other countries as well participating,\" Pentagon spokesman Peter Cook told reporters.\\n\\nHe added: \"Most of those folks as I understand it are behind the front lines advising and working directly with Peshmerga commanders. There are some advisers who are on Sinjar mountain assisting in the selection of airstrike targets.\"\\n\\nLate Thursday, the Kurdish Region Security Council released a statement detailing the day\\'s operations. It reported that more than 150 square kilometers (60 square miles) had been retaken from ISIS.\\n\\n\"Peshmerga units will continue from three fronts to set up defensive positions, allowing engineering teams to clear the heavily mined area. Peshmerga forces have already achieved two of three strategic goals, dealing a significant blow to ISIL morals,\" it read, using an alternative acronym for ISIS. \"The final objective -- to enter and clear the city -- will be underway soon.\"\\n\\nReclaiming Sinjar is one big step toward dividing the \"caliphate\" that ISIS claims it is establishing across the region.\\n\\nThe artery that passes through the town links the Iraqi city of Mosul -- ISIS\\' prized possession -- with cities it holds in Syria.\\n\\nPaton Walsh said the highway was a key goal for the Kurdish fighters, who were equipped with vehicles ranging from pickup trucks to armored Humvees.\\n\\n\"One of the targets of this offensive is the highway that runs through Sinjar, known as Route No. 47 to many. Now that\\'s very important, not only of course because of what it does to liberate the population of Sinjar -- those who\\'ve not fled ISIS rule having endured it now for over a year -- but also because it is a vital supply route towards Mosul, another key target of any future coalition offensive,\" he said.\\n\\nAbout 1.5 million people still live in Mosul, where prices are rising and activists report hunger.\\n\\nThe U.S.-backed coalition said \"Operation Free Sinjar\" was aimed at clearing ISIS from Sinjar and seizing portions of Highway 47.\\n\\n\"By controlling Highway 47, which is used by Da\\'ish to transport weapons, fighters, illicit oil, and other commodities that fund their operations, the Coalition intends to increase pressure on Da\\'ish and isolate their components from each other,\" it said in a statement. Da\\'ish is the Arabic acronym for ISIS.\\n\\n\"This operation will degrade Da\\'ish\\'s resupply efforts, disrupt funding to the terrorist group\\'s operations, stem the flow of Da\\'ish fighters into Iraq, and further isolate Mosul from Ar Raqqah,\" said coalition spokesman Col. Christopher C. Garver. The Syrian city of Ar Raqqah, also spelled Raqqa, is ISIS\\' de facto capital.\\n\\nBy Thursday afternoon, the Kurdish fighters pushing toward Sinjar had taken control of a number of villages near the Iraqi town.\\n\\n\"Along that highway there\\'s one village, Kabara, that\\'s been repeatedly hammered by airstrikes in the past hour or so and a lot of Kurdish forces have managed to move into the main road,\" Paton Walsh said. Tweets by Kurdish fighters showed that almost all the vehicles in the village had been \"burned to a crisp.\"\\n\\nBefore the push to retake Sinjar began, Kurdish fighters said they knew it wouldn\\'t be easy.\\n\\nPeshmerga commanders estimate some 600 ISIS fighters are inside Sinjar, with recent reinforcements boosting the militants\\' numbers. The Kurdish fighters believe they will encounter hundreds of landmines and booby traps.\\n\\nPaton Walsh said it was unclear how ISIS would respond to the offensive.\\n\\n\"As you\\'ve seen in the past, sometimes ISIS have decided that certain fights are not worth them staying for the long haul, and I think there is a certain amount of manpower and mass here -- and also coalition air power, which we heard from the top of Mount Sinjar, during a very dark, cold night yesterday, pound targets consistently around that particular city.\"\\n\\nPaton Walsh said there had been a \"substantial uptick\" in airstrikes on Sinjar in the days leading up to the launch of the offensive.\\n\\nSpeaking to CNN\\'s Fareed Zakaria, U.S. Secretary of State John Kerry said he\\'s confident Sinjar will fall, but was reluctant to say when.\\n\\n\"But I am convinced that Sinjar will be liberated, as we have liberated Tikrit. And currently the Iraqi forces are moving on Ramadi,\" he said.\\n\\n\"President Obama, at the very beginning, said we\\'re going to degrade and defeat ISIL. We\\'re going to stabilize the countries in the region -- Jordan, Lebanon, work with Turkey -- and we are going to seek a political settlement,\" he said. \"That is exactly the strategy today and it is working -- to a degree -- not as fast as we would like, perhaps, but we are making gains.\"\\n\\n\"I think the issue will be for ISIS, given the nature of the offensive -- from three different directions -- quite what their best strategy is: to sit here and try and symbolically hold it as long as they can, or pull out,\" Paton Walsh said.\\n\\n\"ISIS of course may also be feeling pressure on other fronts. There\\'s been a lot of talk about the possibility of a move against Ramadi for the past few months.\\n\\n\"We\\'ve not seen any evidence of that at this particular stage but there is a genuine feeling that maybe the coalition -- after months of paralysis, months of calm -- might also slowly be beginning to get some kind of harmony or synchronicity here in terms of moving on separate fronts against ISIS and perhaps stretching what resources they have a little bit thinner.\"\\n\\nA coalition spokesman in Baghdad told reporters later Thursday that Iraqi security forces had begun to encircle Ramadi, with support from coalition air power.\\n\\nISIS fighters swept into Ramadi in May, tightening control of Iraq\\'s Anbar province and gaining a base of operations about 110 kilometers (70 miles) away from the capital, Baghdad.\\n\\nPaton Walsh said the operation to retake Sinjar was important symbolically.\\n\\n\"The Peshmerga here want to show that they can be united with coalition air power, with Western military advisers, who we understand are in their midst here as well, to launch a successful -- and they hope brief -- offensive towards this town, but also strategically, because of what Sinjar could mean in the future, down the line.\"\\n\\nHe said the Kurdish fighters appeared optimistic they would take back Sinjar.\\n\\n\"I think the hope amongst the Peshmerga and the coalition is that the level of manpower they have here, their dominance in the skies, means potentially this could be over in days,\" he said. \"But with a town of this size which had tens of thousands living in it before -- which ISIS has had months to prepare for an onslaught against -- this could turn out to be trickier than some are hoping.\"\\n\\nRetired Lt. Col. Rick Francona, a CNN military analyst, agreed that the fight in Sinjar would be slow going.\\n\\n\"They\\'re going to have to slog through this house by house, street by street,\" he said. \"It\\'s going to be very difficult.\"\\n\\nMore than a year under ISIS\\n\\nSince then, Sinjar has become a chaotic jumble of demolished buildings held by ISIS fighters.\\n\\n\"There is no reliable estimate as to how many civilians still live inside of Sinjar,\" Paton Walsh said.\\n\\n\"You can tell how many seem to have fled, from the tents the Yazidis have erected up around Mount Sinjar -- even in this bitter cold -- still enduring a life here, wanting to be near their hometown. But that is the key concern obviously in situations like this. Many will be fearing that the amount of lead-up time has given ISIS adequate ability to ensure the civilian population are in place to assist them in protecting themselves.\"\\n\\nThe Peshmerga said they wanted to establish a buffer zone to protect the civilian population, but it was not entirely clear how that would physically work, Paton Walsh said.\\n\\nWith the operation to retake the town looming, some 5,000 Yazidi fighters were mobilized under the command of the Kurdish Peshmerga. Most are farmers; a very few have military experience.\\n\\nThe Yazidis are one of the world\\'s smallest and oldest monotheistic religious minorities. Their religion is considered a pre-Islamic sect that draws from Christianity, Judaism and the ancient monotheistic religion of Zoroastrianism. In ISIS\\' eyes, they\\'re infidels.\\n\\nThe Yazidis and Kurds have lived side by side for thousands of years and are friendly neighbors.\\n\\nThe Kurds are Sunni Muslims, who have their own unique language and culture. They occupy an autonomous region in northern Iraq, but the Kurdish homeland also covers portions of Iran, Turkey, Armenia and Syria.',\n",
              "  'Monsanto Behind 4-Years-in-the-Making, Failed Peace Deal in Colombia Nov 7, 2016 1 0 \\nColombians just refused a peace deal championed by President Juan Manuel Santos Calderón with the narrow margin of just .05% of the votes. This would have ended 52 years of war in the country that has resulted in 250,000 deaths thus far. \\nThough recent stories suggested the Revolutionary Armed Forces of Colombia (FARC) rebels who had been waging a guerilla war in Colombia had put down their arms , a surprising contributor to the prolonged hardship Colombians now face can be traced directly to Monsanto . \\nNegotiations for the failed peace deal took four long years, but behind the attempts to start fresh, with hopes of incorporating FARC rebels into civil Colombian life, the biotech and seed-monopolizing company, Monsanto, was waging a war of their own. \\nMembers of the FARC rebel resistance have spent decades roaming the jungles of Columbia – bathing in creeks and sleeping in crude campsites . They, like almost no other Colombian, are familiar with the U.S.-Colombian so-called anti-narcotic war which allows Monsanto to spray the air with glyphosate, widely known as the trademarked herbicide, Roundup. \\nOnce this herbicide reaches the jungle floor, it destroys not only coca, but also the many other plants that provide for indigenous Colombian’s needs. \\nThis practice began in the 1980s. In 1999 the campaign to spray glyphosate acquired an official status known as ‘Plan Colombia.’ Only just recently, the Colombian government defied the U.S. agreement and stopped the aerial spraying of crops used to make cocaine, ending the 20-year long, Monsanto-led environmental devastation. \\nWhat many don’t know is that the U.S. government pledged to fund the purchase of glyphosate herbicides from Monsanto, supply the aircraft equipped with the means to spray, and to train Colombian commandos to carry out the aerial onslaught . \\nThese planes faced an ongoing threat of receiving ground fire by FARC rebels. \\nFARC leader Timoleón Jiménez (real name is Rodrigo Londoño Echeverri), known as ‘Timochenko’ among partisans and a graduate of the Peoples’ Friendship University in Russia as well as a trained doctor, said in an interview to Colombian newspaper VOZ: \\n“In the regions, where farm communities live close to coca crops, the government accuses landowners of illegal coca production and using this excuse constantly air-sprays their fields with glyphosate. This chemical destroys coca randomly along with other agricultural crops, causing irretrievable harm to animals and people, especially to children, seniors and pregnant women.” \\nThe result was that rebels attempted to shoot down planes to escape chemical death. In an attempt to avoid the ground fire, the U.S.-supplied, Monsanto-herbicide-filled crop dusters would fly higher, but continue their spraying, becoming more willy-nilly in their aim. \\nThe Colombian tropical rainforests, are thus barbarically sprayed with millions of tons of Monsanto’s herbicide. This is extraordinarily troublesome due to the fact that Colombia is considered one of the most important countries for maintaining biodiversity, with almost 10% of all endemic plant species growing within its forests. \\nMoreover, 6 million Colombians have had to flee their homes due to Monsanto’s spraying . Instead of eradicating crops, you’d think the biotech company was trying to eradicate people. Indigenous Shuar leader from Scumbios, Ecuador explains the situation , \\n“We always used to have a pharmacy in the jungle. But now we can’t find the trees and animals that we need. The animals and fish have disappeared. The birds, too. We have never seen anything like this before. It has to be the result of the spraying. We notice the effects immediately after the area is sprayed. Birds, animals, and fish begin to disappear within a few weeks. The health effects linger for weeks, and even longer.” \\nAdditionally, soil has lost its fertility, water is polluted, and multi-generational homesteads are uprooted. Forests are quickly dying, also. \\nInstead of the land being shepherded by Colombians, biotech corporations use them to expand their genetically-modified crop empires, which are resistant to glyphosate. \\nWhat has assisted this expansion? The war against Colombian guerrillas. FARC representatives at peace talks in Havana were the ones who demanded Monsanto and the US stop spraying . \\nAs Russian journalist, Elena Sharoykina has stated , \\n“Despite the support of the head of the government, the glyphosate moratorium was criticized by the Colombian ‘war faction’ and its U.S. bosses. Juan Carlos Pinzón Bueno, the defense minister, Álvaro Uribe Vélez, the former head of the government, and Kevin Whitaker, the U.S. ambassador in Bogota, have publicly opposed it. They claimed it an undeserved concession for FARC and appealed to continue the aerial spraying of the herbicide ‘for the sake of combating narcotics’. \\nOf course, it’s not only about coca plantations. The U.S. uses the anti-narcotic campaign in Colombia as an easy excuse to eradicate FARC. Washington is usually surprisingly tolerant to drug production, when it brings profit. \\n. . .Nowadays, the estimated number of active FARC members hardly exceeds 5-6 thousand people. It’s naive to think that several thousand of rebels trapped in jungle can control a transnational joint venture known as the ‘Colombian cocaine industry’, worth tens of billions U.S. dollars .” \\nOne thing is clear in the face of a lost vote for peace. \\n“‘Glyphosate’ and ‘war’ have become synonyms now in Colombia. That is why the moratorium on the aerial spraying of the herbicide wouldn’t last long. Already in April 2016 the Colombian government under U.S. pressure and on the pretext of fighting the drug business resumed the use of glyphosate .”',\n",
              "  'Ellis Morning Editor \\nAn Anonymous source sends us some Java code with really special variable naming conventions. I can only assume this came from a plucky startup hoping to attract venture capital. import java.util.*; import java.awt.*; import javax.swing.*; import java.awt.event.*; public class Array implements ActionListener, MouseMotionListener, MouseListener { int $$_, _$$, $$$,$_$; JFrame $$$__$$$ = new JFrame(); boolean draw = true; JButton $$1 = new JButton(\"Line\"), $$2 = new JButton(\"Rectangle\"), $$3 = new JButton(\"Clear\"); ArrayList = new ArrayList<>(); JPanel aa$$aa = new JPanel(), _$$_$_ = new JPanel(), $0$0$ = new JPanel() { @Override public void paintComponent(Graphics g) { super.paintComponent(g); for (Shape i : ) { if (i.$s$ == true) { g.setColor(Color.green); g.drawLine(i.$$_,i._$$,i.$$$,i.$_$); } else { g.setColor(Color.red); g.fillPolygon(new int[] {i.$$_,i.$$_,i.$$$,i.$$$}, new int[] {i._$$,i.$_$,i.$_$,i._$$}, 4); } } if (draw) { g.setColor(Color.green); g.drawLine($$_,_$$,$$$,$_$); } else { g.setColor(Color.red); g.fillPolygon(new int[] {$$_,$$_,$$$,$$$}, new int[] {_$$,$_$,$_$,_$$}, 4); } } }; public Array () { aa$$aa.setLayout(new BoxLayout(aa$$aa, BoxLayout.Y_AXIS)); _$$_$_.add($$1); $$1.addActionListener(this); _$$_$_.add($$2); $$2.addActionListener(this); _$$_$_.add($$3); $$3.addActionListener(this); $0$0$.setPreferredSize(new Dimension(200, 200)); aa$$aa.add($0$0$); $0$0$.addMouseListener(this); $0$0$.addMouseMotionListener(this); aa$$aa.add(_$$_$_); $$$__$$$.add(aa$$aa); $$$__$$$.setSize(new Dimension(400, 400)); $$$__$$$.setVisible(true); $$$__$$$.setDefaultCloseOperation(JFrame.EXIT_ON_CLOSE); } public static void main(String[] args) { new Array(); } public void actionPerformed(ActionEvent e) { if (e.getSource() == $$1) { draw = true; } else if (e.getSource() == $$2) { draw = false; } else if (e.getSource() == $$3) { .clear(); } $$_ = 0; _$$ = 0; $$$ = 0; $_$ = 0; $$$__$$$.repaint(); } public void mousePressed(MouseEvent e) { $$_ = e.getX(); _$$ = e.getY(); $0$0$.repaint(); } public void mouseReleased(MouseEvent e) { $$$ = e.getX(); $_$ = e.getY(); .add(new Shape($$_,_$$,$$$,$_$, draw)); $$_=0; _$$=0; $_$=0; $_$=0; $$$__$$$.repaint(); } public void mouseEntered(MouseEvent e) { $$$__$$$.repaint(); } public void mouseExited(MouseEvent e) { $$$__$$$.repaint(); } public void mouseClicked(MouseEvent e) { $$$__$$$.repaint(); } public void mouseMoved(MouseEvent e) { $$$__$$$.repaint(); } public void mouseDragged(MouseEvent e) { $$$ = e.getX(); $_$ = e.getY(); $$$__$$$.repaint(); } class Shape { int $$_,_$$,$$$,$_$; boolean $s$; Shape(int xx, int yy, int x$, int y$, boolean tp) { $$_ = xx; _$$ = yy; $$$ = x$; $_$ = y$; $s$ = tp; } public String toString() { return \"\"+$$_+\" \"+_$$+\" \"+$$$+\" \"+$_$; } } } [Advertisement] Infrastructure as Code built from the start with first-class Windows functionality and an intuitive, visual user interface. Download Otter today!',\n",
              "  'They tease terrorists. The prophet Muhammad cries. A devout Muslim woman shows some leg, and more. They take on Pope Francis, German Chancellor Angela Merkel, French Prime Minister Manuel Valls. There are nuns, priests, rabbis and imams. They laugh at death itself.\\n\\nThe latest edition of Charlie Hebdo, the satirical newspaper attacked last week by Islamist extremists for lampooning the prophet Muhammad, became a symbol of freedom of expression as soon as it hit newsstands Wednesday — selling out millions of copies before dawn. Yet, in a country that mobilized Sunday by the millions in support of the paper’s right to mock, France also found itself facing a mounting debate over the limits of free speech within its borders.\\n\\nFrench authorities on Wednesday detained and charged a notorious comedian, Dieudonné M’bala M’bala, with “glorifying terrorism” for an ambiguous Facebook post Sunday that, to some, appeared to show support for the gunman who killed four people in a kosher market Friday.\\n\\nSince last week’s attacks, at least 54 people have faced similar charges — including several underage pranksters and drunken louts who were mouthing off. Authorities have used a beefed up anti-terrorism law passed last year to expedite their cases and issue harsher jail sentences — with one offender arrested Saturday already receiving a four-year sentence. The Justice Ministry has also issued fresh orders for prosecutors to crack down on “anti-Semitic and racist acts or speech.”\\n\\nLaurent Léger, an investigative journalist for Charlie Hebdo who survived the attack, said there was no comparing the newspaper to Dieudonné — a French showman of Cameroonian descent who popularized a Nazi-like salute and who jokes about the Holocaust.\\n\\n“Dieudonné does not know the Charlie spirit,” Léger said. “Charlie never glorified terrorism. Dieudonné is a bit too quick when he claims that his freedom of speech is being hampered. His attitude is just making things worse by continuing the confusion that is destroying this country.”\\n\\nYet others disagreed, saying France was in danger of trouncing the very right it is aiming to protect: freedom of expression.\\n\\n“We can definitely talk about hypocrisy here,” said Adrienne Charmet, campaign coordinator for La Quadrature du Net, a Paris-based Internet rights group. “In the past days, we have seen a lot of people condemned for putting out words, no matter how condemnable those words, and receiving sentences that seem quite exaggerated.”\\n\\n“French opinion is split in two,” she added. “Some see it as the worst possible response to last week’s attack, because many of those who have said these things were drunk, or teenagers, who did not know the weight of their words. But there is another segment of the population that does agree, because they feel these people are making themselves accomplices to terror. Either way, this crackdown on freedom of speech is a betrayal of last Sunday’s march.”\\n\\nCharlie Hebdo was undoubtedly the hottest property in town Wednesday, with lines snaking for blocks as Parisians clamored for copies that sold out within minutes. An initial print run of 3\\xa0million copies was expanded to 5\\xa0million when kiosks across the country ran out.\\n\\nSurviving staff members, who worked day and night after the Jan. 7 attack to ensure the issue came out on time, produced the paper. With their offices still roped off as a crime scene, the staff worked out of a conference room at the left-wing daily Libération. The offices there are being guarded around the clock by an extraordinary number of police officers and private security guards.\\n\\nThere was plenty inside the paper to stir controversy. The 16-page edition brims with the sort of irreverent, off-color humor that made Charlie famous — and infamous. No one is spared ridicule.\\n\\nIn one cartoon, two hooded terrorists are pictured in heaven, with one asking the other, “Where are the virgins?”\\n\\n“They’re with the Charlie staff, loser,” his accomplice replies.\\n\\nAnother pictures a harried and exhausted cartoonist hunched over his desk, with a caption that reads, “Cartooning at Charlie Hebdo, it’s 25 years of work.” The next panel shows hooded gunmen mowing people down with a Kalashnikov, accompanied by the words, “For a terrorist, it’s 25 seconds of work.”\\n\\nAs ever with Charlie Hebdo, the goal is to provoke, to stir debate and to make people laugh — while also reminding anyone who might think otherwise that reading Charlie can be distinctly discomfiting.\\n\\nThe paper’s lead editorial offers a vigorous defense of secular values, saying that staffers laughed when they heard that the bells of the Cathedral of Notre Dame would ring in their honor.\\n\\n“The millions of anonymous people, all the institutions, all the world leaders, all the politicians, all the intellectuals and media figures, all the religious dignitaries who proclaimed this week that ‘I am Charlie’ need to also know that that means, ‘I am secularism,’\\u2009” the editorial says.\\n\\nDelphine Ravion-Casalta, 39, spent an hour and a half visiting three newsstands Wednesday morning before she found her Charlie. She sipped coffee at a cafe, her copy proudly spread out before her, eagerly taking in every word.\\n\\n“In France, we’re still fighting for our freedom,” she said. “We had revolution for our freedom. A lot of revolutions. And great men like Voltaire and Rousseau. The fight for those ideas continues.”\\n\\nThe rush for copies of Charlie Hebdo came as French authorities detained and charged Dieudonné, 48. After the unity march that brought 1.5\\xa0million people onto the streets of Paris on Sunday, the comedian wrote: “After this historic, no legendary, march, a magic moment equal to the Big Bang which created the Universe, or in a smaller way comparable to the crowning of the [ancient king] Vercingétorix, I am going home. Let me say that this evening, as far as I am concerned, I feel I am Charlie Coulibaly.”\\n\\nCharlie Coulibaly is a reference to both Charlie Hebdo and Amedy Coulibaly, the gunman who killed four people in a Paris kosher market on Friday. The comedian, in a second Facebook post Monday, sought to clarify his remark, saying his purpose was “to make people laugh, and to laugh at death, since death makes fun of us all, as Charlie very well knows.” He concluded by saying, “They consider me to be Amedy Coulibaly when I am no different from a Charlie.”\\n\\nValls, speaking in the National Assembly, sought to draw a distinction between the creative caricatures of Charlie Hebdo and the comedian’s hate-based humor, while insisting that France was not compromising freedom of speech.\\n\\n“There is a fundamental difference between the freedom to be impertinent, and anti-Semitism, racism, glorification of terrorist acts and Holocaust denial, all of which are offenses, all of which are crimes, that justice should punish with the most severity,” he said.',\n",
              "  'We Are Change \\n\\nIn today’s political climate even our beer is up for debate. And why shouldn’t it be? This is America. We debate things here. That’s how democracy works. (At least when the issues aren’t taboo.) Recently, it’s shown up in the state of Pennsylvania with Eric Trump, Donald Trump’s son, garnering an endorsement for the Republican candidate from Yuengling, America’s oldest brewery.\\nAnd now the debate turns to political action.\\nWith the most recent statement from Richard “Dick” Yuengling Jr., the 73-year-old owner of D. G. Yuengling & Son’s, located in Pottsville, Pennsylvania — the seat of Schuylkill County — Yuengling said that his company was “behind” Trump. Inevitably, a lashing out occurred in the digital realm with regard to political correctness and expressively personal views. Customers weren’t pleased. They were offended. In fact, some even claimed that they’d never drink Yuengling again.\\nThis is what democracy is, and should be. Sure. And yet, something is lost in the politicized scramble of this ugly election year.\\nA Pennsylvania state representative, Brian Sims, announced on his Facebook page that he was saying “GOOD BYE” to Yuengling Brewery.\\n“I’m not normally one to call for boycotts but I absolutely believe that how we spend our dollars is a reflection of our votes and values! Supporting Yuengling Brewery, that uses my dollars to bolster a man, and an agenda, that wants to punish me for being a member of the LGBT community and punish the black and brown members of my community for not being white, is something I’m too smart and too grown up to do.” \\nSims represents the 182nd district of Philadelphia , which includes a majority of Center City, in addition to parts of Rittenhouse Square, Grays Ferry, and South Philadelphia. I live here. I walk those areas of the city.\\nAnd I see, feel, and hear other elements of our society that go unnoticed or receive little to no attention. To observe this sort of outcry against a presidential candidate is expectantly what democracy was birthed upon, as we know in the city of Philadelphia. We take action. (We like to think.) However, along the way I’ve seen the incessant results of many issues that get buried, in favor of political expediency and trending topics that ultimately define our aggressive actions towards “voting with our dollars”.\\nIf that’s the case, then what about all the other detriments to our standard of living? For instance, the opiate epidemic that is sweeping Pennsylvania and the surrounding states and the rest of the country by storm.\\nAccording to a June 2016 report from the Philadelphia Department of Public Health , entitled “The Epidemic of Overdoses From Opioids in Philadelphia”, drug deaths involving the fatal use of opioids, from 2000-2014, had tripled. In 2014, approximately 47,000 people died from overdoses in the U.S., according to the Centers for Disease Control & Prevention (CDC). Sixty-one percent of that total was attributed to the use of opioids.\\n“Since 1999, the number of prescriptions for pharmaceutical opioid pain relievers in the U.S. more than quadrupled.” \\nOpioid-related overdose deaths in Philadelphia were nearly three times higher in men than among women in 2015. Those deaths were also more than two times as high among whites, as opposed to deaths among African Americans.\\nBetween 2003 and 2015, in Philadelphia, cocaine and benzodiazepines were detected in overdose deaths in tandem with opioids at a rate of 70% and 90%, respectively. During that same period, overdose deaths related to heroin more than doubled in the city, with approximately 400 deaths reported in 2015.\\nIn that same year, there were nearly 700 drug overdose deaths in Philadelphia. That’s more than twice as many deaths from homicide in that same year.\\nFrom 2014-2015, 10% of the nearly 1,300 overdose deaths in Philadelphia were from non-residents. Most of those non-residents were people from New Jersey, Delaware, Maryland, and other parts of Pennsylvania.\\nOnce the president is elected, these issues won’t go away. In fact, they’re extant — some as a surrogate to the system we attribute to healthcare. (One of the most hotly contested issues of partisan bickering in the country.)\\nAdditionally, these effects are increasingly felt in Philadelphia hospitals.\\n“The percentage of Philadelphia hospital emergency department visits related to opioid overdoses increased from approximately 0.4% in 2007 to nearly 0.7% in 2015. In 2015, there were over 6,500 emergency department visits for opioid overdoses. For each opioid-related death, there were approximately 12 hospital emergency department visits.” \\nSo while the country politically corrects itself — whatever that means — myriad issues get buried beneath picking and choosing a side, in response to the emotional disturbances of partisan bickering.\\nRather than dealing with facts, the web of society becomes entangled with He Said, She Said.\\nUltimately, this coercive cultural backwardness and evolutionary substandard, the rattle-mouthed bickering of intellectual thought and deceptive, manipulative action, that matches up more closely with the reptilian species, rather than the spirit of the human heart and the cultural celebration of life and all its wonder, is exactly what gave rise to Trump.\\nAnd our opioid epidemic.\\nSomewhere along the way, the facts were buried beneath the lie. And the truth has become something else, entirely.\\n \\nSources\\nhttp://www.phillyvoice.com/beer-drinkers-disavow-yuengling-after-owner-shows-support-for-trump/ \\nThe post Political Correctness for Yuengling Brewery; What About Our Opioid Epidemic? appeared first on We Are Change .\\n',\n",
              "  'Comments \\nA private group of technical experts has reviewed meta-data about the Trump Organization’s internet usage and just concluded that the Republican nominee is using a personal email server to surreptitiously communicate from the Trump-email.com domain with a controversial Moscow-based bank, Alfa Bank. \\nThe timing of the Russian communications coincides perfectly with milestones throughout the election (see chart at bottom), and the very high level of secrecy deployed to hide them is going to be hard to explain away for the Trump campaign. \\nAdding fuel to the building controversy, when researchers contacted Alfa Bank for comment, the Trump Organization quickly shut down the server: \\nThe Times hadn’t yet been in touch with the Trump campaign—Lichtblau spoke with the campaign a week later—but shortly after it reached out to Alfa, the Trump domain name in question seemed to suddenly stop working. \\nThe computer scientists believe there was one logical conclusion to be drawn: The Trump Organization shut down the server after Alfa was told that the Times might expose the connection. Weaver told me the Trump domain was “very sloppily removed.” Or as another of the researchers put it, it looked like “the knee was hit in Moscow, the leg kicked in New York.” \\nBut with their eyes watching, the Trump Organization casually re-connected with Alfa Bank only four days later, on a different server. All of this was captured in the Domain Name System (DNS), which is the internet’s internal directory system. DNS leaves log records all over saying how often website visits happen, and it’s the very same web services which was attacked last week , taking down Twitter, The New York Times and others. DNS is the system that routes our internet requests using names instead of numbers, and it keeps logs with IP address numbers and timestamps. \\nIn this case, the meta-data practically screams to experts, because it shows that there is little other traffic of any other kind by design. As we learned from Edward Snowden, the meta-data of a situation is incomplete, but it can tell you a lot. \\nThe new domain is owned by one of Trump’s hospitality marketing contract companies, which dispels Trump’s blown cover story that the private server is just used for marketing. \\nDomain registration information also confirmed that the same marketing team works on both Trump-email.com and the new client-contact.com email addresses being used. Furthermore, the world-renowned technical expert Paul Vixie revealed that the Trump Organization went to extra-ordinary lengths to shut out all traffic that isn’t from Alfa Bank. \\nThere is a more sinister reason for creating a private email server that only participates in conversation with one specific party was identified by computing legend Paul Vixie: \\nEarlier this month, the group of computer scientists passed the logs to Paul Vixie . In the world of DNS experts, there’s no higher authority. Vixie wrote central strands of the DNS code that makes the internet work. After studying the logs, he concluded, “The parties were communicating in a secretive fashion. The operative word is secretive . This is more akin to what criminal syndicates do if they are putting together a project.” \\nPut differently, the logs suggested that Trump and Alfa had configured something like a digital hotline connecting the two entities, shutting out the rest of the world, and designed to obscure its own existence. Over the summer, the scientists observed the communications trail from a distance. \\nIronically, the academics and others started looking for foreign interference in order to protect both campaigns from outside meddling. It appears as if only one of the two campaigns conspired to that end: \\nThe computer scientists posited a logical hypothesis, which they set out to rigorously test: If the Russians were worming their way into the DNC, they might very well be attacking other entities central to the presidential campaign, including Donald Trump’s many servers. “We wanted to help defend both campaigns, because we wanted to preserve the integrity of the election,” says one of the academics, who works at a university that asked him not to speak with reporters because of the sensitive nature of his work. \\nWhen researchers contacted Alfa Bank for comment, suddenly the Trump Organization shut down their email domain quickly. \\nFour days later, the Trump Organization and Alfa Bank resumed communications – and it was the bank who contacted the Republican nominee’s company from Moscow, somehow knowing the new code to interact with the Trump private email server. \\nThis new information shows that after Trump asked Putin to hack America’s election to prejudice them against Democratic candidate Hillary Clinton in late July, traffic between the campaign and the Russian bank spiked. \\nIn the end, this is yet another matter that the FBI will surely have to investigate.. The question is: will they be fair and release the files from their inquiry in the kind of “act of radical transparency” that Director James Comey imposed on Hillary?',\n",
              "  'This video shows you how to structure water inexpensively using magnets and a kid’s toy (for less than $10). \\nHat tip, Minty! SF Source THE OLD LAB RAT Oct. 2016 Share this:',\n",
              "  \"a reply to: Violater1 She wants your vote. And she will say anything to get it. She changes her mind as fast as public opinion changes. ROFL Damm - If we could get someone in office who would change their opinion to public opinion AND FOLLOW THROUGH, they would be my hero. They spend all their money finding out what we want, then they lie. Why can't we just get a representative in office? edit on 26-10-2016 by Isurrender73 because: (no reason given)\",\n",
              "  \"Gold prices grow by $60 as Trump wins, US dollar trashed   Republican Donald Trump has won the US presidential election . Hillary Clinton congratulated her rival on the victory and refused to speak to her supporters. As Pravda.Ru has reported before, Trump's victory has greatly affected the state of affairs on world market s. During the last four hours, against the backdrop of the struggle between the presidential candidates, gold has risen in price by 4.5%, or $60. January futures for Brent oil fell by 2.2%. According to The Financial Times, the Mexican peso has fallen to a record low against the US dollar, having lost 13.1%, to 20.69. The Swiss franc has gained 1.9% vs. the US dollar to 0.9577. The Canadian dollar has declined to an eight-month low against the US currency. The Australian dollar has dropped by 1.9 percent to $0.7615. The pound sterling has gained 1.04 percent to $1.2513. The euro has climbed by 2.2 percent to $1.1261. Pravda.Ru Read article on the Russian version of Pravda.Ru WikiLeaks: Trump leads in global US elections\"],\n",
              " 'news_tokenized': tensor([[  101,  2431,  1572,  ...,   170,  1954,   102],\n",
              "         [  101,   115,   115,  ...,  1233,  1849,   102],\n",
              "         [  101, 13550,  9212,  ...,   117,  1105,   102],\n",
              "         ...,\n",
              "         [  101,  1188,  1888,  ...,     0,     0,     0],\n",
              "         [  101,   170,  7163,  ...,     0,     0,     0],\n",
              "         [  101,  3487,  7352,  ...,  3388,   122,   102]])}"
            ]
          },
          "metadata": {
            "tags": []
          },
          "execution_count": 66
        }
      ]
    },
    {
      "cell_type": "markdown",
      "metadata": {
        "id": "kx70_r5EipPf"
      },
      "source": [
        "# NewsClassifier class which needs to be implemented using pre-trained BERT"
      ]
    },
    {
      "cell_type": "code",
      "metadata": {
        "id": "I0Byi5Ib-p_d"
      },
      "source": [
        "#https://towardsdatascience.com/bert-text-classification-using-pytorch-723dfb8b6b5b\n",
        "\n",
        "class NewsClassifier(nn.Module):\n",
        "\n",
        "  def __init__(self, n_classes):\n",
        "    super(NewsClassifier, self).__init__()\n",
        "    #TODO1\n",
        "    #https://huggingface.co/transformers/pretrained_models.html for doc\n",
        "    options_name = \"bert-base-cased\"\n",
        "    self.n_classes = n_classes\n",
        "    self.encoder = BertModel.from_pretrained(options_name, num_labels = 2 )\n",
        "    #768 is the size of the hiddenlayer of the BertModel\n",
        "    #self.drop = nn.Dropout(p=0.3)\n",
        "    self.classifier = nn.Linear(768, n_classes)\n",
        "    \n",
        "    \n",
        "  \n",
        "  def forward(self, news_tokenized, attention_mask):\n",
        "    #TODO1\n",
        "    _, output = self.encoder(news_tokenized, attention_mask)[:2]\n",
        "    #output_droped = self.drop(output)\n",
        "    output_final = self.classifier(output)\n",
        "    \n",
        "\n",
        "    return output_final\n"
      ],
      "execution_count": null,
      "outputs": []
    },
    {
      "cell_type": "code",
      "metadata": {
        "id": "zeTAvB79_ttB"
      },
      "source": [
        "model = NewsClassifier(len(class_names))\n",
        "model = model.to(device)"
      ],
      "execution_count": null,
      "outputs": []
    },
    {
      "cell_type": "markdown",
      "metadata": {
        "id": "AL9IqTtYi1Pr"
      },
      "source": [
        "# Model can be trained using \"train_epoch\" function."
      ]
    },
    {
      "cell_type": "code",
      "metadata": {
        "id": "JLofG8FX_4ag"
      },
      "source": [
        "from tqdm import tqdm\n",
        "def train_epoch(model, data_loader, loss_fn, optimizer, device, n_examples):\n",
        "  model = model.train()\n",
        "\n",
        "  losses = []\n",
        "  correct_predictions = 0\n",
        "  \n",
        "  print(\"-----Training------\")\n",
        "  for d in tqdm(data_loader):\n",
        "    \n",
        "    news_tokenized = d[\"news_tokenized\"].to(device)\n",
        "    attention_mask = d[\"attention_mask\"].to(device)\n",
        "    labels = d[\"labels\"].to(device)\n",
        "\n",
        "    outputs = model(news_tokenized,attention_mask)\n",
        "    \n",
        "    \n",
        "\n",
        "    _, preds = torch.max(outputs, dim=1)\n",
        "    \n",
        "    loss = loss_fn(outputs, labels)\n",
        "\n",
        "    correct_predictions += torch.sum(preds == labels)\n",
        "    losses.append(loss.item())\n",
        "\n",
        "    loss.backward()\n",
        "    optimizer.step()\n",
        "    optimizer.zero_grad()\n",
        "\n",
        "  return correct_predictions.double() / n_examples, np.mean(losses)"
      ],
      "execution_count": null,
      "outputs": []
    },
    {
      "cell_type": "markdown",
      "metadata": {
        "id": "3u-71hYrjGn9"
      },
      "source": [
        "#\"eval_model\" is used evaluating validation and test dataset"
      ]
    },
    {
      "cell_type": "code",
      "metadata": {
        "id": "6TB_bWYd_-A5"
      },
      "source": [
        "def eval_model(model, data_loader, loss_fn, device, n_examples):\n",
        "  model = model.eval()\n",
        "\n",
        "  losses = []\n",
        "  correct_predictions = 0\n",
        "\n",
        "  print(\"-----Validation/Testing------\")\n",
        "  with torch.no_grad():\n",
        "    for d in tqdm(data_loader):\n",
        "      news_tokenized = d[\"news_tokenized\"].to(device)\n",
        "      attention_mask = d[\"attention_mask\"].to(device)\n",
        "      labels = d[\"labels\"].to(device)\n",
        "\n",
        "      outputs = model(news_tokenized,attention_mask)\n",
        "\n",
        "      _, preds = torch.max(outputs, dim=1)\n",
        "     \n",
        "      loss = loss_fn(outputs, labels)\n",
        "\n",
        "      correct_predictions += torch.sum(preds == labels)\n",
        "      losses.append(loss.item())\n",
        "\n",
        "  return correct_predictions.double() / n_examples, np.mean(losses)"
      ],
      "execution_count": null,
      "outputs": []
    },
    {
      "cell_type": "markdown",
      "metadata": {
        "id": "1yVRlI1gjRbj"
      },
      "source": [
        "# Initialize the hyperparameters"
      ]
    },
    {
      "cell_type": "code",
      "metadata": {
        "id": "ckwD0gApARFg"
      },
      "source": [
        "#TODO 2 : Initialize all the hyperparameters required for training\n",
        "\n",
        "\n",
        "loss_fn=nn.CrossEntropyLoss()\n",
        "learning_rate = 1e-5\n",
        "optimizer = optim.Adam(model.parameters(), lr=learning_rate)\n",
        "nr_train_examples = len(df_train) \n",
        "nr_val_examples = len(df_val)\n",
        "nr_test_examples = len(df_test)\n",
        "EPOCHS = 15\n",
        "#defines after how many steps we evalueted, if = 2, we evaluat after every second step\n",
        "eval_step = 1  \n"
      ],
      "execution_count": null,
      "outputs": []
    },
    {
      "cell_type": "markdown",
      "metadata": {
        "id": "IbN7IWafjVPo"
      },
      "source": [
        "# Implement the training loop using above functions"
      ]
    },
    {
      "cell_type": "code",
      "metadata": {
        "id": "I_rGjRMzAANC",
        "colab": {
          "base_uri": "https://localhost:8080/"
        },
        "outputId": "0b3d0a1d-2a68-454e-80cd-528f766b0094"
      },
      "source": [
        "\n",
        "#TODO3 Implement the training and validation loop\n",
        "%%time\n",
        "nr_training_steps = 0\n",
        "val_percentages = []\n",
        "losses = []\n",
        "for epoch in range(EPOCHS):\n",
        "  percent_correct, mean_loss = train_epoch(model, train_data_loader, loss_fn, optimizer, device, nr_train_examples)\n",
        "  nr_training_steps +=1;\n",
        "\n",
        "  if nr_training_steps % eval_step == 0:\n",
        "      percent_correct, mean_loss = eval_model(model, val_data_loader, loss_fn, device, nr_val_examples)\n",
        "      print(\"nr of trainigsteps:\" ,nr_training_steps)\n",
        "      print(\"percentage correct:\" ,percent_correct.item())\n",
        "      print(\"mean loss:\", mean_loss)\n",
        "      val_percentages.append(percent_correct.item())\n",
        "      losses.append(mean_loss)\n",
        "\n",
        "\n"
      ],
      "execution_count": null,
      "outputs": [
        {
          "output_type": "stream",
          "text": [
            "\r  0%|          | 0/119 [00:00<?, ?it/s]"
          ],
          "name": "stderr"
        },
        {
          "output_type": "stream",
          "text": [
            "-----Training------\n"
          ],
          "name": "stdout"
        },
        {
          "output_type": "stream",
          "text": [
            "100%|██████████| 119/119 [00:57<00:00,  2.07it/s]\n",
            "  0%|          | 0/139 [00:00<?, ?it/s]"
          ],
          "name": "stderr"
        },
        {
          "output_type": "stream",
          "text": [
            "-----Validation/Testing------\n"
          ],
          "name": "stdout"
        },
        {
          "output_type": "stream",
          "text": [
            "100%|██████████| 139/139 [00:33<00:00,  4.12it/s]\n",
            "  0%|          | 0/119 [00:00<?, ?it/s]"
          ],
          "name": "stderr"
        },
        {
          "output_type": "stream",
          "text": [
            "nr of trainigsteps: 1\n",
            "percentage correct: 0.9476770410464592\n",
            "mean loss: 0.1507809239057757\n",
            "-----Training------\n"
          ],
          "name": "stdout"
        },
        {
          "output_type": "stream",
          "text": [
            "100%|██████████| 119/119 [01:02<00:00,  1.92it/s]\n",
            "  0%|          | 0/139 [00:00<?, ?it/s]"
          ],
          "name": "stderr"
        },
        {
          "output_type": "stream",
          "text": [
            "-----Validation/Testing------\n"
          ],
          "name": "stdout"
        },
        {
          "output_type": "stream",
          "text": [
            "100%|██████████| 139/139 [00:34<00:00,  4.09it/s]\n",
            "  0%|          | 0/119 [00:00<?, ?it/s]"
          ],
          "name": "stderr"
        },
        {
          "output_type": "stream",
          "text": [
            "nr of trainigsteps: 2\n",
            "percentage correct: 0.9612088407758231\n",
            "mean loss: 0.11209603622153723\n",
            "-----Training------\n"
          ],
          "name": "stdout"
        },
        {
          "output_type": "stream",
          "text": [
            "100%|██████████| 119/119 [01:01<00:00,  1.92it/s]\n",
            "  0%|          | 0/139 [00:00<?, ?it/s]"
          ],
          "name": "stderr"
        },
        {
          "output_type": "stream",
          "text": [
            "-----Validation/Testing------\n"
          ],
          "name": "stdout"
        },
        {
          "output_type": "stream",
          "text": [
            "100%|██████████| 139/139 [00:34<00:00,  4.08it/s]\n",
            "  0%|          | 0/119 [00:00<?, ?it/s]"
          ],
          "name": "stderr"
        },
        {
          "output_type": "stream",
          "text": [
            "nr of trainigsteps: 3\n",
            "percentage correct: 0.9377537212449256\n",
            "mean loss: 0.19399076401718335\n",
            "-----Training------\n"
          ],
          "name": "stdout"
        },
        {
          "output_type": "stream",
          "text": [
            "100%|██████████| 119/119 [01:02<00:00,  1.91it/s]\n",
            "  0%|          | 0/139 [00:00<?, ?it/s]"
          ],
          "name": "stderr"
        },
        {
          "output_type": "stream",
          "text": [
            "-----Validation/Testing------\n"
          ],
          "name": "stdout"
        },
        {
          "output_type": "stream",
          "text": [
            "100%|██████████| 139/139 [00:33<00:00,  4.11it/s]\n",
            "  0%|          | 0/119 [00:00<?, ?it/s]"
          ],
          "name": "stderr"
        },
        {
          "output_type": "stream",
          "text": [
            "nr of trainigsteps: 4\n",
            "percentage correct: 0.9634641407307172\n",
            "mean loss: 0.1492788882083561\n",
            "-----Training------\n"
          ],
          "name": "stdout"
        },
        {
          "output_type": "stream",
          "text": [
            "100%|██████████| 119/119 [01:02<00:00,  1.92it/s]\n",
            "  0%|          | 0/139 [00:00<?, ?it/s]"
          ],
          "name": "stderr"
        },
        {
          "output_type": "stream",
          "text": [
            "-----Validation/Testing------\n"
          ],
          "name": "stdout"
        },
        {
          "output_type": "stream",
          "text": [
            "100%|██████████| 139/139 [00:33<00:00,  4.11it/s]\n",
            "  0%|          | 0/119 [00:00<?, ?it/s]"
          ],
          "name": "stderr"
        },
        {
          "output_type": "stream",
          "text": [
            "nr of trainigsteps: 5\n",
            "percentage correct: 0.9634641407307172\n",
            "mean loss: 0.13004866211085495\n",
            "-----Training------\n"
          ],
          "name": "stdout"
        },
        {
          "output_type": "stream",
          "text": [
            "100%|██████████| 119/119 [01:02<00:00,  1.92it/s]\n",
            "  0%|          | 0/139 [00:00<?, ?it/s]"
          ],
          "name": "stderr"
        },
        {
          "output_type": "stream",
          "text": [
            "-----Validation/Testing------\n"
          ],
          "name": "stdout"
        },
        {
          "output_type": "stream",
          "text": [
            "100%|██████████| 139/139 [00:34<00:00,  4.02it/s]\n",
            "  0%|          | 0/119 [00:00<?, ?it/s]"
          ],
          "name": "stderr"
        },
        {
          "output_type": "stream",
          "text": [
            "nr of trainigsteps: 6\n",
            "percentage correct: 0.9693279206134415\n",
            "mean loss: 0.15146924697428862\n",
            "-----Training------\n"
          ],
          "name": "stdout"
        },
        {
          "output_type": "stream",
          "text": [
            "100%|██████████| 119/119 [01:02<00:00,  1.92it/s]\n",
            "  0%|          | 0/139 [00:00<?, ?it/s]"
          ],
          "name": "stderr"
        },
        {
          "output_type": "stream",
          "text": [
            "-----Validation/Testing------\n"
          ],
          "name": "stdout"
        },
        {
          "output_type": "stream",
          "text": [
            "100%|██████████| 139/139 [00:34<00:00,  4.02it/s]\n",
            "  0%|          | 0/119 [00:00<?, ?it/s]"
          ],
          "name": "stderr"
        },
        {
          "output_type": "stream",
          "text": [
            "nr of trainigsteps: 7\n",
            "percentage correct: 0.9377537212449256\n",
            "mean loss: 0.1960725550265085\n",
            "-----Training------\n"
          ],
          "name": "stdout"
        },
        {
          "output_type": "stream",
          "text": [
            "100%|██████████| 119/119 [01:02<00:00,  1.92it/s]\n",
            "  0%|          | 0/139 [00:00<?, ?it/s]"
          ],
          "name": "stderr"
        },
        {
          "output_type": "stream",
          "text": [
            "-----Validation/Testing------\n"
          ],
          "name": "stdout"
        },
        {
          "output_type": "stream",
          "text": [
            "100%|██████████| 139/139 [00:34<00:00,  4.05it/s]\n",
            "  0%|          | 0/119 [00:00<?, ?it/s]"
          ],
          "name": "stderr"
        },
        {
          "output_type": "stream",
          "text": [
            "nr of trainigsteps: 8\n",
            "percentage correct: 0.9675236806495264\n",
            "mean loss: 0.14173782824181866\n",
            "-----Training------\n"
          ],
          "name": "stdout"
        },
        {
          "output_type": "stream",
          "text": [
            "100%|██████████| 119/119 [01:02<00:00,  1.91it/s]\n",
            "  0%|          | 0/139 [00:00<?, ?it/s]"
          ],
          "name": "stderr"
        },
        {
          "output_type": "stream",
          "text": [
            "-----Validation/Testing------\n"
          ],
          "name": "stdout"
        },
        {
          "output_type": "stream",
          "text": [
            "100%|██████████| 139/139 [00:34<00:00,  4.03it/s]\n",
            "  0%|          | 0/119 [00:00<?, ?it/s]"
          ],
          "name": "stderr"
        },
        {
          "output_type": "stream",
          "text": [
            "nr of trainigsteps: 9\n",
            "percentage correct: 0.9688768606224628\n",
            "mean loss: 0.15039408533384171\n",
            "-----Training------\n"
          ],
          "name": "stdout"
        },
        {
          "output_type": "stream",
          "text": [
            "100%|██████████| 119/119 [01:02<00:00,  1.91it/s]\n",
            "  0%|          | 0/139 [00:00<?, ?it/s]"
          ],
          "name": "stderr"
        },
        {
          "output_type": "stream",
          "text": [
            "-----Validation/Testing------\n"
          ],
          "name": "stdout"
        },
        {
          "output_type": "stream",
          "text": [
            "100%|██████████| 139/139 [00:34<00:00,  4.07it/s]\n",
            "  0%|          | 0/119 [00:00<?, ?it/s]"
          ],
          "name": "stderr"
        },
        {
          "output_type": "stream",
          "text": [
            "nr of trainigsteps: 10\n",
            "percentage correct: 0.9661705006765899\n",
            "mean loss: 0.18610932010103673\n",
            "-----Training------\n"
          ],
          "name": "stdout"
        },
        {
          "output_type": "stream",
          "text": [
            "100%|██████████| 119/119 [01:01<00:00,  1.92it/s]\n",
            "  0%|          | 0/139 [00:00<?, ?it/s]"
          ],
          "name": "stderr"
        },
        {
          "output_type": "stream",
          "text": [
            "-----Validation/Testing------\n"
          ],
          "name": "stdout"
        },
        {
          "output_type": "stream",
          "text": [
            "100%|██████████| 139/139 [00:33<00:00,  4.09it/s]\n",
            "  0%|          | 0/119 [00:00<?, ?it/s]"
          ],
          "name": "stderr"
        },
        {
          "output_type": "stream",
          "text": [
            "nr of trainigsteps: 11\n",
            "percentage correct: 0.9652683806946324\n",
            "mean loss: 0.1889040092983712\n",
            "-----Training------\n"
          ],
          "name": "stdout"
        },
        {
          "output_type": "stream",
          "text": [
            "100%|██████████| 119/119 [01:02<00:00,  1.91it/s]\n",
            "  0%|          | 0/139 [00:00<?, ?it/s]"
          ],
          "name": "stderr"
        },
        {
          "output_type": "stream",
          "text": [
            "-----Validation/Testing------\n"
          ],
          "name": "stdout"
        },
        {
          "output_type": "stream",
          "text": [
            "100%|██████████| 139/139 [00:33<00:00,  4.10it/s]\n",
            "  0%|          | 0/119 [00:00<?, ?it/s]"
          ],
          "name": "stderr"
        },
        {
          "output_type": "stream",
          "text": [
            "nr of trainigsteps: 12\n",
            "percentage correct: 0.9693279206134415\n",
            "mean loss: 0.16620835282093605\n",
            "-----Training------\n"
          ],
          "name": "stdout"
        },
        {
          "output_type": "stream",
          "text": [
            "100%|██████████| 119/119 [01:02<00:00,  1.92it/s]\n",
            "  0%|          | 0/139 [00:00<?, ?it/s]"
          ],
          "name": "stderr"
        },
        {
          "output_type": "stream",
          "text": [
            "-----Validation/Testing------\n"
          ],
          "name": "stdout"
        },
        {
          "output_type": "stream",
          "text": [
            "100%|██████████| 139/139 [00:34<00:00,  4.06it/s]\n",
            "  0%|          | 0/119 [00:00<?, ?it/s]"
          ],
          "name": "stderr"
        },
        {
          "output_type": "stream",
          "text": [
            "nr of trainigsteps: 13\n",
            "percentage correct: 0.9688768606224628\n",
            "mean loss: 0.17300744200385595\n",
            "-----Training------\n"
          ],
          "name": "stdout"
        },
        {
          "output_type": "stream",
          "text": [
            "100%|██████████| 119/119 [01:01<00:00,  1.93it/s]\n",
            "  0%|          | 0/139 [00:00<?, ?it/s]"
          ],
          "name": "stderr"
        },
        {
          "output_type": "stream",
          "text": [
            "-----Validation/Testing------\n"
          ],
          "name": "stdout"
        },
        {
          "output_type": "stream",
          "text": [
            "100%|██████████| 139/139 [00:34<00:00,  4.07it/s]\n",
            "  0%|          | 0/119 [00:00<?, ?it/s]"
          ],
          "name": "stderr"
        },
        {
          "output_type": "stream",
          "text": [
            "nr of trainigsteps: 14\n",
            "percentage correct: 0.968425800631484\n",
            "mean loss: 0.17824249939968737\n",
            "-----Training------\n"
          ],
          "name": "stdout"
        },
        {
          "output_type": "stream",
          "text": [
            "100%|██████████| 119/119 [01:01<00:00,  1.93it/s]\n",
            "  0%|          | 0/139 [00:00<?, ?it/s]"
          ],
          "name": "stderr"
        },
        {
          "output_type": "stream",
          "text": [
            "-----Validation/Testing------\n"
          ],
          "name": "stdout"
        },
        {
          "output_type": "stream",
          "text": [
            "100%|██████████| 139/139 [00:34<00:00,  4.08it/s]"
          ],
          "name": "stderr"
        },
        {
          "output_type": "stream",
          "text": [
            "nr of trainigsteps: 15\n",
            "percentage correct: 0.968425800631484\n",
            "mean loss: 0.1833526152138462\n",
            "CPU times: user 10min 20s, sys: 6min 29s, total: 16min 50s\n",
            "Wall time: 23min 57s\n"
          ],
          "name": "stdout"
        },
        {
          "output_type": "stream",
          "text": [
            "\n"
          ],
          "name": "stderr"
        }
      ]
    },
    {
      "cell_type": "code",
      "metadata": {
        "id": "Y-gtFoAIRooF",
        "colab": {
          "base_uri": "https://localhost:8080/"
        },
        "outputId": "03d1777c-244b-46bd-f304-a08fb0c61fc0"
      },
      "source": [
        "#to show the results of the model on the validation set in a nice form\n",
        "for i in range(0, len(val_percentages)):\n",
        "  print(\"validation step:\", i)\n",
        "  print(\"percentage correct:\", val_percentages[i])\n",
        "  print(\"mean loss:\", losses[i])\n",
        "  print(\" \")\n"
      ],
      "execution_count": null,
      "outputs": [
        {
          "output_type": "stream",
          "text": [
            "validation step: 0\n",
            "percentage correct: 0.9476770410464592\n",
            "mean loss: 0.1507809239057757\n",
            " \n",
            "validation step: 1\n",
            "percentage correct: 0.9612088407758231\n",
            "mean loss: 0.11209603622153723\n",
            " \n",
            "validation step: 2\n",
            "percentage correct: 0.9377537212449256\n",
            "mean loss: 0.19399076401718335\n",
            " \n",
            "validation step: 3\n",
            "percentage correct: 0.9634641407307172\n",
            "mean loss: 0.1492788882083561\n",
            " \n",
            "validation step: 4\n",
            "percentage correct: 0.9634641407307172\n",
            "mean loss: 0.13004866211085495\n",
            " \n",
            "validation step: 5\n",
            "percentage correct: 0.9693279206134415\n",
            "mean loss: 0.15146924697428862\n",
            " \n",
            "validation step: 6\n",
            "percentage correct: 0.9377537212449256\n",
            "mean loss: 0.1960725550265085\n",
            " \n",
            "validation step: 7\n",
            "percentage correct: 0.9675236806495264\n",
            "mean loss: 0.14173782824181866\n",
            " \n",
            "validation step: 8\n",
            "percentage correct: 0.9688768606224628\n",
            "mean loss: 0.15039408533384171\n",
            " \n",
            "validation step: 9\n",
            "percentage correct: 0.9661705006765899\n",
            "mean loss: 0.18610932010103673\n",
            " \n",
            "validation step: 10\n",
            "percentage correct: 0.9652683806946324\n",
            "mean loss: 0.1889040092983712\n",
            " \n",
            "validation step: 11\n",
            "percentage correct: 0.9693279206134415\n",
            "mean loss: 0.16620835282093605\n",
            " \n",
            "validation step: 12\n",
            "percentage correct: 0.9688768606224628\n",
            "mean loss: 0.17300744200385595\n",
            " \n",
            "validation step: 13\n",
            "percentage correct: 0.968425800631484\n",
            "mean loss: 0.17824249939968737\n",
            " \n",
            "validation step: 14\n",
            "percentage correct: 0.968425800631484\n",
            "mean loss: 0.1833526152138462\n",
            " \n"
          ],
          "name": "stdout"
        }
      ]
    },
    {
      "cell_type": "code",
      "metadata": {
        "id": "jbLdgiXgUIPl",
        "colab": {
          "base_uri": "https://localhost:8080/"
        },
        "outputId": "77c4e2f2-4119-4886-da9b-7076ac1823fe"
      },
      "source": [
        "# Todo 4 Evaluate the Model on Test set\n",
        "percent_correct, mean_loss = eval_model(model, test_data_loader, loss_fn, device, nr_test_examples)\n",
        "\n",
        "print(\"evaluation on test set, leads to the following results\")\n",
        "print(\"percentage correct:\" ,percent_correct.item())\n",
        "print(\"mean loss:\", mean_loss)\n"
      ],
      "execution_count": null,
      "outputs": [
        {
          "output_type": "stream",
          "text": [
            "\r  0%|          | 0/139 [00:00<?, ?it/s]"
          ],
          "name": "stderr"
        },
        {
          "output_type": "stream",
          "text": [
            "-----Validation/Testing------\n"
          ],
          "name": "stdout"
        },
        {
          "output_type": "stream",
          "text": [
            "100%|██████████| 139/139 [00:36<00:00,  3.80it/s]"
          ],
          "name": "stderr"
        },
        {
          "output_type": "stream",
          "text": [
            "evaluation on test set, leads to the following results\n",
            "percentage correct: 0.9585211902614968\n",
            "mean loss: 0.27223407857290893\n"
          ],
          "name": "stdout"
        },
        {
          "output_type": "stream",
          "text": [
            "\n"
          ],
          "name": "stderr"
        }
      ]
    }
  ]
}
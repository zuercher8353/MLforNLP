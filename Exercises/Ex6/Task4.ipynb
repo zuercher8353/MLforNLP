{
 "cells": [
  {
   "cell_type": "code",
   "execution_count": 36,
   "metadata": {},
   "outputs": [
    {
     "name": "stdout",
     "output_type": "stream",
     "text": [
      "tensor([[-1.1156],\n",
      "        [ 1.7415],\n",
      "        [-1.8116],\n",
      "        [ 0.9389]], requires_grad=True)\n"
     ]
    }
   ],
   "source": [
    "import torch\n",
    "import torch.nn as nn\n",
    "import torch.optim as optim\n",
    "\n",
    "\n",
    "input =  torch.randn(4, 3, requires_grad=True)\n",
    "targets = torch.randn(4, 1, requires_grad=True)\n",
    "print(targets)\n",
    "\n",
    "class Net(nn.Module):   \n",
    "    def __init__(self):\n",
    "        super(Net, self).__init__()\n",
    "        self.fc1 = nn.Linear(3,1)   # input dim = 3, output dim = 1, i.e. a simple perceptron\n",
    "        \n",
    "    def forward(self, x):\n",
    "        x = torch.sigmoid(self.fc1(x))  # non-linearity, no perceptron any longer\n",
    "        return x\n",
    "    \n",
    "net=Net()"
   ]
  },
  {
   "cell_type": "code",
   "execution_count": 35,
   "metadata": {},
   "outputs": [
    {
     "name": "stdout",
     "output_type": "stream",
     "text": [
      "tensor([[0.5176],\n",
      "        [0.5080],\n",
      "        [0.3443],\n",
      "        [0.3322]], grad_fn=<SigmoidBackward>)\n",
      "tensor(0.5007, grad_fn=<MeanBackward0>)\n"
     ]
    }
   ],
   "source": [
    "out = net(input)   # forward pass\n",
    "print(out)\n",
    "mse_loss = nn.MSELoss()\n",
    "loss=mse_loss(out,label)\n",
    "print(loss)\n"
   ]
  },
  {
   "cell_type": "code",
   "execution_count": null,
   "metadata": {},
   "outputs": [],
   "source": []
  },
  {
   "cell_type": "code",
   "execution_count": null,
   "metadata": {},
   "outputs": [],
   "source": []
  }
 ],
 "metadata": {
  "kernelspec": {
   "display_name": "Python 3",
   "language": "python",
   "name": "python3"
  },
  "language_info": {
   "codemirror_mode": {
    "name": "ipython",
    "version": 3
   },
   "file_extension": ".py",
   "mimetype": "text/x-python",
   "name": "python",
   "nbconvert_exporter": "python",
   "pygments_lexer": "ipython3",
   "version": "3.7.6"
  }
 },
 "nbformat": 4,
 "nbformat_minor": 4
}
